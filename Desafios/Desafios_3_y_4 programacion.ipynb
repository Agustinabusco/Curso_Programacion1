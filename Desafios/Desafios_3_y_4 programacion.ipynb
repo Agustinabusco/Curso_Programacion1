{
 "cells": [
  {
   "cell_type": "markdown",
   "id": "e2a03a6b",
   "metadata": {},
   "source": [
    "<a id=\"des3\"> </a>\n",
    "# Desafío 3: Convertidor de temperaturas\n",
    "Realizar conversiones de una temperatura dada en Celsius a Fahrenheit y Kelvin utilizando operaciones directas sobre las variables. Los cálculos se realizarán directamente al asignar los valores a las variables."
   ]
  },
  {
   "cell_type": "markdown",
   "id": "77724ae3",
   "metadata": {},
   "source": [
    "Explicación del ejercicio: Celda 1: Elegimos una temperatura, por ejemplo 25ºC. Celda 2: Convertir a Fahrenheit. Celda 3: Converitr a Kelvin. Celda 4: Mostrar los resultados.\n",
    "Fórmulas que vamos a utulizar: \n",
    "- Fahrenheit = (Celcius x 9/5) + 32\n",
    "- Kelvin = Celcius + 273.15"
   ]
  },
  {
   "cell_type": "code",
   "execution_count": 1,
   "id": "805470e6",
   "metadata": {},
   "outputs": [
    {
     "name": "stdout",
     "output_type": "stream",
     "text": [
      "Temperatura en Celsius: 25ºc\n",
      "Equivalente en Fahrenheit:  77.00ºF\n",
      "Equivalente en Kelvin:  298.15K\n"
     ]
    }
   ],
   "source": [
    "# Definimos la temperatura en Celcius\n",
    "celsius = 25\n",
    "celsius\n",
    "\n",
    "# Convertimos de Celcius a Fahrenheit\n",
    "fahrenheit = (celsius * 9/5) + 32\n",
    "fahrenheit\n",
    "\n",
    "# Convertimos de Celsius a Kelvin\n",
    "kelvin = celsius + 273.15\n",
    "kelvin\n",
    "\n",
    "# Mostramos todas las conversiones\n",
    "print(f\"Temperatura en Celsius: {celsius}ºc\")\n",
    "print(f\"Equivalente en Fahrenheit: {fahrenheit: .2f}ºF\")\n",
    "print(f\"Equivalente en Kelvin: {kelvin: .2f}K\")"
   ]
  },
  {
   "cell_type": "markdown",
   "id": "23a63f84",
   "metadata": {},
   "source": [
    "Tipos de datos usados:\n",
    "float → para representar temperaturas (ej. 25.0, 298.15).\n",
    "\n",
    "Operadores usados:\n",
    "* → multiplicación.\n",
    "/ → división.\n",
    "+ → suma.\n",
    "f-string → para mostrar texto con variables dentro (f\"...\")."
   ]
  },
  {
   "cell_type": "markdown",
   "id": "04260070",
   "metadata": {},
   "source": [
    "<a id=\"des4\"> </a>\n",
    "# Desafío 4: Verificar múltiplos de varios números\n",
    "Objetivo: Determinar si un número dado es múltiplo de 2, 3, 5, 7, 9, 10, y 11 utilizando comparaciones y operadores lógicos.\n",
    "\n",
    "*Descripción:*\n",
    "Crea un programa que, dado un número, verifique si es múltiplo de los números mencionados. Para cada uno de estos números, el programa debe indicar si el número dado es o no un múltiplo de estos.\n",
    "\n",
    "_Ejemplo de lo que se debe lograr:_\n",
    "Supongamos que el número dado es 30. El programa deberá determinar:\n",
    "\n",
    "¿Es 30 múltiplo de 2? Sí\n",
    "\n",
    "¿Es 30 múltiplo de 3? Sí\n",
    "\n",
    "¿Es 30 múltiplo de 5? Sí\n",
    "\n",
    "¿Es 30 múltiplo de 7? No\n",
    "\n",
    "¿Es 30 múltiplo de 9? No\n",
    "\n",
    "¿Es 30 múltiplo de 10? Sí\n",
    "\n",
    "¿Es 30 múltiplo de 11? No"
   ]
  },
  {
   "cell_type": "markdown",
   "id": "d7121f83",
   "metadata": {},
   "source": [
    "Explicación paso a paso del ejercicio: Verificar si un número es múltimplo de otros, en mi ejemplo voy a utulizar el número 20.\n",
    "Paso 1: Definir el número, esto simplemente guarda el numero en la variable (numero), que luego vamos a usar para hacer las comprobaciones. Paso 2: numero % 2 == 0, % es el operador módulo, que da el resto de una division, si el resto es 0, eso significa que el número es múltiplo. entonces 20%2 da 0: es múltiplo de 2, si hicieramos 20%3 que da 2, entonces no es múltiplo de 3.\n",
    "Paso 3: 'Sí' if numero % 2 == 0 else 'No', esto es una forma compacta de escribir if; Si numero % 2 == 0 es verdadero devuelve 'Si', sino, devuelve 'No'.\n",
    "Paso 4: Imprimir el resultado en una frase completa: print(f\"¿Es {numero} múltiplo de 2? {'Sí if numero % 2 == 0 else 'No'}\"), ¿Qué hace esto? usa una f-string (f\"\") para combinar texto con variables y cálculos. El resultado se vería así: ¿Es 20 múltiplo de 2? Sí. se repite el procedimiento con los otros números. \n",
    "Paso 5: Resultado final con numero = 20: un ejemplo sería ¿Es 20 múltiplo de 3? No, y asi sucesivamente hasta terminar la lista de números que tengamos."
   ]
  },
  {
   "cell_type": "code",
   "execution_count": 2,
   "id": "c79f1f24",
   "metadata": {},
   "outputs": [
    {
     "name": "stdout",
     "output_type": "stream",
     "text": [
      "¿Es 20 múltiplo de 2? Sí\n",
      "¿Es 20 múltiplo de 3? No\n",
      "¿Es 20 múltiplo de 5? Sí\n",
      "¿Es 20 múltiplo de 7? No\n",
      "¿Es 20 múltiplo de 9? No\n",
      "¿Es 20 múltiplo de 10? Sí\n",
      "¿Es 20 múltiplo de 11? No\n"
     ]
    }
   ],
   "source": [
    "# Números a verificar\n",
    "2, 3 , 5, 7, 9, 10, 11\n",
    "\n",
    "# Definimos el número que vamos a verificar\n",
    "numero = 20\n",
    "\n",
    "# Verificamos si es múltiplo de los distintos valores\n",
    "\n",
    "print(f\"¿Es {numero} múltiplo de 2? {'Sí' if numero % 2 == 0 else 'No'}\")\n",
    "print(f\"¿Es {numero} múltiplo de 3? {'Sí' if numero % 3 == 0 else 'No'}\")\n",
    "print(f\"¿Es {numero} múltiplo de 5? {'Sí' if numero % 5 == 0 else 'No'}\")\n",
    "print(f\"¿Es {numero} múltiplo de 7? {'Sí' if numero % 7 == 0 else 'No'}\")\n",
    "print(f\"¿Es {numero} múltiplo de 9? {'Sí' if numero % 9 == 0 else 'No'}\")\n",
    "print(f\"¿Es {numero} múltiplo de 10? {'Sí'if numero % 10 == 0 else 'No'}\")\n",
    "print(f\"¿Es {numero} múltiplo de 11? {'Sí'if numero % 11 == 0 else 'No'}\")"
   ]
  },
  {
   "cell_type": "markdown",
   "id": "1275d2c1",
   "metadata": {},
   "source": [
    "¿Qué tipo de datos y operadores utilizaste?\n",
    "\n",
    "Tipos de datos usados:\n",
    "int → el número que se analiza (ej. 20).\n",
    "str → para imprimir “Sí” o “No”\n",
    "\n",
    "Operadores usados:\n",
    "% (módulo) → para obtener el resto de una división.\n",
    "== → comparación de igualdad.\n",
    "if ... else (condicional inline).\n",
    "f-string → para imprimir resultados con texto y variables."
   ]
  },
  {
   "cell_type": "markdown",
   "id": "f958315e",
   "metadata": {},
   "source": [
    "No adjunto Webgrafía porque utilice el material proporcionado por el docente, es decir el material que se encuentra en los cuadernos: 1_2, 1_3 y sobre todo el 2_4."
   ]
  }
 ],
 "metadata": {
  "kernelspec": {
   "display_name": "Python 3",
   "language": "python",
   "name": "python3"
  },
  "language_info": {
   "codemirror_mode": {
    "name": "ipython",
    "version": 3
   },
   "file_extension": ".py",
   "mimetype": "text/x-python",
   "name": "python",
   "nbconvert_exporter": "python",
   "pygments_lexer": "ipython3",
   "version": "3.13.2"
  }
 },
 "nbformat": 4,
 "nbformat_minor": 5
}
