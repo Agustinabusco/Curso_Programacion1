{
 "cells": [
  {
   "cell_type": "markdown",
   "id": "443d31b3",
   "metadata": {},
   "source": [
    "## Desafío 1: Saludo Personalizado\n",
    "Escriba un programa que pida al usuario su nombre y su ciudad de origen, luego imprima un saludo personalizado con esa información."
   ]
  },
  {
   "cell_type": "code",
   "execution_count": null,
   "id": "6ae727a8",
   "metadata": {},
   "outputs": [
    {
     "name": "stdout",
     "output_type": "stream",
     "text": [
      "Hola, ! Que linda es tu .\n",
      "¡Hola, Agustina! Qué lindo que seas de Carmelo, ¡bienvenida!\n"
     ]
    }
   ],
   "source": [
    "# Pedimos al usuario su nombre\n",
    "nombre = input(\"¿Cuál es tu nombre?\")\n",
    "# Pedimos al usuario su ciudad de orígen\n",
    "ciudad = input(\"¿De qué ciudad sos?\")\n",
    "# Mostramos un saludo personalizado\n",
    "print(f\"Hola, {nombre}! Que linda es tu {ciudad}.\")\n",
    "# Mostramos un saludo personalizado\n",
    "nombre = \"Agustina\"\n",
    "ciudad = \"Carmelo\"\n",
    "print(f\"¡Hola, {nombre}! Qué lindo que seas de {ciudad}, ¡bienvenida!\")"
   ]
  },
  {
   "cell_type": "markdown",
   "id": "f8ee872e",
   "metadata": {},
   "source": [
    "input() muestra el texto al usuario y espera que escriba algo. lo que se eescriba se guarda en la variable nombre, lo mismo pasa con la variable ciudad, finalmente en el print nos muestra combinado texto fijo con las variables nombre y ciudad. Usamos f-sring (f\"...\") para poder insertar fácilmente los valores dentro del texto."
   ]
  },
  {
   "cell_type": "markdown",
   "id": "b325f70e",
   "metadata": {},
   "source": [
    "## Desafío 2: Calculadora Simple\n",
    "Escriba un programa que pida al usuario que ingrese dos números y luego imprima la suma, la resta, la multiplicación y la división de esos números."
   ]
  },
  {
   "cell_type": "code",
   "execution_count": null,
   "id": "00ee8107",
   "metadata": {},
   "outputs": [
    {
     "name": "stdout",
     "output_type": "stream",
     "text": [
      "Suma: 6.0\n",
      "Resta: -2.0\n",
      "Multiplicación: 8.0\n",
      "División: 0.5\n"
     ]
    }
   ],
   "source": [
    "# Paso 1: Pedir el primer número al usuario\n",
    "num1 = float(input(\"Ingresá el primer número: \"))\n",
    "# Paso 2: Pedir el segundo número al usuario\n",
    "num2 = float(input(\"Ingresá el segundo número: \"))\n",
    "# Paso 3: Realizar las operaciones\n",
    "suma = num1 + num2\n",
    "resta = num1 - num2\n",
    "multiplicacion = num1 * num2\n",
    "# Verificamos si el segundo número es distinto de cero para evitar división por cero\n",
    "if num2 != 0:\n",
    "    division = num1 / num2\n",
    "else:\n",
    "    division = \"No se puede dividir por cero.\"\n",
    "# Paso 4: Mostrar los resultados\n",
    "print(f\"Suma: {suma}\")\n",
    "print(f\"Resta: {resta}\")\n",
    "print(f\"Multiplicación: {multiplicacion}\")\n",
    "print(f\"División: {division}\")"
   ]
  },
  {
   "cell_type": "markdown",
   "id": "54333320",
   "metadata": {},
   "source": [
    "Usamos float para que el usuario pueda ingresar números con decimales, si preferís solo enteros, podes usar int() en lugar de float(). Luego guardamos cada operación en una variable, ej: suma = num1 + num2. Luego en esta parte del código se agrega una verificación importante: que no se puede dividir por cero, porque eso da error en Python. Finalmente en los print imprimimos los resultados usando f.strings para que el texto se vea claro y ordenado. utilice como num1: 2 y como num2: 4."
   ]
  },
  {
   "cell_type": "markdown",
   "id": "d4bf227a",
   "metadata": {},
   "source": [
    "## Desafío 3: Formateo de Factura\n",
    "Escriba un programa que pueda tomar los detalles de los productos (nombre, cantidad, precio) y produzca una factura bien formateada."
   ]
  },
  {
   "cell_type": "code",
   "execution_count": null,
   "id": "09fb8ab4",
   "metadata": {},
   "outputs": [
    {
     "name": "stdout",
     "output_type": "stream",
     "text": [
      "------ FACTURA ------\n",
      "Producto: 3\n",
      "Cantidad: 2\n",
      "Precio unitario: 1.0\n",
      "Total a pagar: 2.0\n"
     ]
    }
   ],
   "source": [
    "# Programa: Factura simple\n",
    "\n",
    "# Pedir datos al usuario\n",
    "producto = input(\"Nombre del producto: \")\n",
    "cantidad = int(input(\"Cantidad: \"))\n",
    "precio = float(input(\"Precio unitario: \"))\n",
    "\n",
    "# Calcular el total\n",
    "total = cantidad * precio\n",
    "\n",
    "# Mostrar la factura\n",
    "print(\"------ FACTURA ------\")\n",
    "print(\"Producto:\", producto)\n",
    "print(\"Cantidad:\", cantidad)\n",
    "print(\"Precio unitario:\", precio)\n",
    "print(\"Total a pagar:\", total)"
   ]
  },
  {
   "cell_type": "markdown",
   "id": "296a3a87",
   "metadata": {},
   "source": [
    "programa factura simple es unn comentario para indicar el nombre del programa, no afecta el funcionamiento, pero ayuda a identificarlo.luego, producto = input (nombre del producto: \") el input() muestra el mensaje y lo guarda lo que escribis en la variable producto, ejemplo si escribieramos \"pan\" eso queda guardado como valor de producto. luego cuando pedimos la cantidad: cantidad = int(input(\"Cantidad: \") de nuevo usamos input() pero esta vez convertimos el resultado a número entero con int(), porque una cantidad siempre es un número entero (por ejemplo, 3 panes), siguiendo con el precio: precio = float(input(\"Precio unitario: \")) acá usamos float() para permitir decimales, como por ejemplo 2.50. Luego en calcular el total: total = cantidad * precio, multiplicam,os la cantidad por el precio unitario, ejemplo: si compraste 3 panes a $2.50: 3 * 2.50 = 7.50. Finalmente mostramos la factura en los prints, usamos varios print() para mostrar los datos. Cada uno muestra el texto y luego el valor guardado en la variable correspondiente."
   ]
  }
 ],
 "metadata": {
  "kernelspec": {
   "display_name": "Python 3",
   "language": "python",
   "name": "python3"
  },
  "language_info": {
   "name": "python",
   "version": "3.13.2"
  }
 },
 "nbformat": 4,
 "nbformat_minor": 5
}
