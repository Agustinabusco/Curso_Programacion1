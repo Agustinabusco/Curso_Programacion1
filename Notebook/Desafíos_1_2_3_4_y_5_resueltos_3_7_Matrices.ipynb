{
 "cells": [
  {
   "cell_type": "markdown",
   "id": "1b6d589a",
   "metadata": {},
   "source": [
    "# Desafío 1\n",
    "\n",
    "Considere las matrices $ A $ y $ B $ definidas como:\n",
    "\n",
    "$ A = \\begin{bmatrix} 1 & 2 \\\\ 3 & 4 \\end{bmatrix} $     y     $ B = \\begin{bmatrix} 5 & 6 \\\\ 7 & 8 \\end{bmatrix} $\n",
    "\n",
    "Tu tarea es calcular la matriz resultante de la operación $ (2A + B^T) $. Recuerda que $ B^T $ denota la transposición de la matriz $ B $."
   ]
  },
  {
   "cell_type": "code",
   "execution_count": 1,
   "id": "aed85f59",
   "metadata": {},
   "outputs": [
    {
     "name": "stdout",
     "output_type": "stream",
     "text": [
      "Resultado de (2A + B^T):\n",
      " [[ 7 11]\n",
      " [12 16]]\n"
     ]
    }
   ],
   "source": [
    "import numpy as np  # Importamos la biblioteca NumPy con el alias np\n",
    "\n",
    "# Definimos la matriz A\n",
    "A = np.array([[1, 2],\n",
    "              [3, 4]])\n",
    "\n",
    "# Definimos la matriz B\n",
    "B = np.array([[5, 6],\n",
    "              [7, 8]])\n",
    "\n",
    "# Multiplicamos A por 2 (producto escalar)\n",
    "doble_A = 2 * A  # Cada elemento de A se multiplica por 2\n",
    "\n",
    "# Transponemos la matriz B (intercambiamos filas por columnas)\n",
    "B_transpuesta = B.T\n",
    "\n",
    "# Sumamos las dos matrices resultantes\n",
    "resultado = doble_A + B_transpuesta  # Suma elemento a elemento\n",
    "\n",
    "# Mostramos el resultado final\n",
    "print(\"Resultado de (2A + B^T):\\n\", resultado)\n"
   ]
  },
  {
   "cell_type": "markdown",
   "id": "9d87d554",
   "metadata": {},
   "source": [
    "Primer paso, que hace import numpy as np, lo que hace es decirle a Python que queremos usar la biblioteca NumPy, que nos da herramientas para trabajar con matrices y números de forma eficiente. Y ¿qué significa as np?, esto es un alias, para no tener que escribir numpy básicamente, en vez de decir NumPy decis su alias, np.\n",
    "Vamos con el paso 2, A = np.array([[1, 2], [3, 4]]), esto lo que hace es crea una matriz (arreglo bidimensional) usando una lista de listas en Python. Acá baásicamente estamos diciendo: \"Quiero una matriz de 2 filas y 2 columnas, con estos valores\".(a phyton claramente). Luego, ¿qué es np.array? Es una función de NumPy que transforma listas de Python en matrices (ndarray), que son estructuras optimizadas para cálculos. El paso 3 conciste en lo mismo que antes pero para la matriz B: B = np.array([[5, 6], [7, 8]]). El paso 4: doble_A = 2 * A, lo que hace esto es multiplicar cada elemento de la matriz A por 2. Y ¿Cómo lo hace? bueno, NumPy permite hacer operaciones matemáticas directamente sobre matrices. Si pones 2 * A, no necesitas hacer un bucle, ya que él lo hace por vos. Luego el paso 5: B_transpuesta = B.T, esto lo que hace es calcular la traspuesta de la matriz B, y ¿Qué es .T?, es un atributo especial de NumPy que te da la transpuesta de una matriz, es decir, las filas se convierten en columnas y las columnas en filas. El paso 6: resultado = doble_A + B_transpuesta, lo que hace esto es SUMA, elemento a elemento, en este caso las amtrices 2A Y Bᵀ, lo que NumPy hace acá es que como las dos matrices tienen el mismo tamaño, NumPy suma posición por posición: (0,0) con (0.0), (0,1) con (0,1) y así. Finalmente el paso 7:print(\"Resultado de (2A + B^T):\\n\", resultado), acá lo que se hace es mostrar en panmtalla el resultado final, por las dudas, ¿Qué es \\n?, es un salto de línea como hemos cisto en desafdios anteriores, en este caso se usa para que el texto y la matriz aparezcan más prolijas en la consola."
   ]
  },
  {
   "cell_type": "markdown",
   "id": "83074f50",
   "metadata": {},
   "source": [
    "# Desafío 2\n",
    "\n",
    "Dada la matriz $ A = \\begin{bmatrix} 1 & 0 & 1 \\\\ 4 & -1 & 4 \\\\ 5 & 6 & 7 \\end{bmatrix} $, encuentra la traza de la matriz inversa de $ A $."
   ]
  },
  {
   "cell_type": "code",
   "execution_count": 2,
   "id": "833594cf",
   "metadata": {},
   "outputs": [
    {
     "name": "stdout",
     "output_type": "stream",
     "text": [
      "Matriz inversa de A:\n",
      " [[ 1.5500000e+01 -3.0000000e+00 -5.0000000e-01]\n",
      " [ 4.0000000e+00 -1.0000000e+00 -1.5313421e-16]\n",
      " [-1.4500000e+01  3.0000000e+00  5.0000000e-01]]\n",
      "\n",
      "Traza de la matriz inversa: 15.00000000000002\n"
     ]
    }
   ],
   "source": [
    "import numpy as np  # Importamos la biblioteca NumPy\n",
    "\n",
    "# Definimos la matriz A\n",
    "A = np.array([\n",
    "    [1, 0, 1],\n",
    "    [4, -1, 4],\n",
    "    [5, 6, 7]\n",
    "])\n",
    "\n",
    "# Calculamos la inversa de la matriz A\n",
    "# Usamos la función inv() del módulo linalg (linalg = álgebra lineal)\n",
    "inversa_A = np.linalg.inv(A)\n",
    "\n",
    "# Calculamos la traza de la matriz inversa\n",
    "# La traza es la suma de los elementos de la diagonal principal\n",
    "traza = np.trace(inversa_A)\n",
    "\n",
    "# Mostramos el resultado\n",
    "print(\"Matriz inversa de A:\\n\", inversa_A)\n",
    "print(\"\\nTraza de la matriz inversa:\", traza)\n"
   ]
  },
  {
   "cell_type": "markdown",
   "id": "b4f329a6",
   "metadata": {},
   "source": [
    "Como primer paso utilizamos: import numpy as np, ¿qué hace esto?, Bueno, le dice a Python que vamos a usar la biblioteca NumPy, que nos permite trabajar con matrices de forma rápida y eficiente. Y repito, as np es la avreviatura de numpy y numpy.array su avreviatura seria np.array.\n",
    "Paso 2: A = np.array([[1, 0, 1], [4, -1, 4], [5, 6, 7]]), lo que hace esto es crear la matriz A a partir de una lista de listas en Python. Y ¿Qué es una lista de listas?, bueno, es una estructura así: [\n",
    "  [1, 0, 1],  # Fila 1\n",
    "  [4, -1, 4], # Fila 2\n",
    "  [5, 6, 7]   # Fila 3\n",
    "]\n",
    "Y ¿Qué es np.array()? Lo que hace es que convierte esa lista de listas en una matriz NumPy (estructura especial optimizada para cálculos matemáticos.). En el paso 3: inversa_A = np.linalg.inv(A), esto lo que hace es calcular la matriz inversa de A, si lo desglosamos es algo así: np.linalg = módulo de álgebra lineal (viene con NumPy), luego .inv() = es una función que calcula la inversa de una matriz (si existe) y A = la matriz original. Por otro lado, ¿Qué es una matriz inversa? Una matriz A−1 es aquella que, al multiplicarse por la original (A), da la matriz identidad: A . A-1 = I, donde la matriz identidad es como el \"1\" de las matrices. pero cuidado, si la matriz no tiene inversa (por ejemplo, su determinante es 0), esta función lanza un error. El paso 4: traza = np.trace(inversa_A), calcula la traza de la matriz inversa, ¿Qué es la traza? Es la suma de los elementos de la diagonal principal de una matriz (de izquierda arriba a derecha abajo), Y ¿Qué hace np.trace()? Es una función de Numpy que automáticamente: toma la diagonal principal de una matriz, suma esos valores, y devuelve el resultado como número. Paso 5: print(\"Matriz inversa de A:\\n\", inversa_A), lo que hace esto es imprimir en pantalla (mostrar) la matriz inversa de A. Y el último paso: print(\"\\nTraza de la matriz inversa:\", traza), muestra el valor de la traza que calculamos. "
   ]
  },
  {
   "cell_type": "markdown",
   "id": "479f5e4b",
   "metadata": {},
   "source": [
    "# Desafío 3\n",
    "\n",
    "Dada la matriz $ A = \\begin{bmatrix} 1 & 2 & 3 \\\\ 4 & 5 & 6 \\\\ 7 & 8 & 9 \\end{bmatrix} $, encuentra el rango de la matriz resultante de $ (A + A^T) $."
   ]
  },
  {
   "cell_type": "code",
   "execution_count": 1,
   "id": "47fc2e02",
   "metadata": {},
   "outputs": [
    {
     "name": "stdout",
     "output_type": "stream",
     "text": [
      "Matriz A:\n",
      "[[1 2 3]\n",
      " [4 5 6]\n",
      " [7 8 9]]\n",
      "\n",
      "Transpuesta de A (A^T):\n",
      "[[1 4 7]\n",
      " [2 5 8]\n",
      " [3 6 9]]\n",
      "\n",
      "Suma A + A^T:\n",
      "[[ 2  6 10]\n",
      " [ 6 10 14]\n",
      " [10 14 18]]\n",
      "\n",
      "Rango de la matriz resultante:\n",
      "2\n"
     ]
    }
   ],
   "source": [
    "import numpy as np\n",
    "\n",
    "# Definimos la matriz A\n",
    "A = np.array([[1, 2, 3],\n",
    "              [4, 5, 6],\n",
    "              [7, 8, 9]])\n",
    "\n",
    "# Calculamos la transpuesta de A\n",
    "A_T = A.T\n",
    "\n",
    "# Sumamos la matriz A con su transpuesta\n",
    "S = A + A_T\n",
    "\n",
    "# Calculamos el rango de la matriz resultante\n",
    "rango = np.linalg.matrix_rank(S)\n",
    "\n",
    "# Mostramos los resultados\n",
    "print(\"Matriz A:\")\n",
    "print(A)\n",
    "\n",
    "print(\"\\nTranspuesta de A (A^T):\")\n",
    "print(A_T)\n",
    "\n",
    "print(\"\\nSuma A + A^T:\")\n",
    "print(S)\n",
    "\n",
    "print(\"\\nRango de la matriz resultante:\")\n",
    "print(rango)\n"
   ]
  },
  {
   "cell_type": "markdown",
   "id": "491893b9",
   "metadata": {},
   "source": [
    "Como primer paso: import numpy as no, lo que hace es importa a la biblioteca numpy y le pone el apodo np para usarla más facilmente, es su avreviatura como mencionamos en desafios anteriores. Y por las dudas, ¿Qué es numpy?, bueno es una biblioteca de Python muy usada para hacer cálculos matemáticos, especialmente con vectores y matrices. Nos permite trabajar con arrays de forma más rápida y cómoda que con listas comunes, Y... ¿Por qué es mejor usar arrays en estos casos? por ejemplo por velocidad, ya que los arrays de NumPy son más rápidos que las listas de python cuando trabajs con muchos datos, estan implementados en C, un lenguaje de bajo nivel, por lo que es mas eficiente. otro punto es menor uso de memoria, los arrays usan menos memoria, perfecto cuandno estas trabajando con grandes cantidades de datos, tambien precisamente en este caso, cuando usamos operaciones matemáticas directas, con listas comúnes tenés que usar bucles para sumar, multiplicar o hacer cálculos, y con los arrays lo haces directamente. Como 2 paso: A = np.array([[1, 2, 3], [4, 5, 6], [7, 8, 9]]), lo que hace esto es crear una matriz llamada A con los valores que nos dio el enunciado. ¿Qué es np.array(...)? lo que hace es convertir una lista de listas en un array de numpy, que puede comportarse como una matriz, en este caso estamos creando una matriz de 3 filas por 3 columnas. En el 3 paso: A_T = A.T, que hace esto? calcular la traspuesta de la matriz A, y la guarda en la variable A_T. Y ¿Qué es la traspuesta? esto es una operación que invierte filas por columnas, si una matriz tiene forma (3x3), su traspuesta también será (3x3), pero los elementos de la fila 1 pasan a ser columna 1, los de la fila 2 a columna 2 y así. El paso 4: S = A + A_T: este paso conciste en S() que es la suma(variable que usamos para guardar la matriz resultante de la suma), entonces suma la matriz original A con su traspuesta A_T, elemento por elemento. Y ¿Qué es la suma de matrices?, es que se suman los elementos que están en la misma posición. Solo se puede hacer si las matrices tienen el mismo tamaño. En el paso 5: rango = np.linalg.matrix_rank(S), ¿qué hacemos acá? calcular el rango de la matriz resultante S y lo guarda en la variable rango. Y ¿Qué es el rango de una matriz? esto, es el número de filas o columnas linealmente independientes, osea, cuántas filas (o columnas) aportan información distinta, si una fila es combinación de otras, no cuenta para el rango. Y ¿Qué es: np.linalg.matrix_rank()?, esto es una función de la sub-biblioteca linalg (de \"algebra lineal\") de numpy que nos da el rango de una matriz automáticamente. Finalmente en el paso 6: print(...), lo que hace es como ya sabemos, mostrarnos en pantalla los resultados, en este caso: la matriz original, su transpuesta, la suma de ambas y el rango final."
   ]
  },
  {
   "cell_type": "markdown",
   "id": "4b39cd7a",
   "metadata": {},
   "source": [
    "¿Por qué nos da como resultado que la matriz es de rango 2?\n",
    "\n",
    "Primero recordar que es el rango, el rango de una matriz es la cantidad de filas (o columnas) linealmente independientes. Una fila es linealmente dependiente si se puede obtener sumando o restando múltiplos de otras filas.\n",
    "\n",
    "Después de hacer la suma A + AT, nos quedó esta matriz: \n",
    "Suma A + A^T:\n",
    "[[ 2  6 10]\n",
    " [ 6 10 14]\n",
    " [10 14 18]]\n",
    "Si la analizamos, y comenzamos a fijarnos en las filas:\n",
    "Dila 1: (2, 6, 10), fila 2 (6, 10, 14) y fila 3 (10, 14, 18). ¿Podemos expresar una fila como combinación de las otras? \n",
    "Comparación entre filas: \n",
    "Si restás la fila 2 - fila 1: (6, 10, 14) - (2, 6, 10) = (4, 4, 4)\n",
    "y: Si restás la fila 3 - fila 2: (10, 14, 18) - (6, 10, 14) = (4, 4, 4)\n",
    "Esto quiere decir que: Fila 2 = Fila 1 + (4, 4, 4) y Fila 3 = Fila 2 + (4, 4, 4): Las 3 filas tienen la misma dirección en el espacio, están relacionadas entre sí por sumas de un mismo vector.\n",
    "Como conclusión, solo 2 de las filas aportan información distinta, la tercera se puede obtener a partir de las otras, no cuenta para el rango, por eso: el rango de la matriz S es 2.\n",
    "\n"
   ]
  },
  {
   "cell_type": "markdown",
   "id": "feb581d9",
   "metadata": {},
   "source": [
    " Desafío 4: Batalla naval\n",
    "\n",
    "Para este desafío, tendrás que implementar un juego sencillo de \"Batalla Naval\". El tablero de juego será una matriz de 5x5 donde el agua será representada por ceros (0) y los barcos por unos (1).\n",
    "\n",
    "Primero, crea un tablero de juego utilizando NumPy, que será una matriz de ceros de 5x5.\n",
    "\n",
    "Luego, coloca tres barcos en el tablero de juego. Cada barco es un 1 y debes colocarlo en una posición aleatoria en el tablero. No te preocupes por el tamaño de los barcos; cada barco ocupará solo una celda.\n",
    "\n",
    "Finalmente, crea una función que acepte dos argumentos (las coordenadas x, y), y que verifique si en esa posición hay un barco (1) o agua (0). La función debe imprimir un mensaje indicando si se golpeó un barco o si el disparo cayó al agua."
   ]
  },
  {
   "cell_type": "code",
   "execution_count": 1,
   "id": "41c1af8f",
   "metadata": {},
   "outputs": [
    {
     "name": "stdout",
     "output_type": "stream",
     "text": [
      "Tablero (oculto en juego real):\n",
      "[[0 0 0 1 0]\n",
      " [0 0 0 0 0]\n",
      " [1 0 0 0 0]\n",
      " [0 0 0 0 0]\n",
      " [0 0 1 0 0]]\n",
      "Agua... \n"
     ]
    }
   ],
   "source": [
    "import numpy as np\n",
    "import random\n",
    "\n",
    "# Crear el tablero 5x5 lleno de agua (ceros)\n",
    "tablero = np.zeros((5, 5), dtype=int)\n",
    "\n",
    "# Colocar 3 barcos en posiciones aleatorias\n",
    "barcos_colocados = 0\n",
    "while barcos_colocados < 3:\n",
    "    fila = random.randint(0, 4)\n",
    "    columna = random.randint(0, 4)\n",
    "    \n",
    "    # Solo colocamos el barco si la posición está vacía (agua)\n",
    "    if tablero[fila][columna] == 0:\n",
    "        tablero[fila][columna] = 1\n",
    "        barcos_colocados += 1\n",
    "\n",
    "# Función para disparar\n",
    "def disparar(x, y):\n",
    "    if tablero[x][y] == 1:\n",
    "        print(\"¡Le diste a un barco! \")\n",
    "    else:\n",
    "        print(\"Agua... \")\n",
    "\n",
    "# Mostrar el tablero (para testeo)\n",
    "print(\"Tablero (oculto en juego real):\")\n",
    "print(tablero)\n",
    "\n",
    "# Ejemplo de disparo\n",
    "disparar(2, 3)  # Podés cambiar los valores para probar\n"
   ]
  },
  {
   "cell_type": "markdown",
   "id": "bf3b3890",
   "metadata": {},
   "source": [
    "Nuestro primer paso va a ser utilizar import numpy as np y import random, ¿Qué es import? es una instrucción que le dice a Python: \"Traé herramientas que están en otra biblioteca para que las pueda usar? y ¿Qué es numpy (np)? Como hemos mencionado e suna biblioteca de Python que nos permite trabajar con matrices, vectores y operaciones matemáticas de forma eficiente. entonces: np.array: para crear matrices, no.zeros: para crear matrices llenas de ceros, .shape, .T, .sum(), etc: muchas funciones útiles para trabajar con datos en forma de tabla o grilla. Y ¿Qué es random? Es una biblioteca de Python para generar números aleatorios, que usamos para colocar los barcos en lugares distintos y sorpresa. Como paso de hay que crear el tablero: tablero = np.zeros((5, 5), dtype=int), lo que hace esto es crea una matriz de 5 filas por 5 filas llena de ceros, como esta:\n",
    "\n",
    " [[0 0 0 0 0]\n",
    " [0 0 0 0 0]\n",
    " [0 0 0 0 0]\n",
    " [0 0 0 0 0]\n",
    " [0 0 0 0 0]]\n",
    "\n",
    "¿Qué representa? Cada celda representa una posción del mar, donde un 0 significa agua y un 1 será un barco. ¿Qué es np.zeros((5, 5))? esto es una función que crea una matriz de ceros con la forma que le pedimos: 5 filas y 5 columnas. ¿Qué es np.zeros((5, 5))? es una función que crea una matriz de ceros con la forma que le pedimos: 5 filas y 5 columnas. Y ¿Qué es dtype=int? Acá le decimos a Python que los valores deben ser enteros (int) y no decimales (float). Así podemos usar valores como 0 y 1 sin coma decimal. Ahora, como paso 3 hay que colocar 3 barcos en posiciones aleatorias: barcos_colocados = 0\n",
    "while barcos_colocados < 3:\n",
    "    fila = random.randint(0, 4)\n",
    "    columna = random.randint(0, 4)\n",
    "    if tablero[fila][columna] == 0:\n",
    "        tablero[fila][columna] = 1\n",
    "        barcos_colocados += 1\n",
    "¿Qué es un bucle while? esto es una estructura que repite un bloque de código mientras se cumpla una condición, en este caso: while barcos_colocados < 3:\n",
    "Con este bucle repetimos hasta colocar los 3 barcos. ¿Qué hace random.randint(0, 4)? esto genera un número aleatorio entre 0 y 4, que usamos como índice de fila y columna, esto elige una posición al azar dentro del tablero 5x5. Y ¿Qué hace: if tablero [fila][columna] == 0:? antes de colocar un barco, verificamos si la posición está vacía (es agua, osea 0), y si está libre, colocamos el barco (=1) y sumamos 1 al contador barcos_colocados. \n",
    "Como paso 4 creamos la función disparo: def disparar(x, y):\n",
    "    if tablero[x][y] == 1:\n",
    "        print(\"¡Le diste a un barco! \")\n",
    "    else:\n",
    "        print(\"Agua... \"), ¡Qué es una función def? es una porción de código reutilizable, se define con def, un nombre (disparar) y parámetros entre paréntesis (en este caso: x, y). Esto nos permite usar la función varias veces, disparando a diferentes posiciones sin repetir el código. Luego, ¿Qué hacen x e y? estos representan las coordenadas del disparo en el tablero: x: número de fila y x: número de columna, por ejemplo, disparar(2, 3) esto lo que hace es dipara en la fila 2, columna 3. Y ¿Qué  hace  if tablero[x][y] == 1:? esto verifica si hay un barco en esa posición, si hay 1: imprimimos \"¡Le diste a un barco! y si hay 0: imprimimos \"Agua...\". En el paso 5 conciste en mostrar el tablero para probar, entonces: print(\"Tablero (oculto en juego real):\")\n",
    "print(tablero)\n",
    "esto, en un juego real, el tablero estaría oculto para el jugador, pero para probar que el código funciona, lo mostramos.\n",
    "Finalmente en el paso 6 conciste en probar un disparo, etonces: disparar(2, 3), aquí llamamos a la función con coordenadas que vos elijas, y el código te va a decir si le diste a un barco o no.\n"
   ]
  },
  {
   "cell_type": "markdown",
   "id": "dc4cef4c",
   "metadata": {},
   "source": [
    "# Desafío 5: Crear una simulación de \"vida artificial\" en un tablero de juego (matriz)\n",
    "En este desafío, implementarás una simulación del famoso Juego de la vida de Conway. Se trata de un autómata celular desarrollado por el matemático británico John Horton Conway en 1970. Es un juego de cero jugadores, lo que significa que su evolución se determina por su estado inicial, sin necesidad de más entradas humanas.\n",
    "\n",
    "### Objetivos del problema\n",
    "Crear el Tablero de Juego:\n",
    "\n",
    "Implementa una función para crear un tablero de juego de dimensiones n x m, donde cada celda puede estar viva (1) o muerta (0). Inicializa el tablero con un patrón inicial.\n",
    "\n",
    "### Definir las reglas del juego:\n",
    "\n",
    "Cada celda en el tablero tiene 8 vecinos. Las reglas para la evolución del estado de las celdas son:\n",
    "Una celda viva con menos de dos celdas vecinas vivas muere por subpoblación.\n",
    "Una celda viva con dos o tres celdas vecinas vivas sigue viva en la siguiente generación.\n",
    "Una celda viva con más de tres celdas vecinas vivas muere por sobrepoblación.\n",
    "Una celda muerta con exactamente tres celdas vecinas vivas se convierte en una celda viva por reproducción.\n",
    "\n",
    "### Simular la evolución:\n",
    "\n",
    "Implementa una función para actualizar el tablero siguiendo las reglas del juego. Esta función debería generar la nueva configuración del tablero después de un número específico de iteraciones.\n",
    "\n",
    "### Visualizar la simulación:\n",
    "\n",
    "Utiliza Matplotlib para visualizar la evolución del tablero a lo largo de las iteraciones. Muestra cada estado del tablero como una imagen en una animación."
   ]
  },
  {
   "cell_type": "markdown",
   "id": "e96221ab",
   "metadata": {},
   "source": [
    "Primero que nada... ¿Qué es el \"Juego de vida\"? Es una simulación de vida artificial, aunque no tiene jugadores ni decisiones humanas, permite observar cómo patrones simples pueden crear comportamientos complejos como: osciladores (se repiten cada cierto tiempo), Naves (formas que se mueven en el tablero), y caos o equilibrio."
   ]
  },
  {
   "cell_type": "code",
   "execution_count": 1,
   "id": "29ed0349",
   "metadata": {},
   "outputs": [],
   "source": [
    "import numpy as np\n",
    "\n",
    "def crear_tablero(n, m):\n",
    "    return np.random.randint(2, size=(n, m))\n"
   ]
  },
  {
   "cell_type": "markdown",
   "id": "95f19e43",
   "metadata": {},
   "source": [
    "La primer parte es crear el tablero, con import numpy as no: importamos la biblioteca NumPy, que nos permite trabajar con matrices fácilmente. luego, np.random.randint(2, size=(n, m)): crea una matriz de tamaño n x m con números aleatorios entre 0 y 1. Dónde cada celda tiene valor 0(muerta) o 1 (viva), por ende, esta parte primera del codigo simulla un tablero con vida artificial inicial de forma aleatoria. como concepto: una matriz es como una hoja cuadriculada donde cada casilla puede estar \"viva\" o \"muerta\"."
   ]
  },
  {
   "cell_type": "markdown",
   "id": "40ea9316",
   "metadata": {},
   "source": [
    "Paso 2: Contar vecinos"
   ]
  },
  {
   "cell_type": "code",
   "execution_count": 2,
   "id": "65597a27",
   "metadata": {},
   "outputs": [],
   "source": [
    "def contar_vecinos(tablero, fila, col):\n",
    "    vecinos = 0\n",
    "    for i in range(fila - 1, fila + 2):\n",
    "        for j in range(col - 1, col + 2):\n",
    "            if (i == fila and j == col) or i < 0 or j < 0 or i >= tablero.shape[0] or j >= tablero.shape[1]:\n",
    "                continue\n",
    "            vecinos += tablero[i][j]\n",
    "    return vecinos\n"
   ]
  },
  {
   "cell_type": "markdown",
   "id": "7cb45802",
   "metadata": {},
   "source": [
    "¡Qué hace esta parte? bueno, recorre todas las celdas alrededor de una celda específica (fila, col), suma cuántas de esas celdas son vecinas vivas (tienen un 1)\n",
    "ignora: la celda actual (la del centro) y las que están fuera de los límites de la matriz. Concepto: Cada celda tiene hasta 8 vecinos (arriba, abajo, izquierda, derecha y en las diagonales). Esta función los cuenta, para luego aplicar las reglas del juego. fila es el numero de fila donde está la celda que queremos remplazar, col es la columna de esa misma celda, en realidad es simplemente la abreviatura de \"columna\". Las i y j las utilizamos así: i representa el número de fila que estamos revisando. L j: representa el número de columna que estamos revisando, es decir, estamos usando i y j para recorrer todas las celdas vecinas a una celda particular (fila,col). ¿Para què sirven? Queremos contar cuántos vecinos vivos tiene una celda, así que: i va desde una fila antes hasta una fila después de la celda, y j va desde una columna antes hasta una columna después. Por eso usamos: for i in range(fila - 1, fila + 2):\n",
    "    for j in range(col - 1, col + 2):\n",
    "esto recorre un cuadro de 3x3 alrededor de la celda (fila, col). Y ¿Por qué hay un if con continue? Esto es para no contar la celda del centro (ella no es su propio vecino) y para evitar errores si está en el borde del tablero, entonces cuando usamos:if (i == fila and j == col) or i < 0 or j < 0 or i >= tablero.shape[0] or j >= tablero.shape[1]:\n",
    "    continue\n",
    "esto nos dice que si i y j apuntan a la misma celda (fila, col) la ignoramos y que si i y j están fuera del tablero también lo ignoramos. "
   ]
  },
  {
   "cell_type": "markdown",
   "id": "70fe780f",
   "metadata": {},
   "source": [
    "Parte 3: Actualizar el tablero"
   ]
  },
  {
   "cell_type": "code",
   "execution_count": 3,
   "id": "6b3012ba",
   "metadata": {},
   "outputs": [],
   "source": [
    "def actualizar_tablero(tablero):\n",
    "    nueva_gen = np.zeros(tablero.shape, dtype=int)\n",
    "\n",
    "    for i in range(tablero.shape[0]):\n",
    "        for j in range(tablero.shape[1]):\n",
    "            vivos = contar_vecinos(tablero, i, j)\n",
    "            if tablero[i][j] == 1:\n",
    "                if vivos == 2 or vivos == 3:\n",
    "                    nueva_gen[i][j] = 1\n",
    "            else:\n",
    "                if vivos == 3:\n",
    "                    nueva_gen[i][j] = 1\n",
    "    return nueva_gen\n"
   ]
  },
  {
   "cell_type": "markdown",
   "id": "b307328e",
   "metadata": {},
   "source": [
    "¿Qué hace esto? primero: crea una nueva matriz vacía, donde se va a guardar la siguiente generación. segundo: recorre cada cedlda del tablero original, tercer paso: usa la función contar_vecinos() para saber cuántos vivos tiene y cuarto paso: aplica las reglas de Conway. Para una mayor claridad de las reglas: si una celda está viva: Y tiene 2 o 3 vecinos vivos, sobrevive, si no, muere (por soledad o sobrepoblación), luego, si una celda está muerta: y tiene exactamente 3 vecinos vivos, nace (reproducción). Concepto: Estamos creando una nueva generación de células, basada en el estado de la generación anterior. El tablero se utiliza con las reglas biológicas del juego."
   ]
  },
  {
   "cell_type": "markdown",
   "id": "46bacd72",
   "metadata": {},
   "source": [
    "Parte 4: Mostrar la simulación"
   ]
  },
  {
   "cell_type": "code",
   "execution_count": 11,
   "id": "a40b0bd0",
   "metadata": {},
   "outputs": [],
   "source": [
    "import matplotlib.pyplot as plt\n",
    "import matplotlib.animation as animation\n",
    "\n",
    "def simular(tablero, generaciones):\n",
    "    fig, ax = plt.subplots()\n",
    "    img = ax.imshow(tablero, cmap='binary')\n",
    "\n",
    "    def actualizar(frame):\n",
    "        nonlocal tablero\n",
    "        tablero = actualizar_tablero(tablero)\n",
    "        img.set_data(tablero)\n",
    "        return [img]\n",
    "\n",
    "    ani = animation.FuncAnimation(fig, actualizar, frames=generaciones, interval=300, repeat=False)\n",
    "    plt.show()\n"
   ]
  },
  {
   "cell_type": "markdown",
   "id": "bb7f68a3",
   "metadata": {},
   "source": [
    "¿Qué hacemos acá? como primer paso, importar Matploblit, una biblioteca para mostrar gráficos, si no lo tenes instalado en tu computadora, que te vas a dar cuenta porque el código te va a lanzar error y te te va a decir que no lo tenes en tu computadora, entonces en ese caso simplemente abris en el buscador de windows \"cdm\" entras donde dice simbolo de sistema y escribis en la terminal: pip install matploblit o si tenes una versión 3 de phyton o una función que siempre funciona para instalar la libreria si no te funciona con la primer opción es poner: pip install --upgrade pip y listo, ya te debería dejar de lanzar error el codigo porque tenes instalada la biblioteca matplotlib y listo. Bien una vez explicado eso, el segundo paso en ésta parte del código sería crear una figura (fig) y ejes(ax) para dibujar. El paso 3 muestra el tablero como una imágen, usando imshow(): las celdas muertas se ven blancas y las vivas, negras. Luego el paso 4 seria definir una función: actualizar() que: calcula el próximo estado del tablero y que lo actualiza en la imágen. El paso 5, con: funcAnimation genera una animación, repitiendo la función actualizar() varias veces y finalmente la parte 6: plt.show() muestra la ventana animada; Concepto: En esta parte estamos animando el juego, para que podamos ver en tiempo real cómo las células nacen, viven y mueren en el tablero."
   ]
  },
  {
   "cell_type": "markdown",
   "id": "c4813e77",
   "metadata": {},
   "source": [
    "El código que voy a poner a continuación va abajo de todo, como el \"programa principal\", es decir, lo que se ejecuta para que todo funcione."
   ]
  },
  {
   "cell_type": "code",
   "execution_count": 12,
   "id": "b5fc8ef2",
   "metadata": {},
   "outputs": [
    {
     "data": {
      "image/png": "[encoded data removed]",
      "text/plain": [
       "<Figure size 640x480 with 1 Axes>"
      ]
     },
     "metadata": {},
     "output_type": "display_data"
    },
    {
     "name": "stderr",
     "output_type": "stream",
     "text": [
      "c:\\Users\\agust\\AppData\\Local\\Programs\\Python\\Python313\\Lib\\site-packages\\matplotlib\\animation.py:908: UserWarning: Animation was deleted without rendering anything. This is most likely not intended. To prevent deletion, assign the Animation to a variable, e.g. `anim`, that exists until you output the Animation using `plt.show()` or `anim.save()`.\n",
      "  warnings.warn(\n"
     ]
    }
   ],
   "source": [
    "n = 20  # filas\n",
    "m = 20  # columnas\n",
    "generaciones = 50\n",
    "\n",
    "tablero_inicial = crear_tablero(n, m)\n",
    "simular(tablero_inicial, generaciones)\n"
   ]
  },
  {
   "cell_type": "markdown",
   "id": "22044a8d",
   "metadata": {},
   "source": [
    "Ahora vamos a explicar qué hace cada línea. El primer paso: n = 20 y m = 20, estos definen el tamaño del tablero (20 filas x 20 columnas). El segundo paso: generaciones = 50, esto indica cuántas veces se va a actualizar el tablero (cuántos \"turnos\" o \"frames\" tendrá la animación). El tercer paso sería: tablero_inicial = crear_tablero(n, m), esto genera un tablero aleatório con ese tamaño. Y finalmente en el cuarto paso: simular(tablero_inicial, generaciones), esto inicia la simulación y la muestra en una ventana animada. Y ¿por qué generaciones 50? esto porque en el juego de la vida, una generación es una nueva versión del tablero después de aplicar las reglas del juego unavez; Entonces: Generación 0: el tablero inicial, generación 1: el tablero después de aplicar las reglas de una vez, generación 2: después de aplicar las reglas otra vez, y asi.... hasta llegar a la generación 50: después de haber aplicado las reglas 50 veces, entonces generaciones refiere a una evolución del tablero básicamente. y en la animación, cuando dice: simular(tablero_inicial, generaciones) estas diciendo: \"Mostrame la evolución del tablero durante 50 generaciones, osea, la animacion va a tener 50 frames (pasos), donde vas a ver cómo las celdas nacen, sobreviven o mueren. Entonces en este caso la palabra frames significa literalmente \"cuadro\" o \"fotograma\", en programación y animación, un frame es una imágen estática que forma parte de una secuencia. Cuando mostramos muchos frames seguidos, parece que hay movimiento, como en un dibujo animado o video.Por lo tanto, en nuestro juego frame  significa que nos va a mostrar 50 \"fotos\" diferentes del tablero, una después de la otra, como si fuera una animación, cada frame muestra: cómo está el tablero en una generación específica (con celdas vivas y muertas). "
   ]
  },
  {
   "cell_type": "markdown",
   "id": "8208f7bd",
   "metadata": {},
   "source": [
    "Ubicación correcta del programa completo, es decir, unificamos todo el código, en orden:"
   ]
  },
  {
   "cell_type": "code",
   "execution_count": 13,
   "id": "d39fae59",
   "metadata": {},
   "outputs": [
    {
     "data": {
      "image/png": "[encoded data removed]",
      "text/plain": [
       "<Figure size 640x480 with 1 Axes>"
      ]
     },
     "metadata": {},
     "output_type": "display_data"
    }
   ],
   "source": [
    "import numpy as np\n",
    "import matplotlib.pyplot as plt\n",
    "import matplotlib.animation as animation\n",
    "\n",
    "# Parte 1: Crear el tablero\n",
    "def crear_tablero(n, m):\n",
    "    return np.random.randint(2, size=(n, m))\n",
    "\n",
    "# Parte 2: Contar vecinos vivos\n",
    "def contar_vecinos(tablero, fila, col):\n",
    "    vecinos = 0\n",
    "    for i in range(fila - 1, fila + 2):\n",
    "        for j in range(col - 1, col + 2):\n",
    "            if (i == fila and j == col) or i < 0 or j < 0 or i >= tablero.shape[0] or j >= tablero.shape[1]:\n",
    "                continue\n",
    "            vecinos += tablero[i][j]\n",
    "    return vecinos\n",
    "\n",
    "# Parte 3: Actualizar el tablero\n",
    "def actualizar_tablero(tablero):\n",
    "    nueva_gen = np.zeros(tablero.shape, dtype=int)\n",
    "    for i in range(tablero.shape[0]):\n",
    "        for j in range(tablero.shape[1]):\n",
    "            vivos = contar_vecinos(tablero, i, j)\n",
    "            if tablero[i][j] == 1:\n",
    "                if vivos == 2 or vivos == 3:\n",
    "                    nueva_gen[i][j] = 1\n",
    "            else:\n",
    "                if vivos == 3:\n",
    "                    nueva_gen[i][j] = 1\n",
    "    return nueva_gen\n",
    "\n",
    "# Parte 4: Visualizar la simulación\n",
    "def simular(tablero, generaciones):\n",
    "    fig, ax = plt.subplots()\n",
    "    img = ax.imshow(tablero, cmap='binary')\n",
    "\n",
    "    def actualizar(frame):\n",
    "        nonlocal tablero\n",
    "        tablero = actualizar_tablero(tablero)\n",
    "        img.set_data(tablero)\n",
    "        return [img]\n",
    "\n",
    "    ani = animation.FuncAnimation(fig, actualizar, frames=generaciones, interval=300, repeat=False)\n",
    "    plt.show()\n",
    "\n",
    "# ▶️ Parte principal del programa (va al final)\n",
    "n = 20  # filas\n",
    "m = 20  # columnas\n",
    "generaciones = 50\n",
    "\n",
    "tablero_inicial = crear_tablero(n, m)\n",
    "simular(tablero_inicial, generaciones)\n"
   ]
  }
 ],
 "metadata": {
  "kernelspec": {
   "display_name": "Python 3",
   "language": "python",
   "name": "python3"
  },
  "language_info": {
   "codemirror_mode": {
    "name": "ipython",
    "version": 3
   },
   "file_extension": ".py",
   "mimetype": "text/x-python",
   "name": "python",
   "nbconvert_exporter": "python",
   "pygments_lexer": "ipython3",
   "version": "3.13.2"
  }
 },
 "nbformat": 4,
 "nbformat_minor": 5
}
