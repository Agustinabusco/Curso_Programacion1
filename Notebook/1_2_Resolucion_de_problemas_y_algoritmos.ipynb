{
 "cells": [
  {
   "cell_type": "markdown",
   "metadata": {},
   "source": [
    "# 1. Introducción\n",
    "La resolución de problemas es una de las habilidades fundamentales en programación. Es la capacidad de diseñar una solución sistemática y eficiente para un problema dado, y luego implementarla en un lenguaje de programación como Python. Este tema abarca los conceptos esenciales y las técnicas utilizadas para abordar problemas de manera efectiva.\n",
    "\n",
    "# 2. Proceso de Resolución de Problemas\n",
    "El proceso de resolución de problemas puede dividirse en varias etapas, cada una de las cuales es crucial para desarrollar una solución eficaz:\n",
    "\n",
    "Comprender el problema: Antes de intentar resolver un problema, es vital comprenderlo completamente. Esto implica leer y analizar el enunciado del problema, identificar los datos de entrada y salida, y determinar las restricciones y los requisitos.\n",
    "\n",
    "Planificar la solución: Una vez que se entiende el problema, el siguiente paso es planificar una solución. Esto puede implicar la creación de un algoritmo o un conjunto de pasos que se deben seguir para resolver el problema.\n",
    "\n",
    "Dividir el problema: A menudo, los problemas complejos pueden ser divididos en subproblemas más pequeños y manejables. Esta técnica, conocida como \"divide y vencerás\", facilita el desarrollo y la implementación de la solución.\n",
    "\n",
    "Desarrollar un algoritmo: Un algoritmo es una secuencia finita de pasos bien definidos que resuelven un problema específico. Los algoritmos deben ser claros, precisos y eficientes.\n",
    "\n",
    "Implementar la solución: Una vez que se ha desarrollado un algoritmo, el siguiente paso es implementarlo en un lenguaje de programación. En nuestro caso, utilizaremos Python para este propósito.\n",
    "\n",
    "Probar y depurar: Después de implementar la solución, es importante probarla con diferentes casos de prueba para asegurar que funcione correctamente. Si se encuentran errores, deben ser depurados y corregidos.\n",
    "\n",
    "Documentar y refactorizar: Finalmente, es útil documentar el código y, si es necesario, refactorizarlo para mejorar su legibilidad y eficiencia.\n",
    "\n",
    "# 3. Algoritmos y Pseudocódigo\n",
    "Un algoritmo es una serie de pasos lógicos y finitos que conducen a la solución de un problema. El pseudocódigo es una herramienta utilizada para representar estos algoritmos de manera informal, sin la sintaxis estricta de un lenguaje de programación específico.\n",
    "\n",
    "Ejemplo de Pseudocódigo:\n",
    "\n",
    "Imaginemos que queremos crear un algoritmo para encontrar el número máximo en una lista de números. El pseudocódigo podría ser algo así:\n",
    "\n",
    "```textplain\n",
    "Inicio\n",
    "   Definir una lista de números\n",
    "   Definir una variable maximo y asignarle el primer número de la lista\n",
    "   Para cada número en la lista\n",
    "      Si el número es mayor que maximo\n",
    "         Asignar el valor de número a maximo\n",
    "   Fin para\n",
    "   Retornar maximo\n",
    "Fin"
   ]
  },
  {
   "cell_type": "markdown",
   "metadata": {},
   "source": [
    "# 4. Implementación en Python\n",
    "El pseudocódigo anterior se puede implementar en Python de la siguiente manera:"
   ]
  },
  {
   "cell_type": "code",
   "execution_count": 5,
   "metadata": {},
   "outputs": [
    {
     "name": "stdout",
     "output_type": "stream",
     "text": [
      "El número máximo es: 8\n"
     ]
    }
   ],
   "source": [
    "def encontrar_maximo(lista):\n",
    "    maximo = lista[0]\n",
    "    for numero in lista:\n",
    "        if numero > maximo:\n",
    "            maximo = numero\n",
    "    return maximo\n",
    "#lista de numeros [3, 5, 7, 2, 8, 1, 4]\n",
    "máximo = 8\n",
    "número = 4\n",
    "\n",
    "# Ejemplo de uso\n",
    "numeros = [3, 5, 7, 2, 8, 1, 4]\n",
    "maximo = encontrar_maximo(numeros)\n",
    "print(\"El número máximo es:\", maximo)\n",
    "#lista de numeros [3, 5, 7, 2, 8, 1, 4]\n"
   ]
  },
  {
   "cell_type": "markdown",
   "metadata": {},
   "source": [
    "La función econtrar _máximo recibe un argumento llamado (lista) \n",
    "Y devuelve el valor de la variable _máximo. Máximo es un valor de la lista (lista). \n",
    "La línea máximo = lista (0) asigna a la variable máximo el primer valor de la lista.\n",
    "En la línea for número in lista: se recorre la lista y se asigna  a número el valor actual dell elemento de la lista.\n",
    "La línea if numero mayor a < maximo: compara el valor de numero con el valor de maximo.\n",
    "Maximo = asigna el valor d enumero a maximo.\n",
    "return maximo, retorna al ser invocada la funcion el valor de maximo."
   ]
  },
  {
   "cell_type": "code",
   "execution_count": 7,
   "metadata": {},
   "outputs": [
    {
     "name": "stdout",
     "output_type": "stream",
     "text": [
      "El número máximo es: z\n"
     ]
    }
   ],
   "source": [
    "def encontrar_maximo(lista):\n",
    "    maximo = lista[0]\n",
    "    for numero in lista:\n",
    "        if numero > maximo:\n",
    "            maximo = numero\n",
    "    return maximo\n",
    "\n",
    "\n",
    "numeros = [\"z\", \"a\", \"x\"]\n",
    "máximo = encontrar_maximo(numeros)\n",
    "print(\"El número máximo es:\", máximo)"
   ]
  },
  {
   "cell_type": "markdown",
   "metadata": {},
   "source": [
    " Cuándo se escribe entre comillas busca carácteres mediante el código ascii, mientras si se sacan las comillas busca variables."
   ]
  },
  {
   "cell_type": "markdown",
   "metadata": {},
   "source": [
    "# 5. Estrategias de Resolución de Problemas\n",
    "Existen varias estrategias que se pueden emplear para resolver problemas de programación. Algunas de las más comunes incluyen:\n",
    "\n",
    "Top-down: Esta estrategia implica descomponer el problema en subproblemas más pequeños y resolver cada uno de ellos de manera secuencial. Es una técnica útil para problemas complejos que pueden dividirse en partes independientes.\n",
    "\n",
    "Bottom-up: En esta estrategia, se resuelven primero los subproblemas más pequeños y se utilizan sus soluciones para construir la solución del problema principal. Es útil cuando los subproblemas tienen dependencias entre sí.\n",
    "\n",
    "Recursión: La recursión es una técnica en la que una función se llama a sí misma para resolver subproblemas más pequeños del mismo tipo. Es especialmente útil para problemas que se pueden dividir en problemas similares de menor tamaño.\n",
    "\n",
    "Programación dinámica: Esta técnica se utiliza para resolver problemas complejos dividiéndolos en subproblemas más pequeños y almacenando las soluciones de los subproblemas para evitar cálculos repetitivos. Es útil para problemas que tienen una estructura de superposición de subproblemas.\n",
    "\n",
    "Greedy: \n",
    "\"Es difícil, si no imposible, definir con precisión qué se entiende por un algoritmo greedy. Un algoritmo es greedy si construye una solución en pequeños pasos, eligiendo una decisión en cada paso de manera miope para optimizar algún criterio subyacente.\"\n",
    "Referencia APA:\n",
    "Kleinberg, J., & Tardos, É. (2005). Algorithm Design (p. 116). Pearson.\n",
    "\n",
    "El algoritmo Greedy es una estrategia de resolución de problemas que construye una solución en pequeños pasos, tomando decisiones óptimas locales en cada paso con el objetivo de optimizar un criterio subyacente. Este enfoque miope implica elegir, en cada etapa, la opción que parece la mejor en ese momento sin considerar el impacto a largo plazo. Para implementarlo, primero se define el criterio de optimización. Luego, se procede iterativamente eligiendo la opción que maximiza (o minimiza) este criterio hasta que se completa la solución. Aunque no siempre garantiza la solución óptima global, el algoritmo Greedy es valioso por su simplicidad y eficiencia en una variedad de problemas, como la selección de intervalos, la construcción de árboles de expansión mínimos y la codificación de Huffman.\n",
    "\n",
    "# 6. Ejemplos de Problemas y Algoritmos\n",
    "A continuación, se presentan algunos ejemplos de problemas y algoritmos para ilustrar cómo se pueden aplicar las técnicas y estrategias de resolución de problemas.\n",
    "\n",
    "## Ejemplo 1: Encontrar el máximo común divisor (MCD)\n",
    "El problema consiste en encontrar el máximo común divisor de dos números. Un algoritmo conocido para resolver este problema es el algoritmo de Euclides.\n",
    "\n",
    "Pseudocódigo:\n",
    "\n",
    "```textplain\n",
    "Inicio\n",
    "   Definir dos números a y b\n",
    "   Mientras b no sea cero\n",
    "      Asignar a el valor de b\n",
    "      Asignar a b el residuo de a dividido por b\n",
    "   Fin mientras\n",
    "   Retornar a\n",
    "Fin\n",
    "Implementación en Python:\n",
    "\n",
    "\n"
   ]
  },
  {
   "cell_type": "code",
   "execution_count": 8,
   "metadata": {},
   "outputs": [
    {
     "name": "stdout",
     "output_type": "stream",
     "text": [
      "El MCD de 48 y 18 es: 6\n"
     ]
    }
   ],
   "source": [
    "def mcd(a, b):\n",
    "    while b != 0:\n",
    "        a, b = b, a % b\n",
    "    return a\n",
    "\n",
    "# Ejemplo de uso\n",
    "a = 48\n",
    "b = 18\n",
    "resultado = mcd(a, b)\n",
    "print(\"El MCD de\", a, \"y\", b, \"es:\", resultado)"
   ]
  },
  {
   "cell_type": "markdown",
   "metadata": {},
   "source": [
    "## Ejemplo 2: Ordenar una lista de números utilizando el algoritmo de selección\n",
    "El problema consiste en ordenar una lista de números en orden ascendente. El algoritmo de selección es un algoritmo simple que encuentra el elemento mínimo en cada iteración y lo coloca en la posición correcta.\n",
    "\n",
    "Pseudocódigo:\n",
    "\n",
    "```textplain\n",
    "Inicio\n",
    "   Para cada elemento en la lista\n",
    "      Encontrar el elemento mínimo en la sublista no ordenada\n",
    "      Intercambiar el elemento mínimo con el primer elemento de la sublista no ordenada\n",
    "   Fin para\n",
    "Fin\n",
    "Implementación en Python:\n"
   ]
  },
  {
   "cell_type": "code",
   "execution_count": 9,
   "metadata": {},
   "outputs": [
    {
     "name": "stdout",
     "output_type": "stream",
     "text": [
      "Lista ordenada: [11, 12, 22, 25, 64]\n"
     ]
    }
   ],
   "source": [
    "def ordenar_seleccion(lista):\n",
    "    for i in range(len(lista)):\n",
    "        min_index = i\n",
    "        for j in range(i + 1, len(lista)):\n",
    "            if lista[j] < lista[min_index]:\n",
    "                min_index = j\n",
    "        lista[i], lista[min_index] = lista[min_index], lista[i]\n",
    "    return lista\n",
    "\n",
    "# Ejemplo de uso\n",
    "numeros = [64, 25, 12, 22, 11]\n",
    "ordenados = ordenar_seleccion(numeros)\n",
    "print(\"Lista ordenada:\", ordenados)"
   ]
  },
  {
   "cell_type": "markdown",
   "metadata": {},
   "source": [
    "# Desafío 1: Suma de los primeros n números naturales\n",
    "Descripción: Escribe un algoritmo que calcule la suma de los primeros n números naturales.\n"
   ]
  },
  {
   "cell_type": "markdown",
   "metadata": {},
   "source": [
    "Por ejemplo, si n=7 la función debe dar el resultado de la suma de los números anteriores, esto significa sumar los menores o iguales a n=7\n",
    "1+2+3+4+5+6+7\n",
    "La operacionn suma es una operacion binaria, por lo tanto lo que realizamos es lo siguiente:\n",
    "1+2=3\n",
    "3+3=6 donde el primer 3 es el resultado de la fila anterior\n",
    "6+4=10 ya termine? no, porque recien estoy sumando hasta el 4 y tenemos que llegar hasta sumar con el 7. entonces continuamos:\n",
    "10+5=15\n",
    "15+6:21 \n",
    "21+7=28. acá paro porque el segundo sumando es 7, por lo tanto llegamos al número n=7."
   ]
  },
  {
   "cell_type": "code",
   "execution_count": 19,
   "metadata": {},
   "outputs": [
    {
     "name": "stdout",
     "output_type": "stream",
     "text": [
      "La suma de los primeros 7 numeros es: 28\n"
     ]
    }
   ],
   "source": [
    "def suma_n(n):\n",
    "    papel =0\n",
    "    for i in range(n+1):\n",
    "        papel= papel+i\n",
    "    return papel \n",
    "def sum_n(n):\n",
    "    papel =(n+1)\n",
    "    return papel\n",
    "valor= 7\n",
    "print(\"La suma de los primeros\",valor,\"numeros es:\", suma_n(valor))  \n"
   ]
  },
  {
   "cell_type": "markdown",
   "metadata": {},
   "source": [
    "# Desafío 2: Número de elementos pares en una lista\n",
    "Descripción: Escribe un algoritmo que cuente el número de elementos pares en una lista de números."
   ]
  },
  {
   "cell_type": "markdown",
   "metadata": {},
   "source": [
    "1- Definimos la función contar_pares (lista), esta función va a recibir una lista de números y devolver cuántos son pares. 2- Creamos un contador llamado contador que empieza en 0, lo usamos para ir sumando los pares que encontramos. 3- Recorremos la lista con for numero in lista, vamos a mirar cada numero uno por uno. 4- Verificamos si el número es par, if numero %==0 (==) (es igual, para comparar si dos cosas son iguales, ej: si 2=2), % es el operador \"mòdulo\", que nos da el resto, si el número dividido por 2 da 0 es par, por el contrario, ej: 3 dividido 4 es impar porque da 1, y sobra 1, ese es el resto, el módulo. 5- Si es par sumamos 1 al contador, contador +=1. 6- Al final, devolvemos el total de pares con return contador. 7- En el ejemplo, la lista es (2, 3, 4): 2 es par, 3 es impar y 4 es par. 8- Se imprime: hay 2 números pares."
   ]
  },
  {
   "cell_type": "code",
   "execution_count": 7,
   "metadata": {},
   "outputs": [
    {
     "name": "stdout",
     "output_type": "stream",
     "text": [
      "Hay 2 numeros pares\n"
     ]
    }
   ],
   "source": [
    "def contar_pares(lista):\n",
    "    contador = 0\n",
    "    for numero in lista:\n",
    "        if numero %2 ==0:\n",
    "           contador +=1\n",
    "    return contador \n",
    "\n",
    "#Lista\n",
    "numero= [2, 3, 4]\n",
    "#Llamamos a la función\n",
    "resultado= contar_pares(numero)\n",
    "print(\"Hay\" ,resultado, \"numeros pares\") "
   ]
  }
 ],
 "metadata": {
  "kernelspec": {
   "display_name": "Python 3",
   "language": "python",
   "name": "python3"
  },
  "language_info": {
   "codemirror_mode": {
    "name": "ipython",
    "version": 3
   },
   "file_extension": ".py",
   "mimetype": "text/x-python",
   "name": "python",
   "nbconvert_exporter": "python",
   "pygments_lexer": "ipython3",
   "version": "3.13.2"
  }
 },
 "nbformat": 4,
 "nbformat_minor": 2
}
