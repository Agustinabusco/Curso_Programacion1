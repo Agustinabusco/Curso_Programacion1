{
  "cells": [
    {
      "cell_type": "markdown",
      "metadata": {
        "id": "Nyv5epN_RD6r"
      },
      "source": [
        "## Índice\n",
        "\n",
        "1.   [Identificadores, constantes y variables](#id1)\n",
        "2.   [Tipos de datos simples. Enteros, reales, booleanos y caracteres](#id2)\n",
        "3.   [Operadores logicos y de comparacion](#id3)\n",
        "4.   [Comparaciones encadenadas](#id4)\n",
        "5.   [Desafio 1: Clasificar números](#des1)\n",
        "6.   [Desafio 2: Calcular promedio](#des2)\n",
        "7.   [Desafio 3: Convertidor de temperaturas](#des3)\n",
        "8.   [Desafio 4: Verificar múltiplos de varios números](#des4)\n",
        "9.   [Ejemplos](#ejemplos)"
      ]
    },
    {
      "cell_type": "markdown",
      "metadata": {
        "id": "Zrf6O3RVkwZ9"
      },
      "source": [
        "<a id=\"id1\"> </a>\n",
        "# Identificadores, constantes y variables\n",
        "\n",
        "En Python, un identificador es un nombre que se utiliza para identificar una variable, función, clase, módulo u otro objeto. Los identificadores son sensibles a mayúsculas y minúsculas y deben seguir ciertas reglas de nomenclatura. Para nombrar los identificadores en Python, se utilizan letras, números y guiones bajos. Sin embargo, el primer carácter no puede ser un número y no se permiten espacios ni caracteres especiales.\n",
        "\n",
        "Para garantizar la creación correcta de identificadores en Python, es importante seguir las PEP 8, que son las guías de estilo de Python. Estas proporcionan recomendaciones sobre cómo nombrar variables, funciones y otros objetos de manera consistente y legible para otros programadores. Puedes encontrar las [PEP 8 en el sitio web oficial de Python](https://peps.python.org/pep-0008/). Siguiendo estas pautas, puedes mejorar la claridad y la legibilidad de tu código, lo que facilita su mantenimiento y colaboración con otros desarrolladores.\n",
        "\n",
        "Por ejemplo, los siguientes son identificadores válidos en Python:"
      ]
    },
    {
      "cell_type": "code",
      "execution_count": null,
      "metadata": {
        "id": "9xPs9kVyRTlE"
      },
      "outputs": [],
      "source": [
        "numero\n",
        "total_venta\n",
        "ListaDeCompras\n",
        "edad"
      ]
    },
    {
      "cell_type": "markdown",
      "metadata": {
        "id": "0nfjr3nIl2gE"
      },
      "source": [
        "Mientras que los siguientes no son identificadores válidos:"
      ]
    },
    {
      "cell_type": "code",
      "execution_count": null,
      "metadata": {
        "id": "YFSXdTXrPsHY"
      },
      "outputs": [],
      "source": [
        "2d_array  # el primer carácter no puede ser un número\n",
        "mi identificador  # no se permiten espacios\n",
        "total$  # no se permiten caracteres especiales"
      ]
    },
    {
      "cell_type": "markdown",
      "metadata": {
        "id": "N6aLbY12FxpH"
      },
      "source": [
        "*Nota 2: Cabe destacar, que por mas que no es inválido, utilizar los caracteres \"l\" (ele minúscula), \"I\" (letra i latina mayuscula), \"O\" (letra o mayúscula) y \"0\" (número cero), puede causar confusión según el caso en donde se utilicen.*"
      ]
    },
    {
      "cell_type": "markdown",
      "metadata": {
        "id": "IbEAjo90LM88"
      },
      "source": [
        "También se tiene en cuenta que, como la mayoría de lenguajes, Python tiene una lista de palabras reservadas, que no pueden utilizarse como identificadores:\n",
        "\n",
        "| Palabra reservadas |\n",
        "|---------------|\n",
        "| False         |\n",
        "| True          |\n",
        "| def           |\n",
        "| while         |\n",
        "| if            |\n",
        "| else          |"
      ]
    },
    {
      "cell_type": "markdown",
      "metadata": {},
      "source": [
        "Para ver la lista completa utiliza el siguiente codigo en Python:"
      ]
    },
    {
      "cell_type": "code",
      "execution_count": null,
      "metadata": {},
      "outputs": [],
      "source": [
        "import keyword\n",
        "\n",
        "print(keyword.kwlist)"
      ]
    },
    {
      "cell_type": "markdown",
      "metadata": {
        "id": "_4bajzrTl7mA"
      },
      "source": [
        "Las constantes son valores que no cambian durante la ejecución de un programa. En Python, se utilizan variables para almacenar constantes. Las constantes pueden ser números, cadenas de texto, booleanos o cualquier otro valor inmutable.\n",
        "\n",
        "Por ejemplo, los siguientes son constantes en Python:"
      ]
    },
    {
      "cell_type": "code",
      "execution_count": null,
      "metadata": {
        "id": "e9y8hSkyl8iM"
      },
      "outputs": [],
      "source": [
        "PI = 3.14159\n",
        "NOMBRE_EMPRESA = \"Acme Corporation\"\n",
        "ES_POSITIVO = True"
      ]
    },
    {
      "cell_type": "markdown",
      "metadata": {
        "id": "3js_bf3Tl_KU"
      },
      "source": [
        "Las variables en Python son objetos que se utilizan para almacenar datos. Las variables se crean cuando se les asigna un valor y pueden cambiar durante la ejecución de un programa.\n",
        "\n",
        "Por ejemplo, el siguiente código crea una variable llamada edad y le asigna el valor 25:"
      ]
    },
    {
      "cell_type": "code",
      "execution_count": null,
      "metadata": {
        "id": "IZqYUDokmAc9"
      },
      "outputs": [],
      "source": [
        "edad = 25"
      ]
    },
    {
      "cell_type": "markdown",
      "metadata": {
        "id": "JuC930pzmDF4"
      },
      "source": [
        "En Python, las variables no necesitan ser declaradas antes de usarlas. Python automáticamente asigna un tipo de datos a las variables basándose en el valor que se les asigna. Por ejemplo, si se asigna un número entero a una variable, Python automáticamente la considerará como una variable de tipo int. Si se asigna una cadena de texto a una variable, Python la considerará como una variable de tipo str."
      ]
    },
    {
      "cell_type": "markdown",
      "metadata": {},
      "source": [
        "Pero... ¿cómo podemos determinar el tipo de una variable? Si veo \"un número\" entero, puedo identificar que el tipo de variable es un int o si veo un texto escrito entre comillas (\" \"), puedo determinar que es una variable str."
      ]
    },
    {
      "cell_type": "code",
      "execution_count": null,
      "metadata": {},
      "outputs": [],
      "source": [
        "edad = 12\n",
        "nombre = \"Anthony\"\n",
        "altura = 1.75\n",
        "\n",
        "print (\"la variable\", edad, \"es de tipo:\", type(edad))\n",
        "print (\"la variable\", nombre, \"es de tipo:\", type(nombre))\n",
        "print (\"la variable\", altura, \"es de tipo:\", type(altura))\n"
      ]
    },
    {
      "cell_type": "markdown",
      "metadata": {},
      "source": [
        "Es importante tener en cuenta que las variables en Python son sensibles a mayúsculas y minúsculas. Esto significa que las variables edad y Edad son dos variables diferentes en Python.\n",
        "\n",
        "Además, las variables en Python pueden ser eliminadas utilizando la palabra clave del (siempre y cuando esten definidas). Por ejemplo, el siguiente código elimina la variable edad y nombre:"
      ]
    },
    {
      "cell_type": "code",
      "execution_count": null,
      "metadata": {
        "id": "_8Hw11Mop0yX"
      },
      "outputs": [],
      "source": [
        "del edad, nombre\n",
        "print(altura)\n"
      ]
    },
    {
      "cell_type": "markdown",
      "metadata": {},
      "source": [
        "Cuidado! Que si intento eliminar la variable edad, sin crearla de nuevo, dará error, ya que la misma no existe. Este codigo resuelve este problema:\n"
      ]
    },
    {
      "cell_type": "code",
      "execution_count": null,
      "metadata": {},
      "outputs": [],
      "source": [
        "if \"edad\" in globals():\n",
        "    del edad\n",
        "    print(\"puedo borrar edad\")\n",
        "else:\n",
        "    print(\"no puedo borrar\")"
      ]
    },
    {
      "cell_type": "markdown",
      "metadata": {},
      "source": [
        "*Nota 3: globals es un diccionario que cuenta con todas las variables globales que se utilizan en el programa actual.*"
      ]
    },
    {
      "cell_type": "markdown",
      "metadata": {
        "id": "MSeGFRBik5fO"
      },
      "source": [
        "<a id=\"id2\"> </a>\n",
        "# Tipos de datos simples. Enteros, reales, booleanos y caracteres."
      ]
    },
    {
      "cell_type": "markdown",
      "metadata": {
        "id": "oO7oT2c8ncdw"
      },
      "source": [
        "En programación, los datos son la información que se manipula. Los lenguajes de programación trabajan con diferentes tipos de datos para poder manipular la información. En este bloque nos enfocaremos en los tipos de datos simples en Python, que son los más básicos y fundamentales para cualquier programa.\n",
        "\n",
        "Python es un lenguaje de programación orientado a objetos, lo que significa que cada valor en Python es un objeto. Un objeto es una estructura de datos que puede tener atributos (variables) y métodos (funciones). Los objetos en Python tienen un tipo que determina qué operaciones se pueden realizar con ellos.\n",
        "\n",
        "## Tipos de datos simples\n",
        "\n",
        "Los tipos de datos simples en Python se dividen en cuatro categorías: enteros, reales, booleanos y caracteres. En Python también existe un tipo de dato complejo, que nos permite trabajar con números complejos.\n",
        "\n",
        "### Enteros (int)\n",
        "\n",
        "Los enteros son números sin parte decimal. En Python, los enteros se representan con el tipo de datos int. Los enteros se pueden representar en notación decimal, binaria, octal y hexadecimal.\n",
        "\n",
        "Por ejemplo, para definir una variable entera y mostrar su valor y tipo, podemos hacer lo siguiente:"
      ]
    },
    {
      "cell_type": "code",
      "execution_count": null,
      "metadata": {
        "colab": {
          "base_uri": "https://localhost:8080/"
        },
        "id": "06T-FpltlAzM",
        "outputId": "6e671900-9d2d-4eb3-f605-5314ebd18797"
      },
      "outputs": [],
      "source": [
        "numero_entero = 10\n",
        "print(\"Número entero:\", numero_entero, \"Tipo:\", type(numero_entero))"
      ]
    },
    {
      "cell_type": "markdown",
      "metadata": {},
      "source": [
        "### Operaciones Aritméticas con Enteros\n",
        "\n",
        "Ahora te invitamos a realizar operaciones aritméticas básicas con números enteros en Python. Las operaciones aritméticas son fundamentales en cualquier lenguaje de programación y Python no es la excepción. Aquí vamos a ver ejemplos de suma, resta, multiplicación, división y exponenciación utilizando variables enteras.\n",
        "\n",
        "Primero, definimos tres variables enteras `a`, `b`, y `c`, y una variable `res` que utilizaremos para almacenar los resultados de nuestras operaciones."
      ]
    },
    {
      "cell_type": "code",
      "execution_count": null,
      "metadata": {},
      "outputs": [],
      "source": [
        "a = 3\n",
        "b = 5\n",
        "c = 10\n",
        "res = 0"
      ]
    },
    {
      "cell_type": "markdown",
      "metadata": {},
      "source": [
        "Luego, realizamos las siguientes operaciones aritméticas:\n",
        "\n",
        "- Suma: Calculamos la suma de a y b.\n",
        "- Resta: Calculamos la resta de a menos b.\n",
        "- Multiplicación: Calculamos la multiplicación de a y b.\n",
        "- División: Calculamos la división de a entre b.\n",
        "- Exponenciación: Calculamos a elevado a la potencia de b."
      ]
    },
    {
      "cell_type": "code",
      "execution_count": 1,
      "metadata": {},
      "outputs": [
        {
          "ename": "NameError",
          "evalue": "name 'a' is not defined",
          "output_type": "error",
          "traceback": [
            "\u001b[31m---------------------------------------------------------------------------\u001b[39m",
            "\u001b[31mNameError\u001b[39m                                 Traceback (most recent call last)",
            "\u001b[36mCell\u001b[39m\u001b[36m \u001b[39m\u001b[32mIn[1]\u001b[39m\u001b[32m, line 1\u001b[39m\n\u001b[32m----> \u001b[39m\u001b[32m1\u001b[39m res=\u001b[43ma\u001b[49m+b\n\u001b[32m      2\u001b[39m \u001b[38;5;28mprint\u001b[39m(res)\n\u001b[32m      3\u001b[39m res=a-b\n",
            "\u001b[31mNameError\u001b[39m: name 'a' is not defined"
          ]
        }
      ],
      "source": [
        "res=a+b\n",
        "print(res)\n",
        "res=a-b\n",
        "print(res)\n",
        "res=a*b\n",
        "print(res)\n",
        "res=a/b\n",
        "print(res)\n",
        "res=a**b\n",
        "print(res)"
      ]
    },
    {
      "cell_type": "markdown",
      "metadata": {},
      "source": [
        "Si ejecutaste el código, habrás notado que la salida no siempre es un número entero en todas las operaciones, especialmente en la división. Estos resultados que no son enteros se llaman números flotantes (los podemos identificar como decimales). Los números flotantes nos permiten realizar cálculos más precisos, especialmente en situaciones donde los resultados no son enteros.\n",
        "\n",
        "A continuación, estudiaremos cómo trabajar con números flotantes en Python."
      ]
    },
    {
      "cell_type": "markdown",
      "metadata": {
        "id": "aOIsGOpToyFL"
      },
      "source": [
        "### Reales (float)\n",
        "\n",
        "Los números reales, en el contexto de la programación, son aquellos que tienen una parte decimal. En Python, estos números se representan con el tipo de datos `float`.\n",
        "\n",
        "Por ejemplo, para definir una variable real y mostrar su valor y tipo, podemos hacer lo siguiente:"
      ]
    },
    {
      "cell_type": "code",
      "execution_count": 2,
      "metadata": {
        "colab": {
          "base_uri": "https://localhost:8080/"
        },
        "id": "c70s0pL2ozrz",
        "outputId": "27ff36bc-8478-45c5-f728-c086b0198525"
      },
      "outputs": [
        {
          "name": "stdout",
          "output_type": "stream",
          "text": [
            "Número real: 3.1416 Tipo: <class 'float'>\n"
          ]
        }
      ],
      "source": [
        "numero_real = 3.1416\n",
        "print(\"Número real:\", numero_real, \"Tipo:\", type(numero_real))"
      ]
    },
    {
      "cell_type": "markdown",
      "metadata": {
        "id": "IcuK_DDbo1V7"
      },
      "source": [
        "### Booleanos (bool)\n",
        "\n",
        "Los booleanos son tipos de datos que solo pueden tomar dos valores: `True` (verdadero) o `False` (falso). En Python, los booleanos se representan con el tipo de datos `bool`.\n",
        "\n",
        "Los valores booleanos se utilizan comúnmente en condiciones y pruebas de verdad. En Python, cualquier objeto puede evaluarse como verdadero o falso en un contexto booleano. Por ejemplo, los números no cero, las cadenas no vacías, las listas no vacías y otros objetos no vacíos se evalúan como `True`. Por otro lado, el número cero, las cadenas vacías, las listas vacías y otros objetos vacíos se evalúan como `False`.\n",
        "\n",
        "Por ejemplo, para definir una variable booleana y mostrar su valor y tipo, podemos hacer lo siguiente:\n"
      ]
    },
    {
      "cell_type": "code",
      "execution_count": 3,
      "metadata": {
        "colab": {
          "base_uri": "https://localhost:8080/"
        },
        "id": "hUPItMuOo2tV",
        "outputId": "949e5f21-d262-4a00-8eeb-a390abd00480"
      },
      "outputs": [
        {
          "name": "stdout",
          "output_type": "stream",
          "text": [
            "Booleano: True Tipo: <class 'bool'>\n"
          ]
        }
      ],
      "source": [
        "verdadero = True\n",
        "print(\"Booleano:\", verdadero, \"Tipo:\", type(verdadero))"
      ]
    },
    {
      "cell_type": "markdown",
      "metadata": {},
      "source": [
        "Los valores booleanos tambien pueden ser utilizados "
      ]
    },
    {
      "cell_type": "code",
      "execution_count": 4,
      "metadata": {},
      "outputs": [
        {
          "name": "stdout",
          "output_type": "stream",
          "text": [
            "False\n"
          ]
        }
      ],
      "source": [
        "A = True\n",
        "B = False\n",
        "C = A and B \n",
        "print(C)"
      ]
    },
    {
      "cell_type": "markdown",
      "metadata": {},
      "source": [
        "*Nota 5: Como operadores logicos solo existen 3, el and, or, y el not.\n",
        "Faltando: el condicional, bicondicional*"
      ]
    },
    {
      "cell_type": "markdown",
      "metadata": {
        "id": "KjdmzyUEo4R1"
      },
      "source": [
        "### Caracteres (str)\n",
        "\n",
        "En Python, los caracteres son representados como cadenas de longitud uno usando el tipo de datos `str`. Las cadenas de caracteres (`str`) son secuencias inmutables de caracteres utilizados para almacenar y manipular texto.\n",
        "\n",
        "Para definir una variable de tipo carácter y mostrar su valor y tipo, podemos hacer lo siguiente:"
      ]
    },
    {
      "cell_type": "code",
      "execution_count": 5,
      "metadata": {
        "colab": {
          "base_uri": "https://localhost:8080/"
        },
        "id": "kM2ChOYlo7A8",
        "outputId": "1d25a0a0-2b05-4b62-acbc-9b4351289625"
      },
      "outputs": [
        {
          "name": "stdout",
          "output_type": "stream",
          "text": [
            "Carácter: a Tipo: <class 'str'>\n"
          ]
        }
      ],
      "source": [
        "caracter = 'a'\n",
        "print(\"Carácter:\", caracter, \"Tipo:\", type(caracter))"
      ]
    },
    {
      "cell_type": "markdown",
      "metadata": {},
      "source": [
        "Aunque Python no tiene un tipo de datos específico para caracteres, las cadenas de longitud uno pueden usarse para representar caracteres individuales. Además, las cadenas pueden contener varios caracteres, y se pueden manipular usando varios métodos y operaciones.\n",
        "\n",
        "Por ejemplo, para evaluar el valor de verdad de una cadena, puedes hacer lo siguiente:"
      ]
    },
    {
      "cell_type": "code",
      "execution_count": 6,
      "metadata": {},
      "outputs": [
        {
          "name": "stdout",
          "output_type": "stream",
          "text": [
            "True\n",
            "False\n"
          ]
        }
      ],
      "source": [
        "# Ejemplos de pruebas de valor de verdad con cadenas\n",
        "print(bool(\"Hola\"))  # True, porque la cadena no está vacía\n",
        "print(bool(\"\"))      # False, porque la cadena está vacía"
      ]
    },
    {
      "cell_type": "markdown",
      "metadata": {
        "id": "EKGsVhsho8k8"
      },
      "source": [
        "### Complejos (complex)\n",
        "\n",
        "Los números complejos son aquellos que tienen una parte real y una parte imaginaria. En Python, los números complejos se representan con el tipo de datos `complex`. Un número complejo se escribe como `a + bj`, donde `a` es la parte real y `b` es la parte imaginaria.\n",
        "\n",
        "Por ejemplo, para definir una variable compleja y mostrar su valor y tipo, podemos hacer lo siguiente:"
      ]
    },
    {
      "cell_type": "code",
      "execution_count": 7,
      "metadata": {
        "colab": {
          "base_uri": "https://localhost:8080/"
        },
        "id": "H31l86bZo-HL",
        "outputId": "09dfea8e-e07d-46db-c29b-3eba5349b406"
      },
      "outputs": [
        {
          "name": "stdout",
          "output_type": "stream",
          "text": [
            "Número complejo: (2+3j) Tipo: <class 'complex'>\n"
          ]
        }
      ],
      "source": [
        "numero_complejo = 2+3j\n",
        "print(\"Número complejo:\", numero_complejo, \"Tipo:\", type(numero_complejo))"
      ]
    },
    {
      "cell_type": "markdown",
      "metadata": {},
      "source": [
        "Python proporciona varias funciones y métodos para trabajar con números complejos. Por ejemplo, puedes obtener la parte real e imaginaria de un número complejo, así como su conjugado:"
      ]
    },
    {
      "cell_type": "code",
      "execution_count": 8,
      "metadata": {},
      "outputs": [
        {
          "name": "stdout",
          "output_type": "stream",
          "text": [
            "Parte real: 2.0\n",
            "Parte imaginaria: 3.0\n",
            "Conjugado: (2-3j)\n"
          ]
        }
      ],
      "source": [
        "# Obtener la parte real e imaginaria\n",
        "parte_real = numero_complejo.real\n",
        "parte_imaginaria = numero_complejo.imag\n",
        "\n",
        "# Obtener el conjugado\n",
        "conjugado = numero_complejo.conjugate()\n",
        "\n",
        "print(\"Parte real:\", parte_real)\n",
        "print(\"Parte imaginaria:\", parte_imaginaria)\n",
        "print(\"Conjugado:\", conjugado)"
      ]
    },
    {
      "cell_type": "markdown",
      "metadata": {},
      "source": [
        "Los números complejos son útiles en muchas áreas de la matemática y la ingeniería, especialmente en el análisis de señales y la teoría de circuitos."
      ]
    },
    {
      "cell_type": "markdown",
      "metadata": {
        "id": "Y-pk7Jr1nJpo"
      },
      "source": [
        "<a id=\"id3\"> </a>\n",
        "# Operadores Lógicos y de Comparación\n",
        "\n",
        "Los operadores lógicos y de comparación son fundamentales en la programación, ya que permiten evaluar condiciones y realizar acciones basadas en el resultado de esas condiciones. En Python, tenemos operadores de comparación para comparar valores y operadores lógicos para combinar condiciones.\n",
        "\n",
        "## Operadores de Comparación\n",
        "\n",
        "Los operadores de comparación se utilizan para comparar dos valores y devuelven un valor booleano, es decir, `True` o `False`. Estos operadores nos permiten realizar comparaciones entre variables y valores, y son esenciales para el control del flujo de los programas mediante estructuras condicionales.\n",
        "\n",
        "Los operadores de comparación en Python incluyen:\n",
        "\n",
        "* **Igual (==)**: Verifica si dos valores son iguales.\n",
        "* **Diferente (!=)**: Verifica si dos valores son diferentes.\n",
        "* **Mayor que (>)**: Verifica si el valor de la izquierda es mayor que el valor de la derecha.\n",
        "* **Menor que (<)**: Verifica si el valor de la izquierda es menor que el valor de la derecha.\n",
        "* **Mayor o igual que (>=)**: Verifica si el valor de la izquierda es mayor o igual que el valor de la derecha.\n",
        "* **Menor o igual que (<=)**: Verifica si el valor de la izquierda es menor o igual que el valor de la derecha.\n",
        "\n",
        "Ejemplo de uso de operadores de comparación:"
      ]
    },
    {
      "cell_type": "code",
      "execution_count": 9,
      "metadata": {
        "id": "TMp9NMFkrvxW",
        "outputId": "8f2ffdde-c7a0-404e-bdf4-210351a9e193"
      },
      "outputs": [
        {
          "name": "stdout",
          "output_type": "stream",
          "text": [
            "a == b: False\n",
            "a != b: True\n",
            "a > b: False\n",
            "a < b: True\n",
            "a >= b: False\n",
            "a <= b: True\n"
          ]
        }
      ],
      "source": [
        "a = 5\n",
        "b = 7\n",
        "\n",
        "print(\"a == b:\", a == b) # Falso, porque 5 no es igual a 7\n",
        "print(\"a != b:\", a != b) # Verdadero, porque 5 es diferente de 7\n",
        "print(\"a > b:\", a > b)   # Falso, porque 5 no es mayor que 7\n",
        "print(\"a < b:\", a < b)   # Verdadero, porque 5 es menor que 7\n",
        "print(\"a >= b:\", a >= b) # Falso, porque 5 no es mayor o igual que 7\n",
        "print(\"a <= b:\", a <= b) # Verdadero, porque 5 es menor o igual que 7"
      ]
    },
    {
      "cell_type": "markdown",
      "metadata": {
        "id": "g_p9h7s6r0Dx"
      },
      "source": [
        "## Operadores Lógicos\n",
        "\n",
        "Los operadores lógicos se utilizan para combinar condiciones y evaluar expresiones complejas. En Python, los operadores lógicos permiten tomar decisiones basadas en múltiples condiciones y son fundamentales para el control del flujo en la programación.\n",
        "\n",
        "Los operadores lógicos en Python incluyen:\n",
        "\n",
        "* **and**: Devuelve `True` si ambas condiciones son verdaderas (`True`), de lo contrario devuelve `False`.\n",
        "* **or**: Devuelve `True` si al menos una de las condiciones es verdadera (`True`), de lo contrario devuelve `False`.\n",
        "* **not**: Devuelve `True` si la condición es falsa (`False`), y `False` si la condición es verdadera (`True`).\n",
        "\n",
        "### Ejemplo de uso de operadores lógicos\n",
        "\n",
        "Supongamos que tenemos dos variables booleanas `x` y `y`. Podemos utilizar los operadores lógicos para combinar estas variables de diferentes maneras:\n"
      ]
    },
    {
      "cell_type": "code",
      "execution_count": 10,
      "metadata": {
        "id": "f-1Z6R6Ir-YK",
        "outputId": "b51c6d6b-b3a0-4589-dd27-6a267d0f278e"
      },
      "outputs": [
        {
          "name": "stdout",
          "output_type": "stream",
          "text": [
            "False\n",
            "True\n",
            "False\n"
          ]
        }
      ],
      "source": [
        "x = True\n",
        "y = False\n",
        "\n",
        "# Operador and: ambas condiciones deben ser verdaderas\n",
        "print(x and y)  # False\n",
        "\n",
        "# Operador or: al menos una de las condiciones debe ser verdadera\n",
        "print(x or y)   # True\n",
        "\n",
        "# Operador not: invierte el valor booleano\n",
        "print(not x)    # False"
      ]
    },
    {
      "cell_type": "markdown",
      "metadata": {},
      "source": [
        "Los operadores lógicos son especialmente útiles en estructuras de control como las sentencias if, donde se pueden evaluar múltiples condiciones para determinar el flujo del programa. Por ejemplo:"
      ]
    },
    {
      "cell_type": "code",
      "execution_count": 11,
      "metadata": {},
      "outputs": [
        {
          "name": "stdout",
          "output_type": "stream",
          "text": [
            "El número está dentro del rango.\n"
          ]
        }
      ],
      "source": [
        "# Verificar si un número está en un rango específico\n",
        "numero = 15\n",
        "rango_minimo = 10\n",
        "rango_maximo = 20\n",
        "\n",
        "if numero >= rango_minimo and numero <= rango_maximo:\n",
        "    print(\"El número está dentro del rango.\")\n",
        "else:\n",
        "    print(\"El número está fuera del rango.\")"
      ]
    },
    {
      "cell_type": "markdown",
      "metadata": {},
      "source": [
        "En este caso, el mensaje \"El número está dentro del rango.\" se imprimirá si numero es mayor o igual a rango_minimo y menor o igual a rango_maximo.\n",
        "\n",
        "Estos operadores permiten construir expresiones lógicas complejas y realizar evaluaciones detalladas, esenciales para la toma de decisiones en la programación."
      ]
    },
    {
      "cell_type": "markdown",
      "metadata": {
        "id": "EdyLuTFrsF-R"
      },
      "source": [
        "<a id=\"id4\"> </a>\n",
        "# Comparaciones encadenadas\n",
        "\n",
        "Una característica interesante de Python es la posibilidad de realizar comparaciones encadenadas, lo que permite escribir condiciones más compactas y legibles. Veamos un ejemplo de cómo podemos utilizar comparaciones encadenadas y luego plantearemos un desafío para poner en práctica este concepto.\n",
        "\n",
        "En Python, se pueden encadenar comparaciones en una sola expresión. Por ejemplo, en lugar de escribir x < y and y < z, puedes escribir x < y < z. Esto es posible gracias a la evaluación de cortocircuito de Python, lo que significa que si la primera comparación devuelve False, el resto de las comparaciones no se evaluarán.\n",
        "\n",
        "Ejemplo de comparaciones encadenadas:"
      ]
    },
    {
      "cell_type": "code",
      "execution_count": 13,
      "metadata": {
        "id": "VbgPr8YhstL7"
      },
      "outputs": [
        {
          "name": "stdout",
          "output_type": "stream",
          "text": [
            "Comparación encadenada (a < b < c): True\n"
          ]
        }
      ],
      "source": [
        "a = 5\n",
        "b = 10\n",
        "c = 15\n",
        "\n",
        "# Comprobar si a es menor que b y si b es menor que c\n",
        "condicion_encadenada = a < b < c\n",
        "print(\"Comparación encadenada (a < b < c):\", condicion_encadenada) # Verdadero"
      ]
    },
    {
      "cell_type": "markdown",
      "metadata": {
        "id": "rjg0ZURjsv4z"
      },
      "source": [
        "<a id=\"des1\"> </a>\n",
        "# Desafío 1: Clasificar numeros\n",
        "\n",
        "Dado tres números distintos, clasificarlos en orden ascendente utilizando comparaciones encadenadas y operadores lógicos."
      ]
    },
    {
      "cell_type": "markdown",
      "metadata": {},
      "source": [
        "A continuación realizo el ejercicio."
      ]
    },
    {
      "cell_type": "code",
      "execution_count": 17,
      "metadata": {},
      "outputs": [
        {
          "name": "stdout",
          "output_type": "stream",
          "text": [
            "Comparación encadenada (a < b < c): True\n"
          ]
        }
      ],
      "source": [
        "a = 50\n",
        "b = 100\n",
        "c = 150\n",
        "\n",
        "# Comprobar si a es menor que b y si b es menor que c\n",
        "condicion_encadenada = a < b < c\n",
        "print(\"Comparación encadenada (a < b < c):\", condicion_encadenada) #verdadero"
      ]
    },
    {
      "cell_type": "markdown",
      "metadata": {
        "id": "F33J-X7dRTmh"
      },
      "source": [
        "<a id=\"des2\"> </a>\n",
        "# Desafío 2: Calcular promedio\n",
        "Crear un programa que lea 5 calificaciones y calcule su promedio"
      ]
    },
    {
      "cell_type": "markdown",
      "metadata": {},
      "source": [
        "Pasos para realizar el ejercicio:\n",
        "Celda 1: crear una lista con las calificaciones. En vez de pedir al usuario que ingrese las notas, las escribimos nosotros en una lista. Así es más fácil probar el código.\n",
        "Celda 2: Calcular el promedio.\n",
        "- sum(calificaciones) suma todos los valores.\n",
        "- len(calificaciones) cuenta cuántos elementos hay.\n",
        "- Al dividir, obtenemos el promedio.\n",
        "Celda 3: Mostrar el resultado en dos decimales.\n",
        "- : .2f hace que el número se muestre con dos decimales.\n"
      ]
    },
    {
      "cell_type": "code",
      "execution_count": 19,
      "metadata": {},
      "outputs": [
        {
          "name": "stdout",
          "output_type": "stream",
          "text": [
            "El promedio de las calificaciones es:  7.60\n"
          ]
        }
      ],
      "source": [
        "# Paso 1: Crear una lista con calificaciones \n",
        "#En este caso , vamos a poner calificaciones directamente en la lista.\n",
        "calificaciones = [7.5, 8.0, 6.5, 9.0, 7.0]\n",
        "calificaciones \n",
        "\n",
        "#Paso 2: Calcular el promedio de las clificaciones\n",
        "promedio = sum(calificaciones) / len(calificaciones)\n",
        "promedio\n",
        "\n",
        "#Paso 3: Mostrar el resultado formateado\n",
        "print(f\"El promedio de las calificaciones es: {promedio: .2f}\")"
      ]
    },
    {
      "cell_type": "markdown",
      "metadata": {},
      "source": [
        "Tipos de datos usados:\n",
        "float → para representar calificaciones con decimales.\n",
        "list → para guardar todas las calificaciones.\n",
        "int → para recorrer posiciones con range(5).\n",
        "\n",
        "Operadores usados:\n",
        "+ → suma de los elementos.\n",
        "/ → división para calcular el promedio.\n",
        "sum() y len() → funciones para sumar y contar los elementos de la lista."
      ]
    },
    {
      "cell_type": "markdown",
      "metadata": {},
      "source": [
        "<a id=\"des3\"> </a>\n",
        "# Desafío 3: Convertidor de temperaturas\n",
        "Realizar conversiones de una temperatura dada en Celsius a Fahrenheit y Kelvin utilizando operaciones directas sobre las variables. Los cálculos se realizarán directamente al asignar los valores a las variables."
      ]
    },
    {
      "cell_type": "markdown",
      "metadata": {},
      "source": [
        "Explicación del ejercicio: Celda 1: Elegimos una temperatura, por ejemplo 25ºC. Celda 2: Convertir a Fahrenheit. Celda 3: Converitr a Kelvin. Celda 4: Mostrar los resultados.\n",
        "Fórmulas que vamos a utulizar: \n",
        "- Fahrenheit = (Celcius x 9/5) + 32\n",
        "- Kelvin = Celcius + 273.15"
      ]
    },
    {
      "cell_type": "code",
      "execution_count": 32,
      "metadata": {},
      "outputs": [
        {
          "name": "stdout",
          "output_type": "stream",
          "text": [
            "Temperatura en Celsius: 25ºc\n",
            "Equivalente en Fahrenheit:  77.00ºF\n",
            "Equivalente en Kelvin:  298.15K\n"
          ]
        }
      ],
      "source": [
        "# Definimos la temperatura en Celcius\n",
        "celsius = 25\n",
        "celsius\n",
        "\n",
        "# Convertimos de Celcius a Fahrenheit\n",
        "fahrenheit = (celsius * 9/5) + 32\n",
        "fahrenheit\n",
        "\n",
        "# Convertimos de Celsius a Kelvin\n",
        "kelvin = celsius + 273.15\n",
        "kelvin\n",
        "\n",
        "# Mostramos todas las conversiones\n",
        "print(f\"Temperatura en Celsius: {celsius}ºc\")\n",
        "print(f\"Equivalente en Fahrenheit: {fahrenheit: .2f}ºF\")\n",
        "print(f\"Equivalente en Kelvin: {kelvin: .2f}K\")"
      ]
    },
    {
      "cell_type": "markdown",
      "metadata": {},
      "source": [
        "Tipos de datos usados:\n",
        "float → para representar temperaturas (ej. 25.0, 298.15).\n",
        "\n",
        "Operadores usados:\n",
        "* → multiplicación.\n",
        "/ → división.\n",
        "+ → suma.\n",
        "f-string → para mostrar texto con variables dentro (f\"...\")."
      ]
    },
    {
      "cell_type": "markdown",
      "metadata": {},
      "source": [
        "<a id=\"des4\"> </a>\n",
        "# Desafío 4: Verificar múltiplos de varios números\n",
        "Objetivo: Determinar si un número dado es múltiplo de 2, 3, 5, 7, 9, 10, y 11 utilizando comparaciones y operadores lógicos.\n",
        "\n",
        "*Descripción:*\n",
        "Crea un programa que, dado un número, verifique si es múltiplo de los números mencionados. Para cada uno de estos números, el programa debe indicar si el número dado es o no un múltiplo de estos.\n",
        "\n",
        "_Ejemplo de lo que se debe lograr:_\n",
        "Supongamos que el número dado es 30. El programa deberá determinar:\n",
        "\n",
        "¿Es 30 múltiplo de 2? Sí\n",
        "\n",
        "¿Es 30 múltiplo de 3? Sí\n",
        "\n",
        "¿Es 30 múltiplo de 5? Sí\n",
        "\n",
        "¿Es 30 múltiplo de 7? No\n",
        "\n",
        "¿Es 30 múltiplo de 9? No\n",
        "\n",
        "¿Es 30 múltiplo de 10? Sí\n",
        "\n",
        "¿Es 30 múltiplo de 11? No\n"
      ]
    },
    {
      "cell_type": "markdown",
      "metadata": {},
      "source": [
        "Explicación paso a paso del ejercicio: Verificar si un número es múltimplo de otros, en mi ejemplo voy a utulizar el número 20.\n",
        "Paso 1: Definir el número, esto simplemente guarda el numero en la variable (numero), que luego vamos a usar para hacer las comprobaciones. Paso 2: numero % 2 == 0, % es el operador módulo, que da el resto de una division, si el resto es 0, eso significa que el número es múltiplo. entonces 20%2 da 0: es múltiplo de 2, si hicieramos 20%3 que da 2, entonces no es múltiplo de 3.\n",
        "Paso 3: 'Sí' if numero % 2 == 0 else 'No', esto es una forma compacta de escribir if; Si numero % 2 == 0 es verdadero devuelve 'Si', sino, devuelve 'No'.\n",
        "Paso 4: Imprimir el resultado en una frase completa: print(f\"¿Es {numero} múltiplo de 2? {'Sí if numero % 2 == 0 else 'No'}\"), ¿Qué hace esto? usa una f-string (f\"\") para combinar texto con variables y cálculos. El resultado se vería así: ¿Es 20 múltiplo de 2? Sí. se repite el procedimiento con los otros números. \n",
        "Paso 5: Resultado final con numero = 20: un ejemplo sería ¿Es 20 múltiplo de 3? No, y asi sucesivamente hasta terminar la lista de números que tengamos."
      ]
    },
    {
      "cell_type": "code",
      "execution_count": 40,
      "metadata": {},
      "outputs": [
        {
          "name": "stdout",
          "output_type": "stream",
          "text": [
            "¿Es 20 múltiplo de 2? Sí\n",
            "¿Es 20 múltiplo de 3? No\n",
            "¿Es 20 múltiplo de 5? Sí\n",
            "¿Es 20 múltiplo de 7? No\n",
            "¿Es 20 múltiplo de 9? No\n",
            "¿Es 20 múltiplo de 10? Sí\n",
            "¿Es 20 múltiplo de 11? No\n"
          ]
        }
      ],
      "source": [
        "# Números a verificar\n",
        "2, 3 , 5, 7, 9, 10, 11\n",
        "\n",
        "# Definimos el número que vamos a verificar\n",
        "numero = 20\n",
        "\n",
        "# Verificamos si es múltiplo de los distintos valores\n",
        "\n",
        "print(f\"¿Es {numero} múltiplo de 2? {'Sí' if numero % 2 == 0 else 'No'}\")\n",
        "print(f\"¿Es {numero} múltiplo de 3? {'Sí' if numero % 3 == 0 else 'No'}\")\n",
        "print(f\"¿Es {numero} múltiplo de 5? {'Sí' if numero % 5 == 0 else 'No'}\")\n",
        "print(f\"¿Es {numero} múltiplo de 7? {'Sí' if numero % 7 == 0 else 'No'}\")\n",
        "print(f\"¿Es {numero} múltiplo de 9? {'Sí' if numero % 9 == 0 else 'No'}\")\n",
        "print(f\"¿Es {numero} múltiplo de 10? {'Sí'if numero % 10 == 0 else 'No'}\")\n",
        "print(f\"¿Es {numero} múltiplo de 11? {'Sí'if numero % 11 == 0 else 'No'}\")\n"
      ]
    },
    {
      "cell_type": "markdown",
      "metadata": {},
      "source": [
        "¿Qué tipo de datos y operadores utilizaste?\n",
        "\n",
        "Tipos de datos usados:\n",
        "int → el número que se analiza (ej. 20).\n",
        "str → para imprimir “Sí” o “No”\n",
        "\n",
        "Operadores usados:\n",
        "% (módulo) → para obtener el resto de una división.\n",
        "== → comparación de igualdad.\n",
        "if ... else (condicional inline).\n",
        "f-string → para imprimir resultados con texto y variables."
      ]
    },
    {
      "cell_type": "markdown",
      "metadata": {},
      "source": [
        "<a id=\"des5\"> </a>\n",
        "# Desafío 5: Calculadora de Módulo\n",
        "\n",
        "Escribe un programa que defina dos variables enteras a y b. Utiliza el operador de módulo (%) para calcular el residuo de la división de a entre b, y luego imprime el resultado. Asegúrate de que el programa maneje adecuadamente el caso en que b sea cero, imprimiendo un mensaje de error en ese caso."
      ]
    },
    {
      "cell_type": "markdown",
      "metadata": {
        "id": "C2Iqf0o9I_Ca"
      },
      "source": [
        "<a id=\"ejemplos\"></a>\n",
        "# Problema\n",
        "\n",
        "En Python, los identificadores son \"sensibles a mayúsculas y minúsculas\", lo que significa que numero y Numero son dos variables diferentes. Escribe un programa que defina dos variables, numero y Numero, les asigne valores diferentes y luego imprima ambos valores para demostrar esta característica."
      ]
    },
    {
      "cell_type": "code",
      "execution_count": null,
      "metadata": {
        "colab": {
          "base_uri": "https://localhost:8080/"
        },
        "id": "_zUTgpPoO4mD",
        "outputId": "180b38fb-b2fe-4287-b80f-d702bfb0d042"
      },
      "outputs": [],
      "source": [
        "# Definir las variables con diferentes valores\n",
        "numero = 10\n",
        "Numero = 20\n",
        "\n",
        "# Imprimir los valores de ambas variables\n",
        "print(\"El valor de numero es:\", numero)\n",
        "print(\"El valor de Numero es:\", Numero)\n"
      ]
    }
  ],
  "metadata": {
    "colab": {
      "collapsed_sections": [
        "jmd7_BeKnE5v"
      ],
      "provenance": []
    },
    "kernelspec": {
      "display_name": "Python 3",
      "name": "python3"
    },
    "language_info": {
      "codemirror_mode": {
        "name": "ipython",
        "version": 3
      },
      "file_extension": ".py",
      "mimetype": "text/x-python",
      "name": "python",
      "nbconvert_exporter": "python",
      "pygments_lexer": "ipython3",
      "version": "3.13.2"
    }
  },
  "nbformat": 4,
  "nbformat_minor": 0
}
