{
 "cells": [
  {
   "cell_type": "markdown",
   "metadata": {},
   "source": [
    "# Excepciones y errores"
   ]
  },
  {
   "cell_type": "markdown",
   "metadata": {},
   "source": [
    "## Excepciones\n",
    "\n",
    "\"El agua hierve a 100 grados bajo cero cuando hace calor.\"\n",
    "\n",
    "Aunque esta oración es correcta desde el punto de vista gramatical, su significado está lleno de contradicciones. Algo similar ocurre en la programación: incluso cuando el código tiene la sintaxis correcta, puede generar errores lógicos durante la ejecución. A estos errores se les conoce como excepciones, y son detectados cuando el programa se está ejecutando, generando mensajes de error que pueden, en muchos casos, ser controlados y gestionados.\n",
    "\n",
    "Ejecuta las siguientes líneas y observa que ocurre..."
   ]
  },
  {
   "cell_type": "code",
   "execution_count": 1,
   "metadata": {},
   "outputs": [
    {
     "ename": "ZeroDivisionError",
     "evalue": "division by zero",
     "output_type": "error",
     "traceback": [
      "\u001b[31m---------------------------------------------------------------------------\u001b[39m",
      "\u001b[31mZeroDivisionError\u001b[39m                         Traceback (most recent call last)",
      "\u001b[36mCell\u001b[39m\u001b[36m \u001b[39m\u001b[32mIn[1]\u001b[39m\u001b[32m, line 1\u001b[39m\n\u001b[32m----> \u001b[39m\u001b[32m1\u001b[39m \u001b[32m10\u001b[39m * (\u001b[32;43m1\u001b[39;49m\u001b[43m/\u001b[49m\u001b[32;43m0\u001b[39;49m)\n",
      "\u001b[31mZeroDivisionError\u001b[39m: division by zero"
     ]
    }
   ],
   "source": [
    "10 * (1/0)"
   ]
  },
  {
   "cell_type": "code",
   "execution_count": 2,
   "metadata": {},
   "outputs": [
    {
     "ename": "NameError",
     "evalue": "name 'spam' is not defined",
     "output_type": "error",
     "traceback": [
      "\u001b[31m---------------------------------------------------------------------------\u001b[39m",
      "\u001b[31mNameError\u001b[39m                                 Traceback (most recent call last)",
      "\u001b[36mCell\u001b[39m\u001b[36m \u001b[39m\u001b[32mIn[2]\u001b[39m\u001b[32m, line 1\u001b[39m\n\u001b[32m----> \u001b[39m\u001b[32m1\u001b[39m \u001b[32m4\u001b[39m + \u001b[43mspam\u001b[49m*\u001b[32m3\u001b[39m\n",
      "\u001b[31mNameError\u001b[39m: name 'spam' is not defined"
     ]
    }
   ],
   "source": [
    "4 + spam*3"
   ]
  },
  {
   "cell_type": "code",
   "execution_count": 3,
   "metadata": {},
   "outputs": [
    {
     "ename": "TypeError",
     "evalue": "can only concatenate str (not \"int\") to str",
     "output_type": "error",
     "traceback": [
      "\u001b[31m---------------------------------------------------------------------------\u001b[39m",
      "\u001b[31mTypeError\u001b[39m                                 Traceback (most recent call last)",
      "\u001b[36mCell\u001b[39m\u001b[36m \u001b[39m\u001b[32mIn[3]\u001b[39m\u001b[32m, line 1\u001b[39m\n\u001b[32m----> \u001b[39m\u001b[32m1\u001b[39m \u001b[33;43m'\u001b[39;49m\u001b[33;43m2\u001b[39;49m\u001b[33;43m'\u001b[39;49m\u001b[43m \u001b[49m\u001b[43m+\u001b[49m\u001b[43m \u001b[49m\u001b[32;43m2\u001b[39;49m\n",
      "\u001b[31mTypeError\u001b[39m: can only concatenate str (not \"int\") to str"
     ]
    }
   ],
   "source": [
    "'2' + 2"
   ]
  },
  {
   "cell_type": "markdown",
   "metadata": {},
   "source": [
    "La última línea del mensaje de error es crucial, ya que indica qué tipo de excepción ha ocurrido. Cada tipo de excepción tiene un propósito específico y se utiliza para señalar un tipo particular de error.\n",
    "\n",
    "Explicar las caracteristicas propias de los errores cometidos en los codigos anteriores."
   ]
  },
  {
   "cell_type": "markdown",
   "metadata": {},
   "source": [
    "# Como corregir esas excepciones"
   ]
  },
  {
   "cell_type": "code",
   "execution_count": 4,
   "metadata": {},
   "outputs": [
    {
     "ename": "KeyboardInterrupt",
     "evalue": "Interrupted by user",
     "output_type": "error",
     "traceback": [
      "\u001b[31m---------------------------------------------------------------------------\u001b[39m",
      "\u001b[31mKeyboardInterrupt\u001b[39m                         Traceback (most recent call last)",
      "\u001b[36mCell\u001b[39m\u001b[36m \u001b[39m\u001b[32mIn[4]\u001b[39m\u001b[32m, line 1\u001b[39m\n\u001b[32m----> \u001b[39m\u001b[32m1\u001b[39m a = (\u001b[38;5;28mint\u001b[39m) (\u001b[38;5;28;43minput\u001b[39;49m\u001b[43m(\u001b[49m\u001b[33;43m\"\u001b[39;49m\u001b[33;43mIngrese el dividendo: \u001b[39;49m\u001b[33;43m\"\u001b[39;49m\u001b[43m)\u001b[49m)\n\u001b[32m      2\u001b[39m b = (\u001b[38;5;28mint\u001b[39m) (\u001b[38;5;28minput\u001b[39m(\u001b[33m\"\u001b[39m\u001b[33mIngrese el divisor: \u001b[39m\u001b[33m\"\u001b[39m))\n\u001b[32m      4\u001b[39m \u001b[38;5;28mprint\u001b[39m(a/b)\n",
      "\u001b[36mFile \u001b[39m\u001b[32m~\\AppData\\Roaming\\Python\\Python313\\site-packages\\ipykernel\\kernelbase.py:1282\u001b[39m, in \u001b[36mKernel.raw_input\u001b[39m\u001b[34m(self, prompt)\u001b[39m\n\u001b[32m   1280\u001b[39m     msg = \u001b[33m\"\u001b[39m\u001b[33mraw_input was called, but this frontend does not support input requests.\u001b[39m\u001b[33m\"\u001b[39m\n\u001b[32m   1281\u001b[39m     \u001b[38;5;28;01mraise\u001b[39;00m StdinNotImplementedError(msg)\n\u001b[32m-> \u001b[39m\u001b[32m1282\u001b[39m \u001b[38;5;28;01mreturn\u001b[39;00m \u001b[38;5;28;43mself\u001b[39;49m\u001b[43m.\u001b[49m\u001b[43m_input_request\u001b[49m\u001b[43m(\u001b[49m\n\u001b[32m   1283\u001b[39m \u001b[43m    \u001b[49m\u001b[38;5;28;43mstr\u001b[39;49m\u001b[43m(\u001b[49m\u001b[43mprompt\u001b[49m\u001b[43m)\u001b[49m\u001b[43m,\u001b[49m\n\u001b[32m   1284\u001b[39m \u001b[43m    \u001b[49m\u001b[38;5;28;43mself\u001b[39;49m\u001b[43m.\u001b[49m\u001b[43m_parent_ident\u001b[49m\u001b[43m[\u001b[49m\u001b[33;43m\"\u001b[39;49m\u001b[33;43mshell\u001b[39;49m\u001b[33;43m\"\u001b[39;49m\u001b[43m]\u001b[49m\u001b[43m,\u001b[49m\n\u001b[32m   1285\u001b[39m \u001b[43m    \u001b[49m\u001b[38;5;28;43mself\u001b[39;49m\u001b[43m.\u001b[49m\u001b[43mget_parent\u001b[49m\u001b[43m(\u001b[49m\u001b[33;43m\"\u001b[39;49m\u001b[33;43mshell\u001b[39;49m\u001b[33;43m\"\u001b[39;49m\u001b[43m)\u001b[49m\u001b[43m,\u001b[49m\n\u001b[32m   1286\u001b[39m \u001b[43m    \u001b[49m\u001b[43mpassword\u001b[49m\u001b[43m=\u001b[49m\u001b[38;5;28;43;01mFalse\u001b[39;49;00m\u001b[43m,\u001b[49m\n\u001b[32m   1287\u001b[39m \u001b[43m\u001b[49m\u001b[43m)\u001b[49m\n",
      "\u001b[36mFile \u001b[39m\u001b[32m~\\AppData\\Roaming\\Python\\Python313\\site-packages\\ipykernel\\kernelbase.py:1325\u001b[39m, in \u001b[36mKernel._input_request\u001b[39m\u001b[34m(self, prompt, ident, parent, password)\u001b[39m\n\u001b[32m   1322\u001b[39m \u001b[38;5;28;01mexcept\u001b[39;00m \u001b[38;5;167;01mKeyboardInterrupt\u001b[39;00m:\n\u001b[32m   1323\u001b[39m     \u001b[38;5;66;03m# re-raise KeyboardInterrupt, to truncate traceback\u001b[39;00m\n\u001b[32m   1324\u001b[39m     msg = \u001b[33m\"\u001b[39m\u001b[33mInterrupted by user\u001b[39m\u001b[33m\"\u001b[39m\n\u001b[32m-> \u001b[39m\u001b[32m1325\u001b[39m     \u001b[38;5;28;01mraise\u001b[39;00m \u001b[38;5;167;01mKeyboardInterrupt\u001b[39;00m(msg) \u001b[38;5;28;01mfrom\u001b[39;00m\u001b[38;5;250m \u001b[39m\u001b[38;5;28;01mNone\u001b[39;00m\n\u001b[32m   1326\u001b[39m \u001b[38;5;28;01mexcept\u001b[39;00m \u001b[38;5;167;01mException\u001b[39;00m:\n\u001b[32m   1327\u001b[39m     \u001b[38;5;28mself\u001b[39m.log.warning(\u001b[33m\"\u001b[39m\u001b[33mInvalid Message:\u001b[39m\u001b[33m\"\u001b[39m, exc_info=\u001b[38;5;28;01mTrue\u001b[39;00m)\n",
      "\u001b[31mKeyboardInterrupt\u001b[39m: Interrupted by user"
     ]
    }
   ],
   "source": [
    "a = (int) (input(\"Ingrese el dividendo: \"))\n",
    "b = (int) (input(\"Ingrese el divisor: \"))\n",
    "\n",
    "print(a/b)"
   ]
  },
  {
   "cell_type": "markdown",
   "metadata": {},
   "source": [
    "Esto no funciona porque el usuario puede ingresar en b el valor 0.\n",
    "Mejoremos el codigo."
   ]
  },
  {
   "cell_type": "code",
   "execution_count": null,
   "metadata": {},
   "outputs": [],
   "source": [
    "# Solicitamos al usuario el dividendo y lo convertimos a entero\n",
    "a = float(input(\"Ingrese el dividendo: \"))\n",
    "\n",
    "# Solicitamos al usuario el divisor y lo convertimos a entero\n",
    "b = float(input(\"Ingrese el divisor: \"))\n",
    "\n",
    "# Intentamos realizar la división\n",
    "try:\n",
    "    resultado = a/b\n",
    "    print(resultado)\n",
    "except ZeroDivisionError:  # Si ocurre una división por cero\n",
    "    print(\"Error: División por cero no permitida.\")\n"
   ]
  },
  {
   "cell_type": "markdown",
   "metadata": {},
   "source": [
    "Las excepciones son eventos que ocurren durante la ejecución de un programa y que interrumpen el flujo normal de las instrucciones. Imagina que tu código es una receta de cocina. Si un paso falla (por ejemplo, se te cae el huevo al suelo), no puedes seguir al siguiente paso como si nada. La excepción es ese momento en el que el programa dice: \"¡Algo salió mal!\".\n",
    "\n",
    "## ¿Por qué se usan las excepciones?\n",
    "Las excepciones se usan para manejar errores de manera controlada y elegante. En lugar de que el programa se cierre de golpe y muestre un mensaje de error feo, puedes \"capturar\" esa excepción y decidir qué hacer. Esto hace que tu programa sea más robusto y amigable para el usuario.\n",
    "\n",
    "En tu ejemplo de la división, si un usuario ingresa un cero como divisor, el programa intentará hacer una operación matemáticamente imposible: dividir por cero. Sin manejo de excepciones, esto causaría un ZeroDivisionError y el programa se detendría. Con try y except, puedes anticipar este error, capturarlo y, por ejemplo, pedirle al usuario que ingrese otro número en lugar de dejar que el programa colapse.\n",
    "\n",
    "## ¿Cómo se usan try y except?\n",
    "La estructura básica es como un \"intento y captura\".\n",
    "\n",
    "# try: \n",
    "Aquí pones el código que podría generar una excepción. Es tu \"bloque de prueba\". Si algo sale mal en este bloque, el programa salta a la sección except.\n",
    "\n",
    "# except: \n",
    "Aquí pones el código que se ejecutará si ocurre una excepción en el bloque try. Puedes especificar el tipo de excepción que quieres manejar (como ZeroDivisionError) para tener un control más preciso.\n",
    "\n",
    "Hola, ¡todo bien! Me alegra que estés aprendiendo sobre el manejo de excepciones en programación. Es un concepto fundamental que te será muy útil.\n",
    "\n",
    "Las excepciones son eventos que ocurren durante la ejecución de un programa y que interrumpen el flujo normal de las instrucciones. Imagina que tu código es una receta de cocina. Si un paso falla (por ejemplo, se te cae el huevo al suelo), no puedes seguir al siguiente paso como si nada. La excepción es ese momento en el que el programa dice: \"¡Algo salió mal!\".\n",
    "\n",
    "¿Por qué se usan las excepciones?\n",
    "Las excepciones se usan para manejar errores de manera controlada y elegante. En lugar de que el programa se cierre de golpe y muestre un mensaje de error feo, puedes \"capturar\" esa excepción y decidir qué hacer. Esto hace que tu programa sea más robusto y amigable para el usuario.\n",
    "\n",
    "En tu ejemplo de la división, si un usuario ingresa un cero como divisor, el programa intentará hacer una operación matemáticamente imposible: dividir por cero. Sin manejo de excepciones, esto causaría un ZeroDivisionError y el programa se detendría. Con try y except, puedes anticipar este error, capturarlo y, por ejemplo, pedirle al usuario que ingrese otro número en lugar de dejar que el programa colapse.\n",
    "\n",
    "¿Cómo se usan try y except?\n",
    "La estructura básica es como un \"intento y captura\".\n",
    "\n",
    "try: Aquí pones el código que podría generar una excepción. Es tu \"bloque de prueba\". Si algo sale mal en este bloque, el programa salta a la sección except.\n",
    "\n",
    "except: Aquí pones el código que se ejecutará si ocurre una excepción en el bloque try. Puedes especificar el tipo de excepción que quieres manejar (como ZeroDivisionError) para tener un control más preciso.\n",
    "\n",
    "### Ejemplo con tu código de clase\n",
    "Vamos a analizar el código\n",
    "\n"
   ]
  },
  {
   "cell_type": "code",
   "execution_count": null,
   "metadata": {},
   "outputs": [],
   "source": [
    "try:\n",
    "    # Bloque 1: 'try'\n",
    "    dividendo = int(input(\"Ingrese el dividendo: \"))\n",
    "    divisor = int(input(\"Ingrese el divisor: \"))\n",
    "    resultado = dividendo / divisor\n",
    "    print(f\"El resultado de la división es: {resultado}\")\n",
    "\n",
    "except ZeroDivisionError:\n",
    "    # Bloque 2: 'except'\n",
    "    print(\"Error: ¡No se puede dividir por cero!\")\n",
    "    \n",
    "except ValueError:\n",
    "    # Bloque 3: 'except'\n",
    "    print(\"Error: Asegúrate de ingresar números enteros.\")\n",
    "\n",
    "except Exception as e:\n",
    "    # Bloque 4: 'except' para cualquier otra excepción\n",
    "    print(f\"Ocurrió un error inesperado: {e}\")"
   ]
  },
  {
   "cell_type": "markdown",
   "metadata": {},
   "source": [
    "## Explicación paso a paso:\n",
    "try: El programa intenta ejecutar las líneas de código para pedir los números, convertirlos a enteros (int()) y realizar la división.\n",
    "\n",
    "# except ZeroDivisionError:\n",
    " Si en el bloque try el usuario ingresa un 0 como divisor, se produce un ZeroDivisionError. El programa salta directamente a este bloque, imprime el mensaje de error y no ejecuta la línea print que calcula el resultado.\n",
    "\n",
    "# except ValueError:\n",
    " Si el usuario ingresa texto en lugar de un número (por ejemplo, \"hola\"), la función int() no puede convertirlo y lanza un ValueError. El programa salta a este bloque, informando al usuario que debe ingresar números.\n",
    "\n",
    "# except Exception as e:\n",
    " Es una buena práctica incluir un except más genérico para capturar cualquier otra excepción inesperada. La variable e contendrá la información del error, lo que puede ser útil para depurar.\n",
    "\n",
    "En resumen, el uso de try y except en este escenario es para anticipar y gestionar de forma segura los posibles errores que pueden ocurrir por la entrada del usuario, como la división por cero o la entrada de datos no válidos. Esto hace que tu programa no solo funcione correctamente, sino que también sea más inteligente y fácil de usar."
   ]
  },
  {
   "cell_type": "markdown",
   "metadata": {},
   "source": [
    "## Desafíos\n",
    "### Desafío 67: \n",
    "Solicita al usuario dos números enteros e implementa un try-except que maneje la división por cero y los valores no numéricos. Muestra mensajes de error apropiados en cada caso.\n",
    "\n",
    "### Desafío 68: \n",
    "Crea un programa que tome una lista de valores y realice operaciones matemáticas sobre ellos. Implementa el manejo de varias excepciones comunes como ZeroDivisionError, TypeError, y ValueError.\n",
    "\n",
    "### Desafío 69: \n",
    "Escribe una función que calcule el factorial de un número entero positivo. Maneja las excepciones si el número ingresado es negativo, no es entero, o es demasiado grande para ser procesado.\n",
    "\n",
    "### Desafío 70: \n",
    "Crea una excepción personalizada llamada NegativeNumberError que se dispare si el usuario intenta ingresar un número negativo en un programa de cálculo de raíces cuadradas. Implementa el manejo de esta excepción en el programa.\n",
    "\n",
    "### Desafío 71: \n",
    "Desarrolla un programa que abra un archivo de texto, lea su contenido y lo muestre. Implementa manejo de excepciones para archivos que no existan y usa finally para asegurarte de que el archivo se cierre adecuadamente en cualquier caso."
   ]
  }
 ],
 "metadata": {
  "kernelspec": {
   "display_name": "Python 3",
   "language": "python",
   "name": "python3"
  },
  "language_info": {
   "codemirror_mode": {
    "name": "ipython",
    "version": 3
   },
   "file_extension": ".py",
   "mimetype": "text/x-python",
   "name": "python",
   "nbconvert_exporter": "python",
   "pygments_lexer": "ipython3",
   "version": "3.13.2"
  },
  "orig_nbformat": 4
 },
 "nbformat": 4,
 "nbformat_minor": 2
}
