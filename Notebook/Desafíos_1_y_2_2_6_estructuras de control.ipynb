{
 "cells": [
  {
   "cell_type": "markdown",
   "id": "7b4c6bec",
   "metadata": {},
   "source": [
    "## Desafío 1: Calificaciones aprobadas \n",
    "\n",
    "Supón que estás analizando las calificaciones de los estudiantes y quieres saber cuántos aprobaron y cuántos desaprobaron. Se considera que una calificación de 7 o superior es aprobatoria y cualquier calificación menor a 7 es desaprobatoria. Utiliza lo que aprendiste sobre bucles y condicionales para resolver este problema."
   ]
  },
  {
   "cell_type": "code",
   "execution_count": 1,
   "id": "97fc78ea",
   "metadata": {},
   "outputs": [
    {
     "name": "stdout",
     "output_type": "stream",
     "text": [
      "Cantidad de estudiantes que aprobaron: 4\n",
      "Cantidad de estudiantes que desaprobaron: 3\n"
     ]
    }
   ],
   "source": [
    "# Lista de calificaciones que vamos a analizar\n",
    "calificaciones = [5, 8, 9, 4, 7, 10, 6]\n",
    "\n",
    "# Variables para contar cuántos aprobaron y cuántos no\n",
    "aprobados = 0\n",
    "desaprobados = 0\n",
    "\n",
    "# Recorremos cada calificación usando un bucle for\n",
    "for nota in calificaciones:\n",
    "    # Usamos un condicional para decidir si es aprobada o no\n",
    "    if nota >= 7:\n",
    "        aprobados += 1\n",
    "    else:\n",
    "        desaprobados += 1\n",
    "\n",
    "# Mostramos los resultados por pantalla\n",
    "print(\"Cantidad de estudiantes que aprobaron:\", aprobados)\n",
    "print(\"Cantidad de estudiantes que desaprobaron:\", desaprobados)\n"
   ]
  },
  {
   "cell_type": "markdown",
   "id": "0ddaec5f",
   "metadata": {},
   "source": [
    "lo primeor que hacemos es poner las calificaciones: calificaciones = [5, 8, 9, 4, 7, 10, 6]\n",
    "Esto es una lista de números que representan las notas de los estudiantes. Podés imaginar que son 7 estudiantes que sacaron esas notas.\n",
    "el segundo paso es en: Variables para contar cuántos aprobaron y cuántos no\n",
    "aprobados = 0\n",
    "desaprobados = 0\n",
    "Estas son dos variables contadoras, que arrancan en 0.\n",
    "aprobados se va a usar para contar cuántos estudiantes aprobaron.\n",
    "desaprobados cuenta los que no aprobaron.\n",
    "El tercer paso es en recorrer cada calificacion: Recorremos cada calificación usando un bucle for\n",
    "for nota in calificaciones:\n",
    "Este bucle va a repetir las instrucciones que vienen después para cada nota que hay en la lista calificaciones.\n",
    "Por ejemplo, en la primera vuelta, nota vale 5; en la segunda vuelta, vale 8; y así hasta el final. \n",
    "    # Usamos un condicional para decidir si es aprobada o no\n",
    "    if nota >= 7:\n",
    "        aprobados += 1\n",
    "    else:\n",
    "        desaprobados += 1\n",
    "Dentro del bucle:Si la nota es mayor o igual que 7, la persona aprobó, entonces sumamos 1 al contador aprobados.\n",
    "\n",
    "Si la nota es menor a 7, usamos el else para decir que desaprobó, y sumamos 1 al contador desaprobados.\n",
    "Y finalmente Mostramos los resultados por pantalla\n",
    "print(\"Cantidad de estudiantes que aprobaron:\", aprobados)\n",
    "print(\"Cantidad de estudiantes que desaprobaron:\", desaprobados)\n",
    "Después que terminó el bucle (es decir, ya revisamos todas las notas), mostramos cuántos aprobaron y cuántos desaprobaron.\n",
    "\n",
    "\n",
    "\n"
   ]
  },
  {
   "cell_type": "markdown",
   "id": "d3fd9288",
   "metadata": {},
   "source": [
    "## Desafío 2: Mejora del cálculo\n",
    "\n",
    "Toma el ejemplo del cálculo del promedio de calificaciones y mejóralo. En lugar de pedir las calificaciones una por una, modifica el código para pedir todas las calificaciones al mismo tiempo (el estudiante puede ingresar las calificaciones separadas por comas) y luego calcular el promedio."
   ]
  },
  {
   "cell_type": "code",
   "execution_count": 3,
   "id": "e30fcc7b",
   "metadata": {},
   "outputs": [
    {
     "name": "stdout",
     "output_type": "stream",
     "text": [
      "El promedio de calificaciones es: 7.5\n"
     ]
    }
   ],
   "source": [
    "# Pedimos todas las calificaciones en una sola línea, separadas por comas\n",
    "entrada = input(\"Ingresá las calificaciones separadas por comas (por ejemplo: 7,8,5,10): \")\n",
    "\n",
    "# Convertimos la cadena de texto en una lista de números \n",
    "calificaciones = entrada.split(\",\")             # Separamos por comas : lista de strings\n",
    "calificaciones = [int(nota.strip()) for nota in calificaciones]  # Convertimos a enteros y quitamos espacios\n",
    "\n",
    "# Calculamos el promedio\n",
    "suma = sum(calificaciones)\n",
    "cantidad = len(calificaciones)\n",
    "promedio = suma / cantidad\n",
    "\n",
    "# Mostramos el resultado\n",
    "print(\"El promedio de calificaciones es:\", promedio)\n"
   ]
  },
  {
   "cell_type": "markdown",
   "id": "1aaabdb8",
   "metadata": {},
   "source": [
    "Como primer paso pedimos todas las calificaciones al usuario: entrada = input(\"Ingresá las calificaciones separadas por comas (por ejemplo: 7,8,5,10): \")\n",
    "Esto le muestra el mensaje al usuario para que escriba las notas, separadas por comas, por ejemplo si el usuario escribe: 7,8,5,10 entonces la variable entrada va a tener este texto \"7,8,5,10\". El segundo paso es convertir ese texto en una lista: calificaciones = entrada.split(\",\")\n",
    "El método .split(\",\") divide el texto en partes cada vez que encuentra una coma -.split() se usa para dividir una cadena (string) en una lista de subcadenas, utilizando un delimitador especificado. Por defecto, si no se proporciona un delimitador, divide la cadena en base a los espacios en blanco, entonces: La función split():\n",
    "string: La cadena que se va a dividir.\n",
    "separator: La cadena que se utiliza para dividir la cadena original.\n",
    "maxsplit: El número máximo de divisiones que se realizarán. Si se omite, se dividirán todas las ocurrencias del delimitador. - , como resultado:  ['7', '8', '5', '10']\n",
    "Esto es una lista strings (textos), todavia no son números. El paso 3 consiste en convertir cada cadena string a número entero: calificaciones = [int(nota.strip()) for nota in calificaciones]\n",
    "Esta parte usa una lista por comprensión. Lo que hace es: recorrer cada nota en la lista, le aplica strip() para quitar espacios (por si alguien escribe \"8\" ), y convierte la nota a número entero con int(). como resultado final obtenemos: [7, 8, 5, 10]\n",
    "ahora si es una lista de números [] por lo que podemos hacer el cálculo. El paso 4 es calcular la suma total: suma = sum(calificaciones)\n",
    "sum() suma todos los elementos de la lista, en el ejemplo: 7+8+5+10=30, entonces suma =30. En el paso 5 contamos cuántas notas hay: cantidad = len(calificaciones)\n",
    "len() nos dice cuántos elementos hay en la lista, en este caso hay 4 calificaciones, asi que cantidad =4. En el paso 6 calculamos el promedio: promedio = suma / cantidad\n",
    "dividimos la suma total por la cantidad de notas, en este ejemplo: 30/4=7.5, entonces el promedio =7.5, y finalmente en el paso 7 mostramos el resultado: print(\"El promedio de calificaciones es:\", promedio)\n",
    "esto imprime el promedio final en pantalla, resultado: El promedio de calificaciones es: 7.5. Como resumen, el usuario escribe todas las notas juntas (7,8,5,10) luego el programa las convierte en números, luego calcula la suma y la cantidad y finalmente saca el promedio y lo muestra en pantalla.\n",
    "  "
   ]
  },
  {
   "cell_type": "markdown",
   "id": "4b1b8028",
   "metadata": {},
   "source": [
    "link al respositorio en GitHub: "
   ]
  }
 ],
 "metadata": {
  "kernelspec": {
   "display_name": "Python 3",
   "language": "python",
   "name": "python3"
  },
  "language_info": {
   "codemirror_mode": {
    "name": "ipython",
    "version": 3
   },
   "file_extension": ".py",
   "mimetype": "text/x-python",
   "name": "python",
   "nbconvert_exporter": "python",
   "pygments_lexer": "ipython3",
   "version": "3.13.2"
  }
 },
 "nbformat": 4,
 "nbformat_minor": 5
}
