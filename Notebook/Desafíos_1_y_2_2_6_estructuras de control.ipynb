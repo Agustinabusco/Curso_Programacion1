{
 "cells": [
  {
   "cell_type": "markdown",
   "id": "7b4c6bec",
   "metadata": {},
   "source": [
    "## Desafío 1: Calificaciones aprobadas \n",
    "\n",
    "Supón que estás analizando las calificaciones de los estudiantes y quieres saber cuántos aprobaron y cuántos desaprobaron. Se considera que una calificación de 7 o superior es aprobatoria y cualquier calificación menor a 7 es desaprobatoria. Utiliza lo que aprendiste sobre bucles y condicionales para resolver este problema."
   ]
  },
  {
   "cell_type": "code",
   "execution_count": 1,
   "id": "97fc78ea",
   "metadata": {},
   "outputs": [
    {
     "name": "stdout",
     "output_type": "stream",
     "text": [
      "Cantidad de estudiantes que aprobaron: 4\n",
      "Cantidad de estudiantes que desaprobaron: 3\n"
     ]
    }
   ],
   "source": [
    "# Lista de calificaciones que vamos a analizar\n",
    "calificaciones = [5, 8, 9, 4, 7, 10, 6]\n",
    "\n",
    "# Variables para contar cuántos aprobaron y cuántos no\n",
    "aprobados = 0\n",
    "desaprobados = 0\n",
    "\n",
    "# Recorremos cada calificación usando un bucle for\n",
    "for nota in calificaciones:\n",
    "    # Usamos un condicional para decidir si es aprobada o no\n",
    "    if nota >= 7:\n",
    "        aprobados += 1\n",
    "    else:\n",
    "        desaprobados += 1\n",
    "\n",
    "# Mostramos los resultados por pantalla\n",
    "print(\"Cantidad de estudiantes que aprobaron:\", aprobados)\n",
    "print(\"Cantidad de estudiantes que desaprobaron:\", desaprobados)\n"
   ]
  },
  {
   "cell_type": "markdown",
   "id": "0ddaec5f",
   "metadata": {},
   "source": [
    "lo primeor que hacemos es poner las calificaciones: calificaciones = [5, 8, 9, 4, 7, 10, 6]\n",
    "Esto es una lista de números que representan las notas de los estudiantes. Podés imaginar que son 7 estudiantes que sacaron esas notas.\n",
    "el segundo paso es en: Variables para contar cuántos aprobaron y cuántos no\n",
    "aprobados = 0\n",
    "desaprobados = 0\n",
    "Estas son dos variables contadoras, que arrancan en 0.\n",
    "aprobados se va a usar para contar cuántos estudiantes aprobaron.\n",
    "desaprobados cuenta los que no aprobaron.\n",
    "El tercer paso es en recorrer cada calificacion: Recorremos cada calificación usando un bucle for\n",
    "for nota in calificaciones:\n",
    "Este bucle va a repetir las instrucciones que vienen después para cada nota que hay en la lista calificaciones.\n",
    "Por ejemplo, en la primera vuelta, nota vale 5; en la segunda vuelta, vale 8; y así hasta el final. \n",
    "    # Usamos un condicional para decidir si es aprobada o no\n",
    "    if nota >= 7:\n",
    "        aprobados += 1\n",
    "    else:\n",
    "        desaprobados += 1\n",
    "Dentro del bucle:Si la nota es mayor o igual que 7, la persona aprobó, entonces sumamos 1 al contador aprobados.\n",
    "\n",
    "Si la nota es menor a 7, usamos el else para decir que desaprobó, y sumamos 1 al contador desaprobados.\n",
    "Y finalmente Mostramos los resultados por pantalla\n",
    "print(\"Cantidad de estudiantes que aprobaron:\", aprobados)\n",
    "print(\"Cantidad de estudiantes que desaprobaron:\", desaprobados)\n",
    "Después que terminó el bucle (es decir, ya revisamos todas las notas), mostramos cuántos aprobaron y cuántos desaprobaron.\n",
    "\n",
    "\n",
    "\n"
   ]
  }
 ],
 "metadata": {
  "kernelspec": {
   "display_name": "Python 3",
   "language": "python",
   "name": "python3"
  },
  "language_info": {
   "codemirror_mode": {
    "name": "ipython",
    "version": 3
   },
   "file_extension": ".py",
   "mimetype": "text/x-python",
   "name": "python",
   "nbconvert_exporter": "python",
   "pygments_lexer": "ipython3",
   "version": "3.13.2"
  }
 },
 "nbformat": 4,
 "nbformat_minor": 5
}
