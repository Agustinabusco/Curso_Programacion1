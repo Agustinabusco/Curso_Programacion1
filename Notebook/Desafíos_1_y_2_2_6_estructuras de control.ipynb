{
 "cells": [
  {
   "cell_type": "markdown",
   "id": "b71e43a7",
   "metadata": {},
   "source": [
    "## Desafío 1: Calificaciones aprobadas \n",
    "\n",
    "Supón que estás analizando las calificaciones de los estudiantes y quieres saber cuántos aprobaron y cuántos desaprobaron. Se considera que una calificación de 7 o superior es aprobatoria y cualquier calificación menor a 7 es desaprobatoria. Utiliza lo que aprendiste sobre bucles y condicionales para resolver este problema."
   ]
  },
  {
   "cell_type": "code",
   "execution_count": 1,
   "id": "b2af9ede",
   "metadata": {},
   "outputs": [
    {
     "name": "stdout",
     "output_type": "stream",
     "text": [
      "Cantidad de estudiantes que aprobaron: 4\n",
      "Cantidad de estudiantes que desaprobaron: 3\n"
     ]
    }
   ],
   "source": [
    "# Lista de calificaciones \n",
    "calificaciones = [5, 8, 9, 4, 7, 10, 6]\n",
    "\n",
    "# Variables para contar cuántos aprobaron y cuántos no\n",
    "aprobados = 0\n",
    "desaprobados = 0\n",
    "\n",
    "# Recorremos cada calificación usando un bucle for\n",
    "for nota in calificaciones:\n",
    "    # Usamos un condicional para decidir si es aprobada o no\n",
    "    if nota >= 7:\n",
    "        aprobados += 1\n",
    "    else:\n",
    "        desaprobados += 1\n",
    "\n",
    "# Mostramos los resultados\n",
    "print(\"Cantidad de estudiantes que aprobaron:\", aprobados)\n",
    "print(\"Cantidad de estudiantes que desaprobaron:\", desaprobados)\n"
   ]
  },
  {
   "cell_type": "markdown",
   "id": "ffd0b8d2",
   "metadata": {},
   "source": [
    "Primero que nada cree una lista de las notas de los estudiantes,como segundo paso creamos dos contadores: estas son variables contadoras, que arrancan en 0. aprobados: se va a usar para contar cuántos estudiantes aprobaron y desaprobados cuenta los que no aprobaron. Como tercer paso use un bucle for para recorrer la lista, este bucle va a repetir las instrucciones que vienen después para cada nota que hay en la lista de calificaciones. Por ejemplo, en la primera vuelta, nota vale 5; en la segunda vuelta vale 8; y así hasta el final. como cuarto paso utilice un condicional (if) para decidir si aprobó o no, dentro del bucle: si la nota es mayor o igual que 7, la persona aprobó, entonces sumamamos 1 al contador de aprobados, si la nota es menor a 7, usamos else para decir que desaprobó y sumamos 1 al contador de desaprobados. como paso 5, y final se muestra en pantalla los resultados, despues que terminó el bucle, es decir, ya revisamos todas las notas, mostramos cuántos aprobaron y cuántos desaprobaron. para concluir, use una lista para guardar las notas, un bucle (for) para recorrer cada nota, un condicional (if/else) para ver si aprobó o no, variables contadoras para llevar la cuenta y al final usé print para mostrar los resultados."
   ]
  }
 ],
 "metadata": {
  "kernelspec": {
   "display_name": "Python 3",
   "language": "python",
   "name": "python3"
  },
  "language_info": {
   "codemirror_mode": {
    "name": "ipython",
    "version": 3
   },
   "file_extension": ".py",
   "mimetype": "text/x-python",
   "name": "python",
   "nbconvert_exporter": "python",
   "pygments_lexer": "ipython3",
   "version": "3.13.2"
  }
 },
 "nbformat": 4,
 "nbformat_minor": 5
}
