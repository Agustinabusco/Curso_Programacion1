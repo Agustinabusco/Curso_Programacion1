{
 "cells": [
  {
   "cell_type": "markdown",
   "id": "236b75ba",
   "metadata": {},
   "source": [
    "## Desafío 3: Simulación de una carrera de autos\n",
    "\n",
    "Vas a simular una carrera de autos. Cada auto tiene una velocidad aleatoria (puedes usar la biblioteca random de Python) y cada ciclo del bucle representa un segundo de la carrera. Al final de cada segundo, cada auto avanza una distancia igual a su velocidad. La carrera dura 10 segundos. Al final de la carrera, debes imprimir el auto ganador. Si hay un empate, debes imprimir todos los autos que empataron.\n",
    "\n",
    "*Nota:* Este desafío puede requerir que aprendas sobre conceptos adicionales, por ejemplo cómo generar números aleatorios."
   ]
  },
  {
   "cell_type": "markdown",
   "id": "343f2861",
   "metadata": {},
   "source": [
    "Objetivo Simular una carrera entre 3 autos durante 10 segundos.\n",
    "Cada segundo, cada auto avanza una cantidad aleatoria de unidades (entre 1 y 10).\n",
    "Al final, mostramos qué auto ganó o si hubo empate"
   ]
  },
  {
   "cell_type": "code",
   "execution_count": 5,
   "id": "172c097b",
   "metadata": {},
   "outputs": [
    {
     "name": "stdout",
     "output_type": "stream",
     "text": [
      "Segundo 1\n",
      "Auto 1 avanzó 5 unidades (total: 5)\n",
      "Auto 2 avanzó 7 unidades (total: 7)\n",
      "Auto 3 avanzó 7 unidades (total: 7)\n",
      "---\n",
      "Segundo 2\n",
      "Auto 1 avanzó 10 unidades (total: 15)\n",
      "Auto 2 avanzó 2 unidades (total: 9)\n",
      "Auto 3 avanzó 8 unidades (total: 15)\n",
      "---\n",
      "Segundo 3\n",
      "Auto 1 avanzó 6 unidades (total: 21)\n",
      "Auto 2 avanzó 10 unidades (total: 19)\n",
      "Auto 3 avanzó 1 unidades (total: 16)\n",
      "---\n",
      "Segundo 4\n",
      "Auto 1 avanzó 7 unidades (total: 28)\n",
      "Auto 2 avanzó 9 unidades (total: 28)\n",
      "Auto 3 avanzó 4 unidades (total: 20)\n",
      "---\n",
      "Segundo 5\n",
      "Auto 1 avanzó 3 unidades (total: 31)\n",
      "Auto 2 avanzó 9 unidades (total: 37)\n",
      "Auto 3 avanzó 4 unidades (total: 24)\n",
      "---\n",
      "Segundo 6\n",
      "Auto 1 avanzó 8 unidades (total: 39)\n",
      "Auto 2 avanzó 1 unidades (total: 38)\n",
      "Auto 3 avanzó 5 unidades (total: 29)\n",
      "---\n",
      "Segundo 7\n",
      "Auto 1 avanzó 1 unidades (total: 40)\n",
      "Auto 2 avanzó 2 unidades (total: 40)\n",
      "Auto 3 avanzó 8 unidades (total: 37)\n",
      "---\n",
      "Segundo 8\n",
      "Auto 1 avanzó 2 unidades (total: 42)\n",
      "Auto 2 avanzó 1 unidades (total: 41)\n",
      "Auto 3 avanzó 10 unidades (total: 47)\n",
      "---\n",
      "Segundo 9\n",
      "Auto 1 avanzó 9 unidades (total: 51)\n",
      "Auto 2 avanzó 10 unidades (total: 51)\n",
      "Auto 3 avanzó 10 unidades (total: 57)\n",
      "---\n",
      "Segundo 10\n",
      "Auto 1 avanzó 3 unidades (total: 54)\n",
      "Auto 2 avanzó 2 unidades (total: 53)\n",
      "Auto 3 avanzó 6 unidades (total: 63)\n",
      "---\n",
      "\n",
      " Resultado final de la carrera:\n",
      "El ganador es Auto 3 con 63 unidades recorridas.\n"
     ]
    }
   ],
   "source": [
    "import random\n",
    "\n",
    "# Lista de autos\n",
    "autos = [\"Auto 1\", \"Auto 2\", \"Auto 3\"]\n",
    "\n",
    "# Diccionario para guardar las distancias recorridas\n",
    "distancias = {auto: 0 for auto in autos}\n",
    "\n",
    "# Simular la carrera de 10 segundos\n",
    "for segundo in range(10):\n",
    "    print(f\"Segundo {segundo + 1}\")\n",
    "    for auto in autos:\n",
    "        velocidad = random.randint(1, 10)\n",
    "        distancias[auto] += velocidad\n",
    "        print(f\"{auto} avanzó {velocidad} unidades (total: {distancias[auto]})\")\n",
    "    print(\"---\")\n",
    "\n",
    "# Determinar quién ganó\n",
    "mayor_distancia = max(distancias.values())\n",
    "ganadores = [auto for auto, d in distancias.items() if d == mayor_distancia]\n",
    "\n",
    "# Mostrar resultados\n",
    "print(\"\\n Resultado final de la carrera:\")\n",
    "if len(ganadores) == 1:\n",
    "    print(f\"El ganador es {ganadores[0]} con {mayor_distancia} unidades recorridas.\")\n",
    "else:\n",
    "    print(\"Hay un empate entre los siguientes autos:\")\n",
    "    for auto in ganadores:\n",
    "        print(f\"- {auto} (con {mayor_distancia} unidades)\")\n"
   ]
  }
 ],
 "metadata": {
  "kernelspec": {
   "display_name": "Python 3",
   "language": "python",
   "name": "python3"
  },
  "language_info": {
   "codemirror_mode": {
    "name": "ipython",
    "version": 3
   },
   "file_extension": ".py",
   "mimetype": "text/x-python",
   "name": "python",
   "nbconvert_exporter": "python",
   "pygments_lexer": "ipython3",
   "version": "3.13.2"
  }
 },
 "nbformat": 4,
 "nbformat_minor": 5
}
