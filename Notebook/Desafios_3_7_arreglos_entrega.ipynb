{
 "cells": [
  {
   "cell_type": "markdown",
   "id": "40cb2541",
   "metadata": {},
   "source": [
    "# Desafío 4: Control de Notas de Estudiantes\n",
    "Como profesor, necesitas manejar las notas de tus estudiantes. Permite ingresar todas las notas de los estudiantes y realiza varias operaciones con esos datos.\n",
    "\n",
    "**Pregunta 1: Calcula el promedio de las notas de la clase. ¿Cómo lo harías?**\n",
    "\n",
    "**Pregunta 2: Encuentra la nota más baja y la más alta. ¿Cómo lo harías?**\n"
   ]
  },
  {
   "cell_type": "markdown",
   "id": "488f6c52",
   "metadata": {},
   "source": [
    "### Pregunta 1"
   ]
  },
  {
   "cell_type": "code",
   "execution_count": 2,
   "id": "d00576c7",
   "metadata": {},
   "outputs": [
    {
     "name": "stdout",
     "output_type": "stream",
     "text": [
      "Promedio de la clase: 7.5\n"
     ]
    }
   ],
   "source": [
    "# Lista de notas de los estudiantes\n",
    "\n",
    "notas = [6, 8, 6, 10]\n",
    "\n",
    "# Calcular el promedio\n",
    "\n",
    "promedio = sum(notas) / len(notas)\n",
    "print(\"Promedio de la clase:\", promedio)"
   ]
  },
  {
   "cell_type": "markdown",
   "id": "f44d957a",
   "metadata": {},
   "source": [
    "Respuesta a la pregunta 1: El primer paso es crear una lista llamada -notas-, allí guardaremos las calificaciones de los estudiantes. Las listas en Python se escriben entre corchetes [] y pueden guardar varios datos, separados por comas. En este caso, guardamos cuatro notas: 6, 8, 6 y 10. Entonces la pregunta es ¿Cómo calcular el promedio de las notas? El paso 1 sería escribir la función sum(notas), ésta nos permite sumar todos los elementos que están dentro de la lista notas.\n",
    "En este caso: sum([6, 8, 6, 10]): siendo 6 + 8 + 6 + 10 = 30. El paso 2 sería utilizar la función len(), la cual se usa para contar cuántos elemenos hay en la lista; En esta caso hay 4 notas, asi que len([6, 8, 6, 10]) = 4. \n",
    "El paso 3 consiste en realizar la división para obtener el promedio, entonces, dividimos el total de las notas (30) entre la cantidad de notas (4). Finalmente utilizamos el signo = para guardar el resultado del cálculo en la variavle promedio."
   ]
  },
  {
   "cell_type": "markdown",
   "id": "d1d1383a",
   "metadata": {},
   "source": [
    "### Pregunta 2"
   ]
  },
  {
   "cell_type": "code",
   "execution_count": 6,
   "id": "70254af3",
   "metadata": {},
   "outputs": [
    {
     "name": "stdout",
     "output_type": "stream",
     "text": [
      "Nota más baja: 6\n",
      "Nota más alta: 10\n"
     ]
    }
   ],
   "source": [
    "# Encontrar la nota más baja y la más alta\n",
    "\n",
    "nota_baja = min(notas)\n",
    "nota_mas_alta = max(notas)\n",
    "print(\"Nota más baja:\", nota_baja)\n",
    "print(\"Nota más alta:\", nota_mas_alta)"
   ]
  },
  {
   "cell_type": "markdown",
   "id": "b011f436",
   "metadata": {},
   "source": [
    "Respuesta a la pregunta 2: El primer paso consiste en determinar la función min(notas) la cual nos permite buscar el valor mas bajo en la lista, en este caso: min([6, 8, 6, 10]) devuelve 6.\n",
    "El segundo paso es utilizar la función max(notas) la cual nos permite buscar el valor más alto en la lista, en este caso: max([6, 8, 6, 10]) devuelve 10. Como paso 3, guardamos los resultados en variables llamadas nota_mas_baja y nota_mas_alta y finalmente mostramos los resultados en pantalla con la función print() la cual sirve para mostrar información por pantalla como mencioné anteriormente, no está de más decir que es muy útil para que el usuario vea los resultados en la pantalla cuando el programa se ejecuta."
   ]
  },
  {
   "cell_type": "markdown",
   "id": "05d3a726",
   "metadata": {},
   "source": [
    "# Desafío 1: Gestión del Stock de la Verdulería\n",
    "\n",
    "¡Bienvenido al desafío de la verdulería! Has sido nombrado el nuevo gerente de una tienda de frutas, verduras y hortalizas. Tu tarea será manejar el stock de la tienda utilizando un arreglo. Aquí hay una serie de tareas que tendrás que completar.\n",
    "\n",
    "## Inventario inicial\n",
    "\n",
    "Aquí está el inventario inicial de la tienda:"
   ]
  },
  {
   "cell_type": "code",
   "execution_count": null,
   "id": "99994cd3",
   "metadata": {},
   "outputs": [],
   "source": [
    "inventario = [\"manzanas\", \"bananas\", \"zanahorias\", \"espinacas\", \"brocoli\", \"cebolla\", \"kiwis\"]"
   ]
  },
  {
   "cell_type": "markdown",
   "id": "03aa060e",
   "metadata": {},
   "source": [
    " **Pregunta 1: ¿Cuántos tipos de productos hay en el inventario inicial?**\n",
    "\n",
    " **Pregunta 2: ¿Qué producto está en la tercera posición del inventario?**"
   ]
  },
  {
   "cell_type": "markdown",
   "id": "6c52e43d",
   "metadata": {},
   "source": [
    "## Gestión del inventario\n",
    "Un cliente viene y compra todas las bananas.\n",
    "\n",
    "**Pregunta 3: ¿Cómo actualizarías el inventario después de la venta?**\n",
    "\n",
    "Ahora recibes un envío de nuevos productos: \"frutillas\", \"apio\" y \"papas\".\n",
    "\n",
    "**Pregunta 4: ¿Cómo añadirías estos productos al inventario?**\n",
    "\n",
    "**Pregunta 5: ¿Cómo verificas si las \"papas\" están ahora en el inventario?**\n",
    "\n",
    "Un agricultor viene con una rara fruta llamada \"dragonfruit\", pero sólo tienes espacio para 7 productos en tu tienda.\n",
    "\n",
    "**Pregunta 6: ¿Cómo decidirías qué producto sacar para hacer espacio para el \"dragonfruit\"?**"
   ]
  },
  {
   "cell_type": "markdown",
   "id": "3cd3dc23",
   "metadata": {},
   "source": [
    "## Ordenando el inventario\n",
    "Decides que sería más fácil gestionar el inventario si estuviera ordenado alfabéticamente.\n",
    "\n",
    "**Pregunta 7: ¿Cómo ordenarías el inventario?**\n",
    "\n",
    "Un nuevo empleado viene y necesita una copia del inventario para poder reponer los estantes.\n",
    "\n",
    "**Pregunta 8: ¿Cómo proporcionarías una copia del inventario al nuevo empleado, asegurándote de que si el empleado hace cambios en su copia, el inventario original no se vea afectado?**\n",
    "\n",
    "Esperamos que disfrutes de este desafío y que te ayude a entender mejor cómo trabajar con arreglos en Python. ¡Buena suerte, gerente de la tienda!"
   ]
  },
  {
   "cell_type": "markdown",
   "id": "851c61c2",
   "metadata": {},
   "source": [
    " **Pregunta 1: ¿Cuántos tipos de productos hay en el inventario inicial?**"
   ]
  },
  {
   "cell_type": "code",
   "execution_count": 5,
   "id": "e379bac6",
   "metadata": {},
   "outputs": [
    {
     "name": "stdout",
     "output_type": "stream",
     "text": [
      "Cantidad de productos en el inventario: 7\n"
     ]
    }
   ],
   "source": [
    "# Inventario \n",
    "inventario = [\"manzanas\", \"bananas\", \"zanahorias\", \"espinacas\", \"brocoli\", \"cebolla\", \"kiwis\"]\n",
    "\n",
    "# Contar los productos\n",
    "cantidad_productos = len(inventario)\n",
    "print(\"Cantidad de productos en el inventario:\", cantidad_productos)\n"
   ]
  },
  {
   "cell_type": "markdown",
   "id": "8e8f6b6d",
   "metadata": {},
   "source": [
    "Primero tenemos que definir la lista antes de comenzar, es decir, poner el inventario, para luego poder continuar con las funciones. Entonces, utilizamos len(inventario) ya que cuenta la cantidad de elementos que hay en la lista inventario. Luego cada elemento es un producto, esta función nos devuelve cuántos productos hay. Siguiendo guardamos el resultado en la avriable cantidad_productor y finalmente usamos print() para mostrar el resultado en pantalla."
   ]
  },
  {
   "cell_type": "markdown",
   "id": "910f83ec",
   "metadata": {},
   "source": [
    " **Pregunta 2: ¿Qué producto está en la tercera posición del inventario?**"
   ]
  },
  {
   "cell_type": "code",
   "execution_count": 23,
   "id": "62686148",
   "metadata": {},
   "outputs": [
    {
     "name": "stdout",
     "output_type": "stream",
     "text": [
      "El producto en la tercera posición es: zanahorias\n"
     ]
    }
   ],
   "source": [
    "inventario = [\"manzanas\", \"bananas\", \"zanahorias\", \"espinacas\", \"brocoli\", \"cebolla\", \"kiwis\"]\n",
    "tercer_producto = inventario[2]\n",
    "print(\"El producto en la tercera posición es:\", tercer_producto)\n"
   ]
  },
  {
   "cell_type": "markdown",
   "id": "5233e7f2",
   "metadata": {},
   "source": [
    "Como venimos hablando anteriormente, las listas en Python se idextan empezando en 0, por eso la primera posición es inventario [0], la tercera posición entonces es inventario [2], luego guardamos ese producto en producto_tercero y mostramos el resultado con print()."
   ]
  },
  {
   "cell_type": "markdown",
   "id": "a9cc0e23",
   "metadata": {},
   "source": [
    "**Pregunta 3: ¿Cómo actualizarías el inventario después de la venta?**\n",
    "\n",
    "Ahora recibes un envío de nuevos productos: \"frutillas\", \"apio\" y \"papas\"."
   ]
  },
  {
   "cell_type": "code",
   "execution_count": 24,
   "id": "4309dace",
   "metadata": {},
   "outputs": [
    {
     "name": "stdout",
     "output_type": "stream",
     "text": [
      "Inventario después de vender todas las bananas: ['manzanas', 'zanahorias', 'espinacas', 'brocoli', 'cebolla', 'kiwis']\n"
     ]
    }
   ],
   "source": [
    "inventario = [\"manzanas\", \"bananas\", \"zanahorias\", \"espinacas\", \"brocoli\", \"cebolla\", \"kiwis\"]\n",
    "inventario.remove(\"bananas\")\n",
    "print(\"Inventario después de vender todas las bananas:\", inventario)\n"
   ]
  },
  {
   "cell_type": "markdown",
   "id": "f11e577b",
   "metadata": {},
   "source": [
    "Aquí usamos el método .remove(\"bananas\") para eliminar el primer elemento que coincida con \"bananas\" de la lista, Así reflejamos la venta en el inventario y luego mostramos en pantalla el inventario actualizado."
   ]
  },
  {
   "cell_type": "markdown",
   "id": "02c76d14",
   "metadata": {},
   "source": [
    "**Pregunta 4: ¿Cómo añadirías estos productos al inventario?**"
   ]
  },
  {
   "cell_type": "code",
   "execution_count": 25,
   "id": "5c0f5005",
   "metadata": {},
   "outputs": [
    {
     "name": "stdout",
     "output_type": "stream",
     "text": [
      "Inventario después de añadir nuevos productos: ['manzanas', 'zanahorias', 'espinacas', 'brocoli', 'cebolla', 'kiwis', 'frutillas', 'apio', 'papas']\n"
     ]
    }
   ],
   "source": [
    "inventario = [\"manzanas\", \"zanahorias\", \"espinacas\", \"brocoli\", \"cebolla\", \"kiwis\"]\n",
    "nuevos_productos = [\"frutillas\", \"apio\", \"papas\"]\n",
    "inventario.extend(nuevos_productos)\n",
    "print(\"Inventario después de añadir nuevos productos:\", inventario)\n"
   ]
  },
  {
   "cell_type": "markdown",
   "id": "a7959612",
   "metadata": {},
   "source": [
    "Como primer paso creamos una lista llamada nuevos_productos con los productos que llegaron. Luego usamos .extend() para agregar todos esos productos al final de la lista, ya que es su función, agregar varios elementos a la lista original y finalmente mostramos el inventario actualizado."
   ]
  },
  {
   "cell_type": "markdown",
   "id": "e191f0ec",
   "metadata": {},
   "source": [
    "**Pregunta 5: ¿Cómo verificas si las \"papas\" están ahora en el inventario?**"
   ]
  },
  {
   "cell_type": "code",
   "execution_count": 26,
   "id": "d2fc05ea",
   "metadata": {},
   "outputs": [
    {
     "name": "stdout",
     "output_type": "stream",
     "text": [
      "Sí, las papas están en el inventario.\n"
     ]
    }
   ],
   "source": [
    "inventario = [\"manzanas\", \"zanahorias\", \"espinacas\", \"brocoli\", \"cebolla\", \"kiwis\", \"frutillas\", \"apio\", \"papas\"]\n",
    "if \"papas\" in inventario:\n",
    "    print(\"Sí, las papas están en el inventario.\")\n",
    "else:\n",
    "    print(\"No, las papas no están en el inventario.\")\n"
   ]
  },
  {
   "cell_type": "markdown",
   "id": "561a7829",
   "metadata": {},
   "source": [
    "Como primer paso ésta línea: inventario = [\"manzanas\", \"zanahorias\", \"espinacas\", \"brocoli\", \"cebolla\", \"kiwis\", \"frutillas\", \"apio\", \"papas\"] define una lista de strings(tipo de dato que representa texto.) que representa los productos que hay actualmente en la tienda, cada producto es un elemento dentro de la lista. \"papas\" ya está incluída como uno de esos productos (ya que fue agregada en la pregunta 4). Como siguiente paso usamos la palabra clave in para verificar si un producto está en la lista, en esta línea: if \"papas\" in inventario:\n",
    "se pregunta si el string \"papas\" existe dentro de la lista llamada inventario, el operador in en Python se usa para verificar pertenencia entonces nos va a devolver True si \"papas\" está dentro y False si no lo está. Luego utilizamos un bloque condicional if/else, donde si \"papas\" está en el inventario, se ejecuta el primer print(), y si no está, se ejecuta la línea dentro de else.\n"
   ]
  },
  {
   "cell_type": "markdown",
   "id": "e99389ac",
   "metadata": {},
   "source": [
    "Un agricultor viene con una rara fruta llamada \"dragonfruit\", pero sólo tienes espacio para 7 productos en tu tienda.\n",
    "\n",
    "**Pregunta 6: ¿Cómo decidirías qué producto sacar para hacer espacio para el \"dragonfruit\"?**"
   ]
  },
  {
   "cell_type": "code",
   "execution_count": 27,
   "id": "ac8d2136",
   "metadata": {},
   "outputs": [
    {
     "name": "stdout",
     "output_type": "stream",
     "text": [
      "Inventario final después de agregar dragonfruit: ['manzanas', 'zanahorias', 'espinacas', 'brocoli', 'cebolla', 'kiwis', 'dragonfruit']\n"
     ]
    }
   ],
   "source": [
    "inventario = [\"manzanas\", \"zanahorias\", \"espinacas\", \"brocoli\", \"cebolla\", \"kiwis\", \"frutillas\", \"apio\", \"papas\"]\n",
    "\n",
    "# Queremos mantener solo 7 productos\n",
    "while len(inventario) >= 7:\n",
    "    inventario.pop()  # Quita el último producto\n",
    "\n",
    "# Añadimos el dragonfruit\n",
    "inventario.append(\"dragonfruit\")\n",
    "print(\"Inventario final después de agregar dragonfruit:\", inventario)\n"
   ]
  },
  {
   "cell_type": "markdown",
   "id": "90c05dfb",
   "metadata": {},
   "source": [
    "Usamos len(inventario) para verificar si el inventario tiene 7 o más productos, si es así, usamos .pop(0) para sacar el primer producto de la lista (índice 0) recordando que en Python se indexan empezando en 0. Luego gurdamos el producto que sacamos en producto_sacado para saber cuál fue, luego usamos .append() para añadir \"dragonfruit\" al final de la lista y finalmente mostramos el inventario actualizado"
   ]
  },
  {
   "cell_type": "markdown",
   "id": "fa3b0f07",
   "metadata": {},
   "source": [
    "## Ordenando el inventario\n",
    "Decides que sería más fácil gestionar el inventario si estuviera ordenado alfabéticamente.\n",
    "\n",
    "**Pregunta 7: ¿Cómo ordenarías el inventario?**"
   ]
  },
  {
   "cell_type": "code",
   "execution_count": 28,
   "id": "04d7f460",
   "metadata": {},
   "outputs": [
    {
     "name": "stdout",
     "output_type": "stream",
     "text": [
      "Inventario ordenado alfabéticamente: ['brocoli', 'cebolla', 'espinacas', 'frutillas', 'kiwis', 'manzanas', 'zanahorias']\n"
     ]
    }
   ],
   "source": [
    "inventario = [\"manzanas\", \"zanahorias\", \"espinacas\", \"brocoli\", \"cebolla\", \"kiwis\", \"frutillas\"]\n",
    "inventario.sort()\n",
    "print(\"Inventario ordenado alfabéticamente:\", inventario)\n"
   ]
  },
  {
   "cell_type": "markdown",
   "id": "a2da67bf",
   "metadata": {},
   "source": [
    "El método .sort() ordena la lista alfabéticamente, es decir, modifica la lista original para que quede ordenada, despúes mostramos en pantalla el inventario ordenado."
   ]
  },
  {
   "cell_type": "markdown",
   "id": "ba500c06",
   "metadata": {},
   "source": [
    "Un nuevo empleado viene y necesita una copia del inventario para poder reponer los estantes.\n",
    "\n",
    "**Pregunta 8: ¿Cómo proporcionarías una copia del inventario al nuevo empleado, asegurándote de que si el empleado hace cambios en su copia, el inventario original no se vea afectado?**"
   ]
  },
  {
   "cell_type": "code",
   "execution_count": 29,
   "id": "bbf122fa",
   "metadata": {},
   "outputs": [
    {
     "name": "stdout",
     "output_type": "stream",
     "text": [
      "Inventario original: ['manzanas', 'zanahorias', 'espinacas', 'brocoli', 'cebolla', 'kiwis', 'frutillas']\n",
      "Inventario del empleado: ['manzanas', 'zanahorias', 'espinacas', 'brocoli', 'cebolla', 'kiwis', 'frutillas', 'naranjas']\n"
     ]
    }
   ],
   "source": [
    "inventario = [\"manzanas\", \"zanahorias\", \"espinacas\", \"brocoli\", \"cebolla\", \"kiwis\", \"frutillas\"]\n",
    "copia_inventario = inventario.copy()\n",
    "\n",
    "# El empleado puede hacer cambios sin afectar el original\n",
    "copia_inventario.append(\"naranjas\")\n",
    "\n",
    "print(\"Inventario original:\", inventario)\n",
    "print(\"Inventario del empleado:\", copia_inventario)\n"
   ]
  }
 ],
 "metadata": {
  "kernelspec": {
   "display_name": "Python 3",
   "language": "python",
   "name": "python3"
  },
  "language_info": {
   "codemirror_mode": {
    "name": "ipython",
    "version": 3
   },
   "file_extension": ".py",
   "mimetype": "text/x-python",
   "name": "python",
   "nbconvert_exporter": "python",
   "pygments_lexer": "ipython3",
   "version": "3.13.2"
  }
 },
 "nbformat": 4,
 "nbformat_minor": 5
}
