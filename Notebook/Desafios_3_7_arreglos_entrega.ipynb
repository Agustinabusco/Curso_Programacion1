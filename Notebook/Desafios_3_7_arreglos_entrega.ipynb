{
 "cells": [
  {
   "cell_type": "markdown",
   "id": "40cb2541",
   "metadata": {},
   "source": [
    "# Desafío 4: Control de Notas de Estudiantes\n",
    "Como profesor, necesitas manejar las notas de tus estudiantes. Permite ingresar todas las notas de los estudiantes y realiza varias operaciones con esos datos.\n",
    "\n",
    "**Pregunta 1: Calcula el promedio de las notas de la clase. ¿Cómo lo harías?**\n",
    "\n",
    "**Pregunta 2: Encuentra la nota más baja y la más alta. ¿Cómo lo harías?**\n"
   ]
  },
  {
   "cell_type": "markdown",
   "id": "488f6c52",
   "metadata": {},
   "source": [
    "### Pregunta 1"
   ]
  },
  {
   "cell_type": "code",
   "execution_count": 2,
   "id": "d00576c7",
   "metadata": {},
   "outputs": [
    {
     "name": "stdout",
     "output_type": "stream",
     "text": [
      "Promedio de la clase: 7.5\n"
     ]
    }
   ],
   "source": [
    "# Lista de notas de los estudiantes\n",
    "\n",
    "notas = [6, 8, 6, 10]\n",
    "\n",
    "# Calcular el promedio\n",
    "\n",
    "promedio = sum(notas) / len(notas)\n",
    "print(\"Promedio de la clase:\", promedio)"
   ]
  },
  {
   "cell_type": "markdown",
   "id": "f44d957a",
   "metadata": {},
   "source": [
    "Respuesta a la pregunta 1: El primer paso es crear una lista llamada -notas-, allí guardaremos las calificaciones de los estudiantes. Las listas en Python se escriben entre corchetes [] y pueden guardar varios datos, separados por comas. En este caso, guardamos cuatro notas: 6, 8, 6 y 10. Entonces la pregunta es ¿Cómo calcular el promedio de las notas? El paso 1 sería escribir la función sum(notas), ésta nos permite sumar todos los elementos que están dentro de la lista notas.\n",
    "En este caso: sum([6, 8, 6, 10]): siendo 6 + 8 + 6 + 10 = 30. El paso 2 sería utilizar la función len(), la cual se usa para contar cuántos elemenos hay en la lista; En esta caso hay 4 notas, asi que len([6, 8, 6, 10]) = 4. \n",
    "El paso 3 consiste en realizar la división para obtener el promedio, entonces, dividimos el total de las notas (30) entre la cantidad de notas (4). Finalmente utilizamos el signo = para guardar el resultado del cálculo en la variavle promedio."
   ]
  },
  {
   "cell_type": "markdown",
   "id": "d1d1383a",
   "metadata": {},
   "source": [
    "### Pregunta 2"
   ]
  },
  {
   "cell_type": "code",
   "execution_count": 6,
   "id": "70254af3",
   "metadata": {},
   "outputs": [
    {
     "name": "stdout",
     "output_type": "stream",
     "text": [
      "Nota más baja: 6\n",
      "Nota más alta: 10\n"
     ]
    }
   ],
   "source": [
    "# Encontrar la nota más baja y la más alta\n",
    "\n",
    "nota_baja = min(notas)\n",
    "nota_mas_alta = max(notas)\n",
    "print(\"Nota más baja:\", nota_baja)\n",
    "print(\"Nota más alta:\", nota_mas_alta)"
   ]
  },
  {
   "cell_type": "markdown",
   "id": "b011f436",
   "metadata": {},
   "source": [
    "Respuesta a la pregunta 2: El primer paso consiste en determinar la función min(notas) la cual nos permite buscar el valor mas bajo en la lista, en este caso: min([6, 8, 6, 10]) devuelve 6.\n",
    "El segundo paso es utilizar la función max(notas) la cual nos permite buscar el valor más alto en la lista, en este caso: max([6, 8, 6, 10]) devuelve 10. Como paso 3, guardamos los resultados en variables llamadas nota_mas_baja y nota_mas_alta y finalmente mostramos los resultados en pantalla con la función print() la cual sirve para mostrar información por pantalla como mencioné anteriormente, no está de más decir que es muy útil para que el usuario vea los resultados en la pantalla cuando el programa se ejecuta."
   ]
  },
  {
   "cell_type": "markdown",
   "id": "05d3a726",
   "metadata": {},
   "source": [
    "# Desafío 1: Gestión del Stock de la Verdulería\n",
    "\n",
    "¡Bienvenido al desafío de la verdulería! Has sido nombrado el nuevo gerente de una tienda de frutas, verduras y hortalizas. Tu tarea será manejar el stock de la tienda utilizando un arreglo. Aquí hay una serie de tareas que tendrás que completar.\n",
    "\n",
    "## Inventario inicial\n",
    "\n",
    "Aquí está el inventario inicial de la tienda:"
   ]
  },
  {
   "cell_type": "code",
   "execution_count": null,
   "id": "99994cd3",
   "metadata": {},
   "outputs": [],
   "source": [
    "inventario = [\"manzanas\", \"bananas\", \"zanahorias\", \"espinacas\", \"brocoli\", \"cebolla\", \"kiwis\"]"
   ]
  },
  {
   "cell_type": "markdown",
   "id": "03aa060e",
   "metadata": {},
   "source": [
    " **Pregunta 1: ¿Cuántos tipos de productos hay en el inventario inicial?**\n",
    "\n",
    " **Pregunta 2: ¿Qué producto está en la tercera posición del inventario?**"
   ]
  },
  {
   "cell_type": "markdown",
   "id": "6c52e43d",
   "metadata": {},
   "source": [
    "## Gestión del inventario\n",
    "Un cliente viene y compra todas las bananas.\n",
    "\n",
    "**Pregunta 3: ¿Cómo actualizarías el inventario después de la venta?**\n",
    "\n",
    "Ahora recibes un envío de nuevos productos: \"frutillas\", \"apio\" y \"papas\".\n",
    "\n",
    "**Pregunta 4: ¿Cómo añadirías estos productos al inventario?**\n",
    "\n",
    "**Pregunta 5: ¿Cómo verificas si las \"papas\" están ahora en el inventario?**\n",
    "\n",
    "Un agricultor viene con una rara fruta llamada \"dragonfruit\", pero sólo tienes espacio para 7 productos en tu tienda.\n",
    "\n",
    "**Pregunta 6: ¿Cómo decidirías qué producto sacar para hacer espacio para el \"dragonfruit\"?**"
   ]
  },
  {
   "cell_type": "markdown",
   "id": "3cd3dc23",
   "metadata": {},
   "source": [
    "## Ordenando el inventario\n",
    "Decides que sería más fácil gestionar el inventario si estuviera ordenado alfabéticamente.\n",
    "\n",
    "**Pregunta 7: ¿Cómo ordenarías el inventario?**\n",
    "\n",
    "Un nuevo empleado viene y necesita una copia del inventario para poder reponer los estantes.\n",
    "\n",
    "**Pregunta 8: ¿Cómo proporcionarías una copia del inventario al nuevo empleado, asegurándote de que si el empleado hace cambios en su copia, el inventario original no se vea afectado?**\n",
    "\n",
    "Esperamos que disfrutes de este desafío y que te ayude a entender mejor cómo trabajar con arreglos en Python. ¡Buena suerte, gerente de la tienda!"
   ]
  },
  {
   "cell_type": "markdown",
   "id": "851c61c2",
   "metadata": {},
   "source": [
    " **Pregunta 1: ¿Cuántos tipos de productos hay en el inventario inicial?**"
   ]
  },
  {
   "cell_type": "code",
   "execution_count": 5,
   "id": "e379bac6",
   "metadata": {},
   "outputs": [
    {
     "name": "stdout",
     "output_type": "stream",
     "text": [
      "Cantidad de productos en el inventario: 7\n"
     ]
    }
   ],
   "source": [
    "# Inventario \n",
    "inventario = [\"manzanas\", \"bananas\", \"zanahorias\", \"espinacas\", \"brocoli\", \"cebolla\", \"kiwis\"]\n",
    "\n",
    "# Contar los productos\n",
    "cantidad_productos = len(inventario)\n",
    "print(\"Cantidad de productos en el inventario:\", cantidad_productos)\n"
   ]
  },
  {
   "cell_type": "markdown",
   "id": "8e8f6b6d",
   "metadata": {},
   "source": [
    "Primero tenemos que definir la lista antes de comenzar, es decir, poner el inventario, para luego poder continuar con las funciones. Entonces, utilizamos len(inventario) ya que cuenta la cantidad de elementos que hay en la lista inventario. Luego cada elemento es un producto, esta función nos devuelve cuántos productos hay. Siguiendo guardamos el resultado en la avriable cantidad_productor y finalmente usamos print() para mostrar el resultado en pantalla."
   ]
  },
  {
   "cell_type": "markdown",
   "id": "910f83ec",
   "metadata": {},
   "source": [
    " **Pregunta 2: ¿Qué producto está en la tercera posición del inventario?**"
   ]
  },
  {
   "cell_type": "code",
   "execution_count": 6,
   "id": "6a416efc",
   "metadata": {},
   "outputs": [
    {
     "name": "stdout",
     "output_type": "stream",
     "text": [
      "Producto en la tercera posición: zanahorias\n"
     ]
    }
   ],
   "source": [
    "producto_tercero = inventario[2]\n",
    "print(\"Producto en la tercera posición:\", producto_tercero)"
   ]
  },
  {
   "cell_type": "markdown",
   "id": "5233e7f2",
   "metadata": {},
   "source": [
    "Como venimos hablando anteriormente, las listas en Python se idextan empezando en 0, por eso la primera posición es inventario [0], la tercera posición entonces es inventario [2], luego guardamos ese producto en producto_tercero y mostramos el resultado con print()."
   ]
  },
  {
   "cell_type": "markdown",
   "id": "a9cc0e23",
   "metadata": {},
   "source": [
    "**Pregunta 3: ¿Cómo actualizarías el inventario después de la venta?**\n",
    "\n",
    "Ahora recibes un envío de nuevos productos: \"frutillas\", \"apio\" y \"papas\"."
   ]
  },
  {
   "cell_type": "code",
   "execution_count": 7,
   "id": "a8ad424b",
   "metadata": {},
   "outputs": [
    {
     "name": "stdout",
     "output_type": "stream",
     "text": [
      "Inventario después de vender bananas: ['manzanas', 'zanahorias', 'espinacas', 'brocoli', 'cebolla', 'kiwis']\n"
     ]
    }
   ],
   "source": [
    "inventario.remove(\"bananas\")\n",
    "print(\"Inventario después de vender bananas:\", inventario)"
   ]
  },
  {
   "cell_type": "markdown",
   "id": "f11e577b",
   "metadata": {},
   "source": [
    "Aquí usamos el método .remove(\"bananas\") para eliminar el primer elemento que coincida con \"bananas\" de la lista, Así reflejamos la venta en el inventario y luego mostramos en pantalla el inventario actualizado."
   ]
  },
  {
   "cell_type": "markdown",
   "id": "02c76d14",
   "metadata": {},
   "source": [
    "**Pregunta 4: ¿Cómo añadirías estos productos al inventario?**"
   ]
  },
  {
   "cell_type": "code",
   "execution_count": 13,
   "id": "01bd3e6f",
   "metadata": {},
   "outputs": [
    {
     "name": "stdout",
     "output_type": "stream",
     "text": [
      "Inventario después de añadir nuevos productos: ['manzanas', 'zanahorias', 'espinacas', 'brocoli', 'cebolla', 'kiwis', 'frutillas', 'apiopapas', 'frutillas', 'apio', 'papas', 'frutillas', 'apio', 'papas', 'frutillas', 'apio', 'papas', 'frutillas', 'apio', 'papas', 'frutillas', 'apio', 'papas']\n"
     ]
    }
   ],
   "source": [
    "nuevos_productos = [\"frutillas\", \"apio\", \"papas\"]\n",
    "inventario.extend(nuevos_productos)\n",
    "print(\"Inventario después de añadir nuevos productos:\", inventario)"
   ]
  },
  {
   "cell_type": "markdown",
   "id": "a7959612",
   "metadata": {},
   "source": [
    "Como primer paso creamos una lista llamada nuevos_productos con los productos que llegaron. Luego usamos .extend() para agregar todos esos productos al final de la lista, ya que es su función, agregar varios elementos a la lista original y finalmente mostramos el inventario actualizado."
   ]
  },
  {
   "cell_type": "markdown",
   "id": "e191f0ec",
   "metadata": {},
   "source": [
    "**Pregunta 5: ¿Cómo verificas si las \"papas\" están ahora en el inventario?**"
   ]
  },
  {
   "cell_type": "code",
   "execution_count": 15,
   "id": "d7b6d8d7",
   "metadata": {},
   "outputs": [
    {
     "name": "stdout",
     "output_type": "stream",
     "text": [
      "¿Las papas están en el inventario? True\n"
     ]
    }
   ],
   "source": [
    "tienen_papas = \"papas\" in inventario\n",
    "print(\"¿Las papas están en el inventario?\", tienen_papas)"
   ]
  },
  {
   "cell_type": "markdown",
   "id": "561a7829",
   "metadata": {},
   "source": [
    "La expresión \"papas\" in inventario devuelve True si \"papas\" está en la lista, y saldría False si las papas no estuvieran en el inventario. Luego gurdamos ese valor en tienen_papas y finalmente mostramos el resultado en pantalla con print()."
   ]
  },
  {
   "cell_type": "markdown",
   "id": "e99389ac",
   "metadata": {},
   "source": [
    "Un agricultor viene con una rara fruta llamada \"dragonfruit\", pero sólo tienes espacio para 7 productos en tu tienda.\n",
    "\n",
    "**Pregunta 6: ¿Cómo decidirías qué producto sacar para hacer espacio para el \"dragonfruit\"?**"
   ]
  },
  {
   "cell_type": "code",
   "execution_count": 18,
   "id": "9239b77e",
   "metadata": {},
   "outputs": [
    {
     "name": "stdout",
     "output_type": "stream",
     "text": [
      "Producto sacado para hacer espacio: manzanas\n",
      "Inventario después de añadir dragonfruit: ['zanahorias', 'espinacas', 'brocoli', 'cebolla', 'kiwis', 'frutillas', 'apiopapas', 'frutillas', 'apio', 'papas', 'frutillas', 'apio', 'papas', 'frutillas', 'apio', 'papas', 'frutillas', 'apio', 'papas', 'frutillas', 'apio', 'papas', 'dragonfruit']\n"
     ]
    }
   ],
   "source": [
    "if len(inventario) >= 7:\n",
    "    producto_sacado = inventario.pop(0) #Saca el promer producto)\n",
    "    print(\"Producto sacado para hacer espacio:\", producto_sacado)\n",
    "    \n",
    "inventario.append(\"dragonfruit\")\n",
    "print(\"Inventario después de añadir dragonfruit:\", inventario)"
   ]
  },
  {
   "cell_type": "markdown",
   "id": "90c05dfb",
   "metadata": {},
   "source": [
    "Usamos len(inventario) para verificar si el inventario tiene 7 o más productos, si es así, usamos .pop(0) para sacar el primer producto de la lista (índice 0) recordando que en Python se indexan empezando en 0. Luego gurdamos el producto que sacamos en producto_sacado para saber cuál fue, luego usamos .append() para añadir \"dragonfruit\" al final de la lista y finalmente mostramos el inventario actualizado"
   ]
  },
  {
   "cell_type": "markdown",
   "id": "fa3b0f07",
   "metadata": {},
   "source": [
    "## Ordenando el inventario\n",
    "Decides que sería más fácil gestionar el inventario si estuviera ordenado alfabéticamente.\n",
    "\n",
    "**Pregunta 7: ¿Cómo ordenarías el inventario?**"
   ]
  },
  {
   "cell_type": "code",
   "execution_count": 19,
   "id": "bb87adb9",
   "metadata": {},
   "outputs": [
    {
     "name": "stdout",
     "output_type": "stream",
     "text": [
      "Inventario ordenado alfabéticamente: ['apio', 'apio', 'apio', 'apio', 'apio', 'apiopapas', 'brocoli', 'cebolla', 'dragonfruit', 'espinacas', 'frutillas', 'frutillas', 'frutillas', 'frutillas', 'frutillas', 'frutillas', 'kiwis', 'papas', 'papas', 'papas', 'papas', 'papas', 'zanahorias']\n"
     ]
    }
   ],
   "source": [
    "inventario.sort()\n",
    "print(\"Inventario ordenado alfabéticamente:\", inventario)"
   ]
  },
  {
   "cell_type": "markdown",
   "id": "a2da67bf",
   "metadata": {},
   "source": [
    "El método .sort() ordena la lista alfabéticamente, es decir, modifica la lista original para que quede ordenada, despúes mostramos en pantalla el inventario ordenado."
   ]
  },
  {
   "cell_type": "markdown",
   "id": "ba500c06",
   "metadata": {},
   "source": [
    "Un nuevo empleado viene y necesita una copia del inventario para poder reponer los estantes.\n",
    "\n",
    "**Pregunta 8: ¿Cómo proporcionarías una copia del inventario al nuevo empleado, asegurándote de que si el empleado hace cambios en su copia, el inventario original no se vea afectado?**"
   ]
  },
  {
   "cell_type": "code",
   "execution_count": 20,
   "id": "2cbe08d4",
   "metadata": {},
   "outputs": [
    {
     "name": "stdout",
     "output_type": "stream",
     "text": [
      "Copia del inventario para el empleado: ['apio', 'apio', 'apio', 'apio', 'apio', 'apiopapas', 'brocoli', 'cebolla', 'dragonfruit', 'espinacas', 'frutillas', 'frutillas', 'frutillas', 'frutillas', 'frutillas', 'frutillas', 'kiwis', 'papas', 'papas', 'papas', 'papas', 'papas', 'zanahorias']\n"
     ]
    }
   ],
   "source": [
    "copia_inventario = inventario.copy()\n",
    "print(\"Copia del inventario para el empleado:\", copia_inventario)"
   ]
  },
  {
   "cell_type": "markdown",
   "id": "f33fd18a",
   "metadata": {},
   "source": [
    "Aquí usamos .copy() para crear una nueva lista que es una copia exacta del inventario, pero independientemente, si el empleado cambia la copia, el inventario original no se modifica y finalmente mostramos la copia para verificar."
   ]
  }
 ],
 "metadata": {
  "kernelspec": {
   "display_name": "Python 3",
   "language": "python",
   "name": "python3"
  },
  "language_info": {
   "codemirror_mode": {
    "name": "ipython",
    "version": 3
   },
   "file_extension": ".py",
   "mimetype": "text/x-python",
   "name": "python",
   "nbconvert_exporter": "python",
   "pygments_lexer": "ipython3",
   "version": "3.13.2"
  }
 },
 "nbformat": 4,
 "nbformat_minor": 5
}
