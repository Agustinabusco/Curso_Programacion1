{
 "cells": [
  {
   "cell_type": "markdown",
   "id": "1b6d589a",
   "metadata": {},
   "source": [
    "# Desafío 1\n",
    "\n",
    "Considere las matrices $ A $ y $ B $ definidas como:\n",
    "\n",
    "$ A = \\begin{bmatrix} 1 & 2 \\\\ 3 & 4 \\end{bmatrix} $     y     $ B = \\begin{bmatrix} 5 & 6 \\\\ 7 & 8 \\end{bmatrix} $\n",
    "\n",
    "Tu tarea es calcular la matriz resultante de la operación $ (2A + B^T) $. Recuerda que $ B^T $ denota la transposición de la matriz $ B $."
   ]
  },
  {
   "cell_type": "code",
   "execution_count": 1,
   "id": "aed85f59",
   "metadata": {},
   "outputs": [
    {
     "name": "stdout",
     "output_type": "stream",
     "text": [
      "Resultado de (2A + B^T):\n",
      " [[ 7 11]\n",
      " [12 16]]\n"
     ]
    }
   ],
   "source": [
    "import numpy as np  # Importamos la biblioteca NumPy con el alias np\n",
    "\n",
    "# Definimos la matriz A\n",
    "A = np.array([[1, 2],\n",
    "              [3, 4]])\n",
    "\n",
    "# Definimos la matriz B\n",
    "B = np.array([[5, 6],\n",
    "              [7, 8]])\n",
    "\n",
    "# Multiplicamos A por 2 (producto escalar)\n",
    "doble_A = 2 * A  # Cada elemento de A se multiplica por 2\n",
    "\n",
    "# Transponemos la matriz B (intercambiamos filas por columnas)\n",
    "B_transpuesta = B.T\n",
    "\n",
    "# Sumamos las dos matrices resultantes\n",
    "resultado = doble_A + B_transpuesta  # Suma elemento a elemento\n",
    "\n",
    "# Mostramos el resultado final\n",
    "print(\"Resultado de (2A + B^T):\\n\", resultado)\n"
   ]
  },
  {
   "cell_type": "markdown",
   "id": "9d87d554",
   "metadata": {},
   "source": [
    "Primer paso, que hace import numpy as np, lo que hace es decirle a Python que queremos usar la biblioteca NumPy, que nos da herramientas para trabajar con matrices y números de forma eficiente. Y ¿qué significa as np?, esto es un alias, para no tener que escribir numpy básicamente, en vez de decir NumPy decis su alias, np.\n",
    "Vamos con el paso 2, A = np.array([[1, 2], [3, 4]]), esto lo que hace es crea una matriz (arreglo bidimensional) usando una lista de listas en Python. Acá baásicamente estamos diciendo: \"Quiero una matriz de 2 filas y 2 columnas, con estos valores\".(a phyton claramente). Luego, ¿qué es np.array? Es una función de NumPy que transforma listas de Python en matrices (ndarray), que son estructuras optimizadas para cálculos. El paso 3 conciste en lo mismo que antes pero para la matriz B: B = np.array([[5, 6], [7, 8]]). El paso 4: doble_A = 2 * A, lo que hace esto es multiplicar cada elemento de la matriz A por 2. Y ¿Cómo lo hace? bueno, NumPy permite hacer operaciones matemáticas directamente sobre matrices. Si pones 2 * A, no necesitas hacer un bucle, ya que él lo hace por vos. Luego el paso 5: B_transpuesta = B.T, esto lo que hace es calcular la traspuesta de la matriz B, y ¿Qué es .T?, es un atributo especial de NumPy que te da la transpuesta de una matriz, es decir, las filas se convierten en columnas y las columnas en filas. El paso 6: resultado = doble_A + B_transpuesta, lo que hace esto es SUMA, elemento a elemento, en este caso las amtrices 2A Y Bᵀ, lo que NumPy hace acá es que como las dos matrices tienen el mismo tamaño, NumPy suma posición por posición: (0,0) con (0.0), (0,1) con (0,1) y así. Finalmente el paso 7:print(\"Resultado de (2A + B^T):\\n\", resultado), acá lo que se hace es mostrar en panmtalla el resultado final, por las dudas, ¿Qué es \\n?, es un salto de línea como hemos cisto en desafdios anteriores, en este caso se usa para que el texto y la matriz aparezcan más prolijas en la consola."
   ]
  },
  {
   "cell_type": "markdown",
   "id": "83074f50",
   "metadata": {},
   "source": [
    "# Desafío 2\n",
    "\n",
    "Dada la matriz $ A = \\begin{bmatrix} 1 & 0 & 1 \\\\ 4 & -1 & 4 \\\\ 5 & 6 & 7 \\end{bmatrix} $, encuentra la traza de la matriz inversa de $ A $."
   ]
  },
  {
   "cell_type": "code",
   "execution_count": 2,
   "id": "833594cf",
   "metadata": {},
   "outputs": [
    {
     "name": "stdout",
     "output_type": "stream",
     "text": [
      "Matriz inversa de A:\n",
      " [[ 1.5500000e+01 -3.0000000e+00 -5.0000000e-01]\n",
      " [ 4.0000000e+00 -1.0000000e+00 -1.5313421e-16]\n",
      " [-1.4500000e+01  3.0000000e+00  5.0000000e-01]]\n",
      "\n",
      "Traza de la matriz inversa: 15.00000000000002\n"
     ]
    }
   ],
   "source": [
    "import numpy as np  # Importamos la biblioteca NumPy\n",
    "\n",
    "# Definimos la matriz A\n",
    "A = np.array([\n",
    "    [1, 0, 1],\n",
    "    [4, -1, 4],\n",
    "    [5, 6, 7]\n",
    "])\n",
    "\n",
    "# Calculamos la inversa de la matriz A\n",
    "# Usamos la función inv() del módulo linalg (linalg = álgebra lineal)\n",
    "inversa_A = np.linalg.inv(A)\n",
    "\n",
    "# Calculamos la traza de la matriz inversa\n",
    "# La traza es la suma de los elementos de la diagonal principal\n",
    "traza = np.trace(inversa_A)\n",
    "\n",
    "# Mostramos el resultado\n",
    "print(\"Matriz inversa de A:\\n\", inversa_A)\n",
    "print(\"\\nTraza de la matriz inversa:\", traza)\n"
   ]
  },
  {
   "cell_type": "markdown",
   "id": "b4f329a6",
   "metadata": {},
   "source": [
    "Como primer paso utilizamos: import numpy as np, ¿qué hace esto?, Bueno, le dice a Python que vamos a usar la biblioteca NumPy, que nos permite trabajar con matrices de forma rápida y eficiente. Y repito, as np es la avreviatura de numpy y numpy.array su avreviatura seria np.array.\n",
    "Paso 2: A = np.array([[1, 0, 1], [4, -1, 4], [5, 6, 7]]), lo que hace esto es crear la matriz A a partir de una lista de listas en Python. Y ¿Qué es una lista de listas?, bueno, es una estructura así: [\n",
    "  [1, 0, 1],  # Fila 1\n",
    "  [4, -1, 4], # Fila 2\n",
    "  [5, 6, 7]   # Fila 3\n",
    "]\n",
    "Y ¿Qué es np.array()? Lo que hace es que convierte esa lista de listas en una matriz NumPy (estructura especial optimizada para cálculos matemáticos.). En el paso 3: inversa_A = np.linalg.inv(A), esto lo que hace es calcular la matriz inversa de A, si lo desglosamos es algo así: np.linalg = módulo de álgebra lineal (viene con NumPy), luego .inv() = es una función que calcula la inversa de una matriz (si existe) y A = la matriz original. Por otro lado, ¿Qué es una matriz inversa? Una matriz A−1 es aquella que, al multiplicarse por la original (A), da la matriz identidad: A . A-1 = I, donde la matriz identidad es como el \"1\" de las matrices. pero cuidado, si la matriz no tiene inversa (por ejemplo, su determinante es 0), esta función lanza un error. El paso 4: traza = np.trace(inversa_A), calcula la traza de la matriz inversa, ¿Qué es la traza? Es la suma de los elementos de la diagonal principal de una matriz (de izquierda arriba a derecha abajo), Y ¿Qué hace np.trace()? Es una función de Numpy que automáticamente: toma la diagonal principal de una matriz, suma esos valores, y devuelve el resultado como número. Paso 5: print(\"Matriz inversa de A:\\n\", inversa_A), lo que hace esto es imprimir en pantalla (mostrar) la matriz inversa de A. Y el último paso: print(\"\\nTraza de la matriz inversa:\", traza), muestra el valor de la traza que calculamos. "
   ]
  }
 ],
 "metadata": {
  "kernelspec": {
   "display_name": "Python 3",
   "language": "python",
   "name": "python3"
  },
  "language_info": {
   "codemirror_mode": {
    "name": "ipython",
    "version": 3
   },
   "file_extension": ".py",
   "mimetype": "text/x-python",
   "name": "python",
   "nbconvert_exporter": "python",
   "pygments_lexer": "ipython3",
   "version": "3.13.2"
  }
 },
 "nbformat": 4,
 "nbformat_minor": 5
}
