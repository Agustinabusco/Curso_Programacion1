{
 "cells": [
  {
   "cell_type": "markdown",
   "id": "1b6d589a",
   "metadata": {},
   "source": [
    "# Desafío 1\n",
    "\n",
    "Considere las matrices $ A $ y $ B $ definidas como:\n",
    "\n",
    "$ A = \\begin{bmatrix} 1 & 2 \\\\ 3 & 4 \\end{bmatrix} $     y     $ B = \\begin{bmatrix} 5 & 6 \\\\ 7 & 8 \\end{bmatrix} $\n",
    "\n",
    "Tu tarea es calcular la matriz resultante de la operación $ (2A + B^T) $. Recuerda que $ B^T $ denota la transposición de la matriz $ B $."
   ]
  },
  {
   "cell_type": "code",
   "execution_count": 1,
   "id": "aed85f59",
   "metadata": {},
   "outputs": [
    {
     "name": "stdout",
     "output_type": "stream",
     "text": [
      "Resultado de (2A + B^T):\n",
      " [[ 7 11]\n",
      " [12 16]]\n"
     ]
    }
   ],
   "source": [
    "import numpy as np  # Importamos la biblioteca NumPy con el alias np\n",
    "\n",
    "# Definimos la matriz A\n",
    "A = np.array([[1, 2],\n",
    "              [3, 4]])\n",
    "\n",
    "# Definimos la matriz B\n",
    "B = np.array([[5, 6],\n",
    "              [7, 8]])\n",
    "\n",
    "# Multiplicamos A por 2 (producto escalar)\n",
    "doble_A = 2 * A  # Cada elemento de A se multiplica por 2\n",
    "\n",
    "# Transponemos la matriz B (intercambiamos filas por columnas)\n",
    "B_transpuesta = B.T\n",
    "\n",
    "# Sumamos las dos matrices resultantes\n",
    "resultado = doble_A + B_transpuesta  # Suma elemento a elemento\n",
    "\n",
    "# Mostramos el resultado final\n",
    "print(\"Resultado de (2A + B^T):\\n\", resultado)\n"
   ]
  },
  {
   "cell_type": "markdown",
   "id": "9d87d554",
   "metadata": {},
   "source": [
    "Primer paso, que hace import numpy as np, lo que hace es decirle a Python que queremos usar la biblioteca NumPy, que nos da herramientas para trabajar con matrices y números de forma eficiente. Y ¿qué significa as np?, esto es un alias, para no tener que escribir numpy básicamente, en vez de decir NumPy decis su alias, np.\n",
    "Vamos con el paso 2, A = np.array([[1, 2], [3, 4]]), esto lo que hace es crea una matriz (arreglo bidimensional) usando una lista de listas en Python. Acá baásicamente estamos diciendo: \"Quiero una matriz de 2 filas y 2 columnas, con estos valores\".(a phyton claramente). Luego, ¿qué es np.array? Es una función de NumPy que transforma listas de Python en matrices (ndarray), que son estructuras optimizadas para cálculos. El paso 3 conciste en lo mismo que antes pero para la matriz B: B = np.array([[5, 6], [7, 8]]). El paso 4: doble_A = 2 * A, lo que hace esto es multiplicar cada elemento de la matriz A por 2. Y ¿Cómo lo hace? bueno, NumPy permite hacer operaciones matemáticas directamente sobre matrices. Si pones 2 * A, no necesitas hacer un bucle, ya que él lo hace por vos. Luego el paso 5: B_transpuesta = B.T, esto lo que hace es calcular la traspuesta de la matriz B, y ¿Qué es .T?, es un atributo especial de NumPy que te da la transpuesta de una matriz, es decir, las filas se convierten en columnas y las columnas en filas. El paso 6: resultado = doble_A + B_transpuesta, lo que hace esto es SUMA, elemento a elemento, en este caso las amtrices 2A Y Bᵀ, lo que NumPy hace acá es que como las dos matrices tienen el mismo tamaño, NumPy suma posición por posición: (0,0) con (0.0), (0,1) con (0,1) y así. Finalmente el paso 7:print(\"Resultado de (2A + B^T):\\n\", resultado), acá lo que se hace es mostrar en panmtalla el resultado final, por las dudas, ¿Qué es \\n?, es un salto de línea como hemos cisto en desafdios anteriores, en este caso se usa para que el texto y la matriz aparezcan más prolijas en la consola."
   ]
  },
  {
   "cell_type": "markdown",
   "id": "83074f50",
   "metadata": {},
   "source": [
    "# Desafío 2\n",
    "\n",
    "Dada la matriz $ A = \\begin{bmatrix} 1 & 0 & 1 \\\\ 4 & -1 & 4 \\\\ 5 & 6 & 7 \\end{bmatrix} $, encuentra la traza de la matriz inversa de $ A $."
   ]
  },
  {
   "cell_type": "code",
   "execution_count": 2,
   "id": "833594cf",
   "metadata": {},
   "outputs": [
    {
     "name": "stdout",
     "output_type": "stream",
     "text": [
      "Matriz inversa de A:\n",
      " [[ 1.5500000e+01 -3.0000000e+00 -5.0000000e-01]\n",
      " [ 4.0000000e+00 -1.0000000e+00 -1.5313421e-16]\n",
      " [-1.4500000e+01  3.0000000e+00  5.0000000e-01]]\n",
      "\n",
      "Traza de la matriz inversa: 15.00000000000002\n"
     ]
    }
   ],
   "source": [
    "import numpy as np  # Importamos la biblioteca NumPy\n",
    "\n",
    "# Definimos la matriz A\n",
    "A = np.array([\n",
    "    [1, 0, 1],\n",
    "    [4, -1, 4],\n",
    "    [5, 6, 7]\n",
    "])\n",
    "\n",
    "# Calculamos la inversa de la matriz A\n",
    "# Usamos la función inv() del módulo linalg (linalg = álgebra lineal)\n",
    "inversa_A = np.linalg.inv(A)\n",
    "\n",
    "# Calculamos la traza de la matriz inversa\n",
    "# La traza es la suma de los elementos de la diagonal principal\n",
    "traza = np.trace(inversa_A)\n",
    "\n",
    "# Mostramos el resultado\n",
    "print(\"Matriz inversa de A:\\n\", inversa_A)\n",
    "print(\"\\nTraza de la matriz inversa:\", traza)\n"
   ]
  },
  {
   "cell_type": "markdown",
   "id": "b4f329a6",
   "metadata": {},
   "source": [
    "Como primer paso utilizamos: import numpy as np, ¿qué hace esto?, Bueno, le dice a Python que vamos a usar la biblioteca NumPy, que nos permite trabajar con matrices de forma rápida y eficiente. Y repito, as np es la avreviatura de numpy y numpy.array su avreviatura seria np.array.\n",
    "Paso 2: A = np.array([[1, 0, 1], [4, -1, 4], [5, 6, 7]]), lo que hace esto es crear la matriz A a partir de una lista de listas en Python. Y ¿Qué es una lista de listas?, bueno, es una estructura así: [\n",
    "  [1, 0, 1],  # Fila 1\n",
    "  [4, -1, 4], # Fila 2\n",
    "  [5, 6, 7]   # Fila 3\n",
    "]\n",
    "Y ¿Qué es np.array()? Lo que hace es que convierte esa lista de listas en una matriz NumPy (estructura especial optimizada para cálculos matemáticos.). En el paso 3: inversa_A = np.linalg.inv(A), esto lo que hace es calcular la matriz inversa de A, si lo desglosamos es algo así: np.linalg = módulo de álgebra lineal (viene con NumPy), luego .inv() = es una función que calcula la inversa de una matriz (si existe) y A = la matriz original. Por otro lado, ¿Qué es una matriz inversa? Una matriz A−1 es aquella que, al multiplicarse por la original (A), da la matriz identidad: A . A-1 = I, donde la matriz identidad es como el \"1\" de las matrices. pero cuidado, si la matriz no tiene inversa (por ejemplo, su determinante es 0), esta función lanza un error. El paso 4: traza = np.trace(inversa_A), calcula la traza de la matriz inversa, ¿Qué es la traza? Es la suma de los elementos de la diagonal principal de una matriz (de izquierda arriba a derecha abajo), Y ¿Qué hace np.trace()? Es una función de Numpy que automáticamente: toma la diagonal principal de una matriz, suma esos valores, y devuelve el resultado como número. Paso 5: print(\"Matriz inversa de A:\\n\", inversa_A), lo que hace esto es imprimir en pantalla (mostrar) la matriz inversa de A. Y el último paso: print(\"\\nTraza de la matriz inversa:\", traza), muestra el valor de la traza que calculamos. "
   ]
  },
  {
   "cell_type": "markdown",
   "id": "479f5e4b",
   "metadata": {},
   "source": [
    "# Desafío 3\n",
    "\n",
    "Dada la matriz $ A = \\begin{bmatrix} 1 & 2 & 3 \\\\ 4 & 5 & 6 \\\\ 7 & 8 & 9 \\end{bmatrix} $, encuentra el rango de la matriz resultante de $ (A + A^T) $."
   ]
  },
  {
   "cell_type": "code",
   "execution_count": 1,
   "id": "47fc2e02",
   "metadata": {},
   "outputs": [
    {
     "name": "stdout",
     "output_type": "stream",
     "text": [
      "Matriz A:\n",
      "[[1 2 3]\n",
      " [4 5 6]\n",
      " [7 8 9]]\n",
      "\n",
      "Transpuesta de A (A^T):\n",
      "[[1 4 7]\n",
      " [2 5 8]\n",
      " [3 6 9]]\n",
      "\n",
      "Suma A + A^T:\n",
      "[[ 2  6 10]\n",
      " [ 6 10 14]\n",
      " [10 14 18]]\n",
      "\n",
      "Rango de la matriz resultante:\n",
      "2\n"
     ]
    }
   ],
   "source": [
    "import numpy as np\n",
    "\n",
    "# Definimos la matriz A\n",
    "A = np.array([[1, 2, 3],\n",
    "              [4, 5, 6],\n",
    "              [7, 8, 9]])\n",
    "\n",
    "# Calculamos la transpuesta de A\n",
    "A_T = A.T\n",
    "\n",
    "# Sumamos la matriz A con su transpuesta\n",
    "S = A + A_T\n",
    "\n",
    "# Calculamos el rango de la matriz resultante\n",
    "rango = np.linalg.matrix_rank(S)\n",
    "\n",
    "# Mostramos los resultados\n",
    "print(\"Matriz A:\")\n",
    "print(A)\n",
    "\n",
    "print(\"\\nTranspuesta de A (A^T):\")\n",
    "print(A_T)\n",
    "\n",
    "print(\"\\nSuma A + A^T:\")\n",
    "print(S)\n",
    "\n",
    "print(\"\\nRango de la matriz resultante:\")\n",
    "print(rango)\n"
   ]
  },
  {
   "cell_type": "markdown",
   "id": "491893b9",
   "metadata": {},
   "source": [
    "Como primer paso: import numpy as no, lo que hace es importa a la biblioteca numpy y le pone el apodo np para usarla más facilmente, es su avreviatura como mencionamos en desafios anteriores. Y por las dudas, ¿Qué es numpy?, bueno es una biblioteca de Python muy usada para hacer cálculos matemáticos, especialmente con vectores y matrices. Nos permite trabajar con arrays de forma más rápida y cómoda que con listas comunes, Y... ¿Por qué es mejor usar arrays en estos casos? por ejemplo por velocidad, ya que los arrays de NumPy son más rápidos que las listas de python cuando trabajs con muchos datos, estan implementados en C, un lenguaje de bajo nivel, por lo que es mas eficiente. otro punto es menor uso de memoria, los arrays usan menos memoria, perfecto cuandno estas trabajando con grandes cantidades de datos, tambien precisamente en este caso, cuando usamos operaciones matemáticas directas, con listas comúnes tenés que usar bucles para sumar, multiplicar o hacer cálculos, y con los arrays lo haces directamente. Como 2 paso: A = np.array([[1, 2, 3], [4, 5, 6], [7, 8, 9]]), lo que hace esto es crear una matriz llamada A con los valores que nos dio el enunciado. ¿Qué es np.array(...)? lo que hace es convertir una lista de listas en un array de numpy, que puede comportarse como una matriz, en este caso estamos creando una matriz de 3 filas por 3 columnas. En el 3 paso: A_T = A.T, que hace esto? calcular la traspuesta de la matriz A, y la guarda en la variable A_T. Y ¿Qué es la traspuesta? esto es una operación que invierte filas por columnas, si una matriz tiene forma (3x3), su traspuesta también será (3x3), pero los elementos de la fila 1 pasan a ser columna 1, los de la fila 2 a columna 2 y así. El paso 4: S = A + A_T: este paso conciste en S() que es la suma(variable que usamos para guardar la matriz resultante de la suma), entonces suma la matriz original A con su traspuesta A_T, elemento por elemento. Y ¿Qué es la suma de matrices?, es que se suman los elementos que están en la misma posición. Solo se puede hacer si las matrices tienen el mismo tamaño. En el paso 5: rango = np.linalg.matrix_rank(S), ¿qué hacemos acá? calcular el rango de la matriz resultante S y lo guarda en la variable rango. Y ¿Qué es el rango de una matriz? esto, es el número de filas o columnas linealmente independientes, osea, cuántas filas (o columnas) aportan información distinta, si una fila es combinación de otras, no cuenta para el rango. Y ¿Qué es: np.linalg.matrix_rank()?, esto es una función de la sub-biblioteca linalg (de \"algebra lineal\") de numpy que nos da el rango de una matriz automáticamente. Finalmente en el paso 6: print(...), lo que hace es como ya sabemos, mostrarnos en pantalla los resultados, en este caso: la matriz original, su transpuesta, la suma de ambas y el rango final."
   ]
  },
  {
   "cell_type": "markdown",
   "id": "4b39cd7a",
   "metadata": {},
   "source": [
    "¿Por qué nos da como resultado que la matriz es de rango 2?\n",
    "\n",
    "Primero recordar que es el rango, el rango de una matriz es la cantidad de filas (o columnas) linealmente independientes. Una fila es linealmente dependiente si se puede obtener sumando o restando múltiplos de otras filas.\n",
    "\n",
    "Después de hacer la suma A + AT, nos quedó esta matriz: \n",
    "Suma A + A^T:\n",
    "[[ 2  6 10]\n",
    " [ 6 10 14]\n",
    " [10 14 18]]\n",
    "Si la analizamos, y comenzamos a fijarnos en las filas:\n",
    "Dila 1: (2, 6, 10), fila 2 (6, 10, 14) y fila 3 (10, 14, 18). ¿Podemos expresar una fila como combinación de las otras? \n",
    "Comparación entre filas: \n",
    "Si restás la fila 2 - fila 1: (6, 10, 14) - (2, 6, 10) = (4, 4, 4)\n",
    "y: Si restás la fila 3 - fila 2: (10, 14, 18) - (6, 10, 14) = (4, 4, 4)\n",
    "Esto quiere decir que: Fila 2 = Fila 1 + (4, 4, 4) y Fila 3 = Fila 2 + (4, 4, 4): Las 3 filas tienen la misma dirección en el espacio, están relacionadas entre sí por sumas de un mismo vector.\n",
    "Como conclusión, solo 2 de las filas aportan información distinta, la tercera se puede obtener a partir de las otras, no cuenta para el rango, por eso: el rango de la matriz S es 2.\n",
    "\n"
   ]
  }
 ],
 "metadata": {
  "kernelspec": {
   "display_name": "Python 3",
   "language": "python",
   "name": "python3"
  },
  "language_info": {
   "codemirror_mode": {
    "name": "ipython",
    "version": 3
   },
   "file_extension": ".py",
   "mimetype": "text/x-python",
   "name": "python",
   "nbconvert_exporter": "python",
   "pygments_lexer": "ipython3",
   "version": "3.13.2"
  }
 },
 "nbformat": 4,
 "nbformat_minor": 5
}
