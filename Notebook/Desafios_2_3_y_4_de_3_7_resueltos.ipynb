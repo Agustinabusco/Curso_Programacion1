{
 "cells": [
  {
   "cell_type": "markdown",
   "id": "5b8bb904",
   "metadata": {},
   "source": [
    "# Desafío 2: Ordenar el Inventario de Libros\n",
    "\n",
    "Como encargado de la biblioteca, necesitas organizar los libros de acuerdo con sus códigos de identificación en orden decreciente, sin modificar la lista original. Se recomienda usar la función sorted(). ¿Por qué es importante no modificar la lista original? ¿Por qué no puedo usar el método sort sobre la lista original?"
   ]
  },
  {
   "cell_type": "code",
   "execution_count": 1,
   "id": "f99f570f",
   "metadata": {},
   "outputs": [],
   "source": [
    "# Lista de codigos de libros\n",
    "\n",
    "Inventario_libroa = [104, 87, 156, 42, 199, 123]"
   ]
  },
  {
   "cell_type": "code",
   "execution_count": 4,
   "id": "2b20b071",
   "metadata": {},
   "outputs": [
    {
     "name": "stdout",
     "output_type": "stream",
     "text": [
      "Inventario original: [104, 87, 156, 42, 199, 123]\n",
      "Inventario ordenado (decreciente): [199, 156, 123, 104, 87, 42]\n"
     ]
    }
   ],
   "source": [
    "# Lista original de códigos de libres\n",
    "Inventario_libros = [104, 87, 156, 42, 199, 123]\n",
    "\n",
    "# Usamos sorted() para ordenar sin modificar la lista original\n",
    "Inventario_ordenado = sorted(Inventario_libros, reverse=True)\n",
    "\n",
    "# Mostramos ambas listas\n",
    "print(\"Inventario original:\", Inventario_libros)\n",
    "print(\"Inventario ordenado (decreciente):\", Inventario_ordenado)"
   ]
  },
  {
   "cell_type": "markdown",
   "id": "e97fce6d",
   "metadata": {},
   "source": [
    "Como primero paso tenemos que crear una lista con los códigos de identificación de los libros: inventario_libros = [104, 87, 156, 42, 199, 123] Dónde cada número representa un libro diferente. Luego con: sorted(inventario_libros, reverse=True) ésta línea es la clave del desafío ya que la funcioón sorted() es una función que crea una nueva lista ordenada pero que no modifica la original. Y el parámetro( que es un dato o variable que se toma como necesario para analizar una situación y dentro de una familia de elementos sirve para identificar cada uno de ellos mediante su valor numérico) reverse=True usanod este parametro entonces nos indica que queremos ordenar de mayor a menor (orden decreciente). Luego gurdamos el resultado en una nueva lista llamada inventario_ordenado. Luego con print(\"Inventario original:\", inventario_libros) mostramos la lista original, es decir, que se mantiene igual, Luego con print(\"Inventario ordenado (decreciente):\", Inventario_ordenado) mostramos la nueva lista ordenada. Y por qué es importante no modificar la lista original? Porque muchas veces vamos a necesitar usar esa lista original más adelante en el programa, y si la cambiamos, perdemos los datos tal como estaban al principio, y eso puede causar errores o confusión más adelante. Y porque no usar .sort()? Porque .sort() es un método que modifica directamente la lista original, no crea una copia. Por eje,plo si hubieramos usado: inventario_libros.sort(reverse=True)\n",
    "Entonces la lista original se ordenaría permanentemente y ya no podríamos recuperarla como estaba antes."
   ]
  },
  {
   "cell_type": "markdown",
   "id": "d2fd08c0",
   "metadata": {},
   "source": [
    "# Desafío 3: Caracteres ASCII\n",
    "Eres un desarrollador creando una herramienta educativa que muestra los caracteres ASCII correspondientes a una lista de números. Se recomienda usar la función chr() para convertir los números en caracteres.\n"
   ]
  },
  {
   "cell_type": "markdown",
   "id": "8c06647c",
   "metadata": {},
   "source": [
    "Primero que nada, ¿Qué es el código ASCII?, éste es un sistema que asigna un número a cada carácter (letra, símbolo, número, etc) Por ejemplo, el número 65 representa la letra \"A\", el 97 representa \"a\", y el 33 representa \"!\", En Python podemos usar la función chr() para convertir un número en el carácter ASCII que le corresponde."
   ]
  },
  {
   "cell_type": "code",
   "execution_count": 5,
   "id": "a56a851f",
   "metadata": {},
   "outputs": [
    {
     "name": "stdout",
     "output_type": "stream",
     "text": [
      "Lista original de números: [65, 66, 67, 97, 98, 99, 33, 64, 35]\n",
      "Caracteres ASCII correspondientes: ['A', 'B', 'C', 'a', 'b', 'c', '!', '@', '#']\n"
     ]
    }
   ],
   "source": [
    "# Lista de números que queremos convertir a caracteres ASCII\n",
    "numeros_ascii = [65, 66, 67, 97, 98, 99, 33, 64, 35]\n",
    "\n",
    "# Creamos una lista vacía donde vamos a guardar los caracteres\n",
    "caracteres = []\n",
    "\n",
    "# Recorremos cada número en la lista de números\n",
    "for numero in numeros_ascii:\n",
    "    # Convertimos el número a su carácter ASCII con chr()\n",
    "    caracter = chr(numero)\n",
    "    # Agregamos ese carácter a la nueva lista\n",
    "    caracteres.append(caracter)\n",
    "\n",
    "# Mostramos el resultado\n",
    "print(\"Lista original de números:\", numeros_ascii)\n",
    "print(\"Caracteres ASCII correspondientes:\", caracteres)\n"
   ]
  },
  {
   "cell_type": "markdown",
   "id": "c78eb5c0",
   "metadata": {},
   "source": [
    "El paso 1 es crear una lista con varíos números, donde cada uno representa un carácter ASCII, en este caso: numeros_ascii = [65, 66, 67, 97, 98, 99, 33, 64, 35]. Luego creamos una lista vacía donde vamos a guardar los caracteres que resulten de la conversión: caracteres = []. Después usamos un bucle for para recorrer cada número de la lista. Cada vez que pasa por un número, ese número se guarda temporalmente en la variable número: for numero in numeros_ascii:.\n",
    "Luego con la función: chr(numero) la vamos a usar para convertir el número que está en la variable numero a su caracter ASCII, por ejemplo, chr(65) devuelve \"A\". Luego utilizamos caracteres.append(caracter), con esto agregamos el caracter que obtuvimos a la lista caracteres, que al final contendrá todos los símbolos convertidos. Finalmente el ultimo paso es utilizar: print(...), con esto imprimimos las dos listas: primero la de números originales, y despúes la lista con los caracteres ASCII resultantes."
   ]
  },
  {
   "cell_type": "markdown",
   "id": "647b0489",
   "metadata": {},
   "source": [
    "# Desafío 4: Control de Notas de Estudiantes\n",
    "Como profesor, necesitas manejar las notas de tus estudiantes. Permite ingresar todas las notas de los estudiantes y realiza varias operaciones con esos datos.\n",
    "\n",
    "**Pregunta 1: Calcula el promedio de las notas de la clase. ¿Cómo lo harías?**\n",
    "\n",
    "**Pregunta 2: Encuentra la nota más baja y la más alta. ¿Cómo lo harías?**\n",
    "\n",
    "**Pregunta 3: Identifica la nota que más se repite. ¿Cómo lo harías?**\n",
    "\n",
    "_Nota:_ La función Counter es útil porque simplifica el conteo de elementos en una lista, permitiendo identificar rápidamente la frecuencia de cada nota."
   ]
  },
  {
   "cell_type": "markdown",
   "id": "b62d217b",
   "metadata": {},
   "source": [
    "Las respuestas a las preguntas 1 y 2 están resueltas en la tarea que entregué en crea y también guardada en un cuaderno en VScode y en mi repositorio de programación 1 en mi cuenta de GitHub; Llamada: desafios_3_7_arreglos."
   ]
  },
  {
   "cell_type": "markdown",
   "id": "5f08cd3c",
   "metadata": {},
   "source": [
    "**Pregunta 3: Identifica la nota que más se repite. ¿Cómo lo harías?**\n",
    "\n",
    "_Nota:_ La función Counter es útil porque simplifica el conteo de elementos en una lista, permitiendo identificar rápidamente la frecuencia de cada nota."
   ]
  },
  {
   "cell_type": "markdown",
   "id": "b9976e0e",
   "metadata": {},
   "source": [
    "Primero que nada entender que es un counter, básicamente es como un contador automático de cosas, le pasas una lista y te dice cuántas veces aparece cada elemento "
   ]
  },
  {
   "cell_type": "code",
   "execution_count": 6,
   "id": "3edfd71e",
   "metadata": {},
   "outputs": [
    {
     "name": "stdout",
     "output_type": "stream",
     "text": [
      "Frecuencia de cada nota: Counter({6: 2, 8: 1, 10: 1})\n",
      "La nota que más se repite es: 6 y aparece 2 veces.\n"
     ]
    }
   ],
   "source": [
    "# Importammos la clase Counter desde el módulo collections\n",
    "\n",
    "from collections import Counter\n",
    "\n",
    "# Lista de notas de los estudiantes\n",
    "\n",
    "notas = [6, 8, 6, 10]\n",
    "\n",
    "# Usamos Counter para contar cuántas veces aparece cada nota\n",
    "conteo_notas = Counter(notas)\n",
    "\n",
    "# Mostramos el conteo de cada nota\n",
    "\n",
    "print(\"Frecuencia de cada nota:\", conteo_notas)\n",
    "\n",
    "#Usamos el método momst_common(1) para contar la más repetida\n",
    "nota_mas_repetida = conteo_notas.most_common(1)\n",
    "\n",
    "# Mostramos la nota que más se repite\n",
    "\n",
    "print(\"La nota que más se repite es:\", nota_mas_repetida [0][0],\"y aparece\", nota_mas_repetida[0][1], \"veces.\")"
   ]
  },
  {
   "cell_type": "markdown",
   "id": "d77391e0",
   "metadata": {},
   "source": [
    "Como primer paso utilizamos import Counter, esto nos permite usar Counter en nuestro código. y collections es un módulo que tiene herramientas especiales para trabajar con listas e otras estructuras. En el segundo paso ponemos nuestras notas, en este caso: [6, 8, 6, 10] esta es la lista con las calificaciones de los estudiantes. Luego el paso 3 seria: conteo_notas = Counter(notas), acá estamos contando cuántas veces aparece cada nota en la lista, por ejemplo, lo guarda como {6: 2}, luego en el print(\"Frecuencia de cada nota:\", conteo_notas), esto muestra algo como: Counter({10: 1, 8: 1, 6: 2}) - el primer número es el de la lista y el segundo e s la cantidad de veces que aparece, su posición-\n",
    "Luego en el paso 5 utilizamos: notas_mas_repetida = conteo_notas.most_common(1), esta línea es clave: most_common(1) significa \"decime cuál es el valor más común\" (solo el primero) esto devuelve una lista con una tupla, como esta: [(6, 2)], dónde: 6 es la nota que más se repite y 2 es la cantidad de veces que aparece. Finalmente ne el paso 6: nota_mas_repetida[0][0] y nota_mas_repetida[0][1] el [0] accede a la primera tupla de la lista, el [0][0] te da la nota(por ejemplo, 10) y [0][1] te da cuántas veces aparece (por ejemplo, 1)"
   ]
  }
 ],
 "metadata": {
  "kernelspec": {
   "display_name": "Python 3",
   "language": "python",
   "name": "python3"
  },
  "language_info": {
   "codemirror_mode": {
    "name": "ipython",
    "version": 3
   },
   "file_extension": ".py",
   "mimetype": "text/x-python",
   "name": "python",
   "nbconvert_exporter": "python",
   "pygments_lexer": "ipython3",
   "version": "3.13.2"
  }
 },
 "nbformat": 4,
 "nbformat_minor": 5
}
