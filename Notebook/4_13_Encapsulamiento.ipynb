{
  "cells": [
    {
      "cell_type": "markdown",
      "metadata": {},
      "source": [
        "## Introducción al Encapsulamiento y acceso a miembros\n",
        "\n",
        "El encapsulamiento es uno de los cuatro pilares fundamentales de la Programación Orientada a Objetos (POO). Se refiere a la restricción del acceso a ciertos componentes de un objeto, asegurando que solo se pueda acceder a ciertos atributos y métodos de un objeto desde fuera de la clase de la manera deseada.\n",
        "\n",
        "### Pregunta problema: \n",
        "Imagina que estás diseñando una clase Autor para una biblioteca. ¿Cómo puedes garantizar que ciertos atributos, como el nombre, la nacionalidad o la fecha de nacimiento, no sean modificados accidentalmente o accedidos de manera inapropiada?\n",
        "\n",
        "A modo de ejemplo, un encapsulamiento es como una cápsula protectora que rodea los datos y métodos de una clase. Imaginando que tenemos una caja fuerte: adentro guardas cosas valiosas (los datos) y solo ciertas personas con la combinación correcta pueden acceder a ellas (los métodos públicos)\n",
        " ¿Para que sirve? tiene dos objetivos principales: \n",
        " 1- Proteger los datos: evita que otras partes del programa modifiquen directamente los datos internos de un objeto de manera incorrecta.\n",
        " 2- Facilita el mantenimiento: si necesitas cambiar como funciona algo internamente, podes hacerlo sin afectar el resto del código."
      ]
    },
    {
      "cell_type": "markdown",
      "metadata": {},
      "source": [
        "## Conceptos clave\n",
        "\n",
        "_Encapsulamiento:_ Es la técnica de hacer que los campos de una clase sean privados o protegidos y proporcionar acceso a través de métodos públicos.\n",
        "\n",
        "Diferencias entre \"_\" y \"__\" en Python:\n",
        "\n",
        "_: Se utiliza para indicar que un atributo o método es protegido. Aunque técnicamente aún es accesible desde fuera de la clase, por convención se entiende que no debe ser accedido directamente. Sin embargo, esta protección es solo una convención y no impide realmente el acceso.\n",
        "\n",
        "__: Se utiliza para indicar que un atributo o método es privado. Esto modifica el nombre del atributo/método de manera que es más difícil de acceder desde fuera de la clase, proporcionando una capa adicional de seguridad."
      ]
    },
    {
      "cell_type": "markdown",
      "metadata": {},
      "source": [
        "## Ejemplos prácticos"
      ]
    },
    {
      "cell_type": "markdown",
      "metadata": {},
      "source": [
        "### Clase Autor con atributos públicos:"
      ]
    },
    {
      "cell_type": "code",
      "execution_count": null,
      "metadata": {},
      "outputs": [],
      "source": [
        "class Autor:\n",
        "    def __init__(self, nombre, nacionalidad):\n",
        "        self.nombre = nombre\n",
        "        self.nacionalidad = nacionalidad\n",
        "\n",
        "    def mostrar_autor(self):\n",
        "        print(f\"Nombre: {self.nombre}\")\n",
        "        print(f\"Nacionalidad: {self.nacionalidad}\")\n"
      ]
    },
    {
      "cell_type": "markdown",
      "metadata": {},
      "source": [
        "Este diseño, aunque funcional, no protege los atributos nombre y nacionalidad de modificaciones no deseadas.\n",
        "\n",
        "### Clase Autor con atributos protegidos:"
      ]
    },
    {
      "cell_type": "code",
      "execution_count": null,
      "metadata": {},
      "outputs": [],
      "source": [
        "class Autor:\n",
        "    def __init__(self, nombre, nacionalidad):\n",
        "        self._nombre = nombre\n",
        "        self._nacionalidad = nacionalidad\n"
      ]
    },
    {
      "cell_type": "markdown",
      "metadata": {},
      "source": [
        "Aquí, hemos marcado los atributos como protegidos usando un solo guion bajo. Esto indica que no deben ser accedidos directamente, pero aún es posible hacerlo.\n",
        "\n",
        "### Clase Autor con atributos privados y métodos getter y setter:"
      ]
    },
    {
      "cell_type": "code",
      "execution_count": null,
      "metadata": {},
      "outputs": [],
      "source": [
        "class Autor:\n",
        "    def __init__(self, nombre, nacionalidad):\n",
        "        self.__nombre = nombre\n",
        "        self.__nacionalidad = nacionalidad\n",
        "\n",
        "    def get_nombre(self):\n",
        "        return self.__nombre\n",
        "\n",
        "    def set_nombre(self, nombre):\n",
        "        self.__nombre = nombre\n",
        "\n",
        "    def get_nacionalidad(self):\n",
        "        return self.__nacionalidad\n",
        "\n",
        "    def set_nacionalidad(self, nacionalidad):\n",
        "        self.__nacionalidad = nacionalidad\n"
      ]
    },
    {
      "cell_type": "markdown",
      "metadata": {},
      "source": [
        "Con los atributos marcados como privados, ahora es mucho más difícil acceder a ellos desde fuera de la clase. Los métodos getter y setter nos permiten controlar cómo se accede y modifica la información."
      ]
    },
    {
      "cell_type": "markdown",
      "metadata": {},
      "source": [
        "## 3 Ejemplos con los tres niveles de acceso\n",
        "\n",
        "1) Publico: acceso total\n",
        "Todo el mundo puede ver y usar estos elementos desde cualquier parte del código"
      ]
    },
    {
      "cell_type": "code",
      "execution_count": null,
      "metadata": {},
      "outputs": [],
      "source": [
        "class Persona:\n",
        "    def __init__(self, nombre):\n",
        "        self.nombre = nombre          # PÚBLICO - cualquiera puede acceder\n",
        "    \n",
        "    def saludar(self):               # PÚBLICO - cualquiera puede llamarlo\n",
        "        return f\"Hola, soy {self.nombre}\"\n",
        "\n",
        "# Desde afuera puedo hacer:\n",
        "persona = Persona(\"Juan\")\n",
        "print(persona.nombre)        # ✅ Funciona - es público\n",
        "print(persona.saludar())     # ✅ Funciona - es público\n",
        "persona.nombre = \"Pedro\"     # ✅ Funciona - puedo cambiarlo"
      ]
    },
    {
      "cell_type": "markdown",
      "metadata": {},
      "source": [
        "2. Privado: Solo la misma clase: nadie desde afuera puede acceder, solo los métodos de la misma clase."
      ]
    },
    {
      "cell_type": "code",
      "execution_count": null,
      "metadata": {},
      "outputs": [],
      "source": [
        "class CuentaBancaria:\n",
        "    def __init__(self, saldo):\n",
        "        self.__saldo = saldo         # PRIVADO (doble guión bajo)\n",
        "        self.__pin = \"1234\"          # PRIVADO\n",
        "    \n",
        "    def __validar_pin(self, pin):    # PRIVADO - método interno\n",
        "        return pin == self.__pin\n",
        "    \n",
        "    def retirar(self, cantidad, pin):  # PÚBLICO\n",
        "        if self.__validar_pin(pin):    # Puedo usar métodos privados aquí\n",
        "            if cantidad <= self.__saldo:\n",
        "                self.__saldo -= cantidad\n",
        "                return True\n",
        "        return False\n",
        "\n",
        "# Desde afuera:\n",
        "cuenta = CuentaBancaria(1000)\n",
        "print(cuenta.retirar(100, \"1234\"))  # ✅ Funciona - método público\n",
        "print(cuenta.__saldo)               # ❌ ERROR - es privado\n",
        "cuenta.__pin = \"0000\"               # ❌ No funciona realmente"
      ]
    },
    {
      "cell_type": "markdown",
      "metadata": {},
      "source": [
        "3. Protegido: solo la clase y sus hijas: Pueden acceder la clase original y las clases que heredan de ella."
      ]
    },
    {
      "cell_type": "code",
      "execution_count": null,
      "metadata": {},
      "outputs": [],
      "source": [
        "class Vehiculo:\n",
        "    def __init__(self, marca):\n",
        "        self.marca = marca              # PÚBLICO\n",
        "        self._motor = \"Genérico\"        # PROTEGIDO (un solo guión bajo)\n",
        "        self.__numero_chasis = \"ABC123\" # PRIVADO\n",
        "    \n",
        "    def _arrancar_motor(self):          # PROTEGIDO\n",
        "        return f\"Arrancando {self._motor}\"\n",
        "\n",
        "class Auto(Vehiculo):  # Auto hereda de Vehiculo\n",
        "    def __init__(self, marca, modelo):\n",
        "        super().__init__(marca)\n",
        "        self.modelo = modelo\n",
        "    \n",
        "    def encender(self):\n",
        "        # Puedo usar elementos protegidos de la clase padre:\n",
        "        return self._arrancar_motor()   # ✅ Funciona - es protegido\n",
        "        # return self.__numero_chasis   # ❌ ERROR - es privado del padre\n",
        "\n",
        "# Uso:\n",
        "auto = Auto(\"Toyota\", \"Corolla\")\n",
        "print(auto.encender())          # ✅ Funciona\n",
        "print(auto._motor)              # ⚠️ Técnicamente funciona, pero no deberías\n",
        "print(auto.__numero_chasis)     # ❌ ERROR - es privado"
      ]
    },
    {
      "cell_type": "markdown",
      "metadata": {},
      "source": [
        "## Encapsulamiento de métodos\n",
        "\n",
        "El encapsulamiento no se limita solo a los atributos; también podemos encapsular métodos. Esto será explorado en profundidad en el tema de polimorfismo."
      ]
    },
    {
      "cell_type": "markdown",
      "metadata": {},
      "source": [
        "## Desafíos"
      ]
    },
    {
      "cell_type": "markdown",
      "metadata": {},
      "source": [
        "### Desafío 1: (52)\n",
        "Crea una clase Libro que tenga atributos privados para el título, autor y ISBN. Proporciona métodos getter y setter para cada atributo.\n",
        "\n",
        "### Desafío 2: (53)\n",
        "Modifica la clase Autor para que pueda tener una lista de libros escritos por el autor. Proporciona un método para agregar libros a esta lista.\n",
        "\n",
        "### Desafío 3: (54)\n",
        "Implementa la clase Autor con métodos getter y setter utilizando decoradores @property para manejar los atributos privados nombre y nacionalidad.\n",
        "\n",
        "### Desafío 4: (55)\n",
        "Crea una función que tome un objeto Autor y devuelva una lista de todos los títulos de libros escritos por el autor. Asegúrate de que la lista de libros sea accesible solo a través de métodos de la clase Autor.\n",
        "\n",
        "### Desafío 5: (56)\n",
        "Desarrolla una función que reciba una lista de objetos Autor y devuelva el autor que ha escrito el mayor número de libros. Utiliza el encapsulamiento para acceder a la información necesaria de cada objeto Autor."
      ]
    },
    {
      "cell_type": "markdown",
      "metadata": {},
      "source": [
        "## Referencias"
      ]
    },
    {
      "cell_type": "markdown",
      "metadata": {},
      "source": [
        "- [Enlace a Recurso 1](#)\n",
        "- [Enlace a Recurso 2](#)"
      ]
    }
  ],
  "metadata": {
    "kernelspec": {
      "display_name": "Python 3",
      "language": "python",
      "name": "python3"
    },
    "language_info": {
      "codemirror_mode": {
        "name": "ipython",
        "version": 3
      },
      "file_extension": ".py",
      "mimetype": "text/x-python",
      "name": "python",
      "nbconvert_exporter": "python",
      "pygments_lexer": "ipython3",
      "version": "3.8.5"
    }
  },
  "nbformat": 4,
  "nbformat_minor": 4
}
